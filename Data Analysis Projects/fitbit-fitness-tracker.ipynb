{
 "cells": [
  {
   "cell_type": "markdown",
   "id": "d8eba659",
   "metadata": {
    "papermill": {
     "duration": 0.014235,
     "end_time": "2024-08-23T12:56:05.735213",
     "exception": false,
     "start_time": "2024-08-23T12:56:05.720978",
     "status": "completed"
    },
    "tags": []
   },
   "source": [
    "## import neccesser library"
   ]
  },
  {
   "cell_type": "code",
   "execution_count": 1,
   "id": "3dfcf3d4",
   "metadata": {
    "execution": {
     "iopub.execute_input": "2024-08-23T12:56:05.757619Z",
     "iopub.status.busy": "2024-08-23T12:56:05.757087Z",
     "iopub.status.idle": "2024-08-23T12:56:08.350270Z",
     "shell.execute_reply": "2024-08-23T12:56:08.349246Z"
    },
    "papermill": {
     "duration": 2.607426,
     "end_time": "2024-08-23T12:56:08.352913",
     "exception": false,
     "start_time": "2024-08-23T12:56:05.745487",
     "status": "completed"
    },
    "tags": []
   },
   "outputs": [],
   "source": [
    "import pandas as pd\n",
    "import numpy as np\n",
    "import seaborn as sns \n",
    "import matplotlib.pyplot as plt \n",
    "%matplotlib inline\n",
    "import datetime as dt"
   ]
  },
  {
   "cell_type": "markdown",
   "id": "c7335beb",
   "metadata": {
    "papermill": {
     "duration": 0.00969,
     "end_time": "2024-08-23T12:56:08.372778",
     "exception": false,
     "start_time": "2024-08-23T12:56:08.363088",
     "status": "completed"
    },
    "tags": []
   },
   "source": [
    "## load data and get info"
   ]
  },
  {
   "cell_type": "code",
   "execution_count": 2,
   "id": "6277e639",
   "metadata": {
    "execution": {
     "iopub.execute_input": "2024-08-23T12:56:08.395023Z",
     "iopub.status.busy": "2024-08-23T12:56:08.393996Z",
     "iopub.status.idle": "2024-08-23T12:56:08.468501Z",
     "shell.execute_reply": "2024-08-23T12:56:08.467404Z"
    },
    "papermill": {
     "duration": 0.088262,
     "end_time": "2024-08-23T12:56:08.470981",
     "exception": false,
     "start_time": "2024-08-23T12:56:08.382719",
     "status": "completed"
    },
    "tags": []
   },
   "outputs": [
    {
     "data": {
      "text/html": [
       "<div>\n",
       "<style scoped>\n",
       "    .dataframe tbody tr th:only-of-type {\n",
       "        vertical-align: middle;\n",
       "    }\n",
       "\n",
       "    .dataframe tbody tr th {\n",
       "        vertical-align: top;\n",
       "    }\n",
       "\n",
       "    .dataframe thead th {\n",
       "        text-align: right;\n",
       "    }\n",
       "</style>\n",
       "<table border=\"1\" class=\"dataframe\">\n",
       "  <thead>\n",
       "    <tr style=\"text-align: right;\">\n",
       "      <th></th>\n",
       "      <th>Id</th>\n",
       "      <th>ActivityDate</th>\n",
       "      <th>TotalSteps</th>\n",
       "      <th>TotalDistance</th>\n",
       "      <th>TrackerDistance</th>\n",
       "      <th>LoggedActivitiesDistance</th>\n",
       "      <th>VeryActiveDistance</th>\n",
       "      <th>ModeratelyActiveDistance</th>\n",
       "      <th>LightActiveDistance</th>\n",
       "      <th>SedentaryActiveDistance</th>\n",
       "      <th>VeryActiveMinutes</th>\n",
       "      <th>FairlyActiveMinutes</th>\n",
       "      <th>LightlyActiveMinutes</th>\n",
       "      <th>SedentaryMinutes</th>\n",
       "      <th>Calories</th>\n",
       "    </tr>\n",
       "  </thead>\n",
       "  <tbody>\n",
       "    <tr>\n",
       "      <th>0</th>\n",
       "      <td>1503960366</td>\n",
       "      <td>3/25/2016</td>\n",
       "      <td>11004</td>\n",
       "      <td>7.110000</td>\n",
       "      <td>7.110000</td>\n",
       "      <td>0.0</td>\n",
       "      <td>2.57</td>\n",
       "      <td>0.46</td>\n",
       "      <td>4.07</td>\n",
       "      <td>0.00</td>\n",
       "      <td>33</td>\n",
       "      <td>12</td>\n",
       "      <td>205</td>\n",
       "      <td>804</td>\n",
       "      <td>1819</td>\n",
       "    </tr>\n",
       "    <tr>\n",
       "      <th>1</th>\n",
       "      <td>1503960366</td>\n",
       "      <td>3/26/2016</td>\n",
       "      <td>17609</td>\n",
       "      <td>11.550000</td>\n",
       "      <td>11.550000</td>\n",
       "      <td>0.0</td>\n",
       "      <td>6.92</td>\n",
       "      <td>0.73</td>\n",
       "      <td>3.91</td>\n",
       "      <td>0.00</td>\n",
       "      <td>89</td>\n",
       "      <td>17</td>\n",
       "      <td>274</td>\n",
       "      <td>588</td>\n",
       "      <td>2154</td>\n",
       "    </tr>\n",
       "    <tr>\n",
       "      <th>2</th>\n",
       "      <td>1503960366</td>\n",
       "      <td>3/27/2016</td>\n",
       "      <td>12736</td>\n",
       "      <td>8.530000</td>\n",
       "      <td>8.530000</td>\n",
       "      <td>0.0</td>\n",
       "      <td>4.66</td>\n",
       "      <td>0.16</td>\n",
       "      <td>3.71</td>\n",
       "      <td>0.00</td>\n",
       "      <td>56</td>\n",
       "      <td>5</td>\n",
       "      <td>268</td>\n",
       "      <td>605</td>\n",
       "      <td>1944</td>\n",
       "    </tr>\n",
       "    <tr>\n",
       "      <th>3</th>\n",
       "      <td>1503960366</td>\n",
       "      <td>3/28/2016</td>\n",
       "      <td>13231</td>\n",
       "      <td>8.930000</td>\n",
       "      <td>8.930000</td>\n",
       "      <td>0.0</td>\n",
       "      <td>3.19</td>\n",
       "      <td>0.79</td>\n",
       "      <td>4.95</td>\n",
       "      <td>0.00</td>\n",
       "      <td>39</td>\n",
       "      <td>20</td>\n",
       "      <td>224</td>\n",
       "      <td>1080</td>\n",
       "      <td>1932</td>\n",
       "    </tr>\n",
       "    <tr>\n",
       "      <th>4</th>\n",
       "      <td>1503960366</td>\n",
       "      <td>3/29/2016</td>\n",
       "      <td>12041</td>\n",
       "      <td>7.850000</td>\n",
       "      <td>7.850000</td>\n",
       "      <td>0.0</td>\n",
       "      <td>2.16</td>\n",
       "      <td>1.09</td>\n",
       "      <td>4.61</td>\n",
       "      <td>0.00</td>\n",
       "      <td>28</td>\n",
       "      <td>28</td>\n",
       "      <td>243</td>\n",
       "      <td>763</td>\n",
       "      <td>1886</td>\n",
       "    </tr>\n",
       "    <tr>\n",
       "      <th>...</th>\n",
       "      <td>...</td>\n",
       "      <td>...</td>\n",
       "      <td>...</td>\n",
       "      <td>...</td>\n",
       "      <td>...</td>\n",
       "      <td>...</td>\n",
       "      <td>...</td>\n",
       "      <td>...</td>\n",
       "      <td>...</td>\n",
       "      <td>...</td>\n",
       "      <td>...</td>\n",
       "      <td>...</td>\n",
       "      <td>...</td>\n",
       "      <td>...</td>\n",
       "      <td>...</td>\n",
       "    </tr>\n",
       "    <tr>\n",
       "      <th>452</th>\n",
       "      <td>8877689391</td>\n",
       "      <td>4/8/2016</td>\n",
       "      <td>23014</td>\n",
       "      <td>20.389999</td>\n",
       "      <td>20.389999</td>\n",
       "      <td>0.0</td>\n",
       "      <td>11.10</td>\n",
       "      <td>0.63</td>\n",
       "      <td>8.62</td>\n",
       "      <td>0.00</td>\n",
       "      <td>70</td>\n",
       "      <td>29</td>\n",
       "      <td>359</td>\n",
       "      <td>982</td>\n",
       "      <td>4196</td>\n",
       "    </tr>\n",
       "    <tr>\n",
       "      <th>453</th>\n",
       "      <td>8877689391</td>\n",
       "      <td>4/9/2016</td>\n",
       "      <td>16470</td>\n",
       "      <td>8.070000</td>\n",
       "      <td>8.070000</td>\n",
       "      <td>0.0</td>\n",
       "      <td>0.00</td>\n",
       "      <td>0.02</td>\n",
       "      <td>8.02</td>\n",
       "      <td>0.00</td>\n",
       "      <td>90</td>\n",
       "      <td>9</td>\n",
       "      <td>289</td>\n",
       "      <td>1052</td>\n",
       "      <td>3841</td>\n",
       "    </tr>\n",
       "    <tr>\n",
       "      <th>454</th>\n",
       "      <td>8877689391</td>\n",
       "      <td>4/10/2016</td>\n",
       "      <td>28497</td>\n",
       "      <td>27.530001</td>\n",
       "      <td>27.530001</td>\n",
       "      <td>0.0</td>\n",
       "      <td>21.92</td>\n",
       "      <td>1.12</td>\n",
       "      <td>4.46</td>\n",
       "      <td>0.00</td>\n",
       "      <td>128</td>\n",
       "      <td>46</td>\n",
       "      <td>211</td>\n",
       "      <td>1055</td>\n",
       "      <td>4526</td>\n",
       "    </tr>\n",
       "    <tr>\n",
       "      <th>455</th>\n",
       "      <td>8877689391</td>\n",
       "      <td>4/11/2016</td>\n",
       "      <td>10622</td>\n",
       "      <td>8.060000</td>\n",
       "      <td>8.060000</td>\n",
       "      <td>0.0</td>\n",
       "      <td>1.47</td>\n",
       "      <td>0.15</td>\n",
       "      <td>6.37</td>\n",
       "      <td>0.01</td>\n",
       "      <td>18</td>\n",
       "      <td>7</td>\n",
       "      <td>225</td>\n",
       "      <td>1190</td>\n",
       "      <td>2820</td>\n",
       "    </tr>\n",
       "    <tr>\n",
       "      <th>456</th>\n",
       "      <td>8877689391</td>\n",
       "      <td>4/12/2016</td>\n",
       "      <td>2350</td>\n",
       "      <td>1.780000</td>\n",
       "      <td>1.780000</td>\n",
       "      <td>0.0</td>\n",
       "      <td>0.00</td>\n",
       "      <td>0.00</td>\n",
       "      <td>1.78</td>\n",
       "      <td>0.00</td>\n",
       "      <td>0</td>\n",
       "      <td>0</td>\n",
       "      <td>58</td>\n",
       "      <td>531</td>\n",
       "      <td>938</td>\n",
       "    </tr>\n",
       "  </tbody>\n",
       "</table>\n",
       "<p>457 rows × 15 columns</p>\n",
       "</div>"
      ],
      "text/plain": [
       "             Id ActivityDate  TotalSteps  TotalDistance  TrackerDistance  \\\n",
       "0    1503960366    3/25/2016       11004       7.110000         7.110000   \n",
       "1    1503960366    3/26/2016       17609      11.550000        11.550000   \n",
       "2    1503960366    3/27/2016       12736       8.530000         8.530000   \n",
       "3    1503960366    3/28/2016       13231       8.930000         8.930000   \n",
       "4    1503960366    3/29/2016       12041       7.850000         7.850000   \n",
       "..          ...          ...         ...            ...              ...   \n",
       "452  8877689391     4/8/2016       23014      20.389999        20.389999   \n",
       "453  8877689391     4/9/2016       16470       8.070000         8.070000   \n",
       "454  8877689391    4/10/2016       28497      27.530001        27.530001   \n",
       "455  8877689391    4/11/2016       10622       8.060000         8.060000   \n",
       "456  8877689391    4/12/2016        2350       1.780000         1.780000   \n",
       "\n",
       "     LoggedActivitiesDistance  VeryActiveDistance  ModeratelyActiveDistance  \\\n",
       "0                         0.0                2.57                      0.46   \n",
       "1                         0.0                6.92                      0.73   \n",
       "2                         0.0                4.66                      0.16   \n",
       "3                         0.0                3.19                      0.79   \n",
       "4                         0.0                2.16                      1.09   \n",
       "..                        ...                 ...                       ...   \n",
       "452                       0.0               11.10                      0.63   \n",
       "453                       0.0                0.00                      0.02   \n",
       "454                       0.0               21.92                      1.12   \n",
       "455                       0.0                1.47                      0.15   \n",
       "456                       0.0                0.00                      0.00   \n",
       "\n",
       "     LightActiveDistance  SedentaryActiveDistance  VeryActiveMinutes  \\\n",
       "0                   4.07                     0.00                 33   \n",
       "1                   3.91                     0.00                 89   \n",
       "2                   3.71                     0.00                 56   \n",
       "3                   4.95                     0.00                 39   \n",
       "4                   4.61                     0.00                 28   \n",
       "..                   ...                      ...                ...   \n",
       "452                 8.62                     0.00                 70   \n",
       "453                 8.02                     0.00                 90   \n",
       "454                 4.46                     0.00                128   \n",
       "455                 6.37                     0.01                 18   \n",
       "456                 1.78                     0.00                  0   \n",
       "\n",
       "     FairlyActiveMinutes  LightlyActiveMinutes  SedentaryMinutes  Calories  \n",
       "0                     12                   205               804      1819  \n",
       "1                     17                   274               588      2154  \n",
       "2                      5                   268               605      1944  \n",
       "3                     20                   224              1080      1932  \n",
       "4                     28                   243               763      1886  \n",
       "..                   ...                   ...               ...       ...  \n",
       "452                   29                   359               982      4196  \n",
       "453                    9                   289              1052      3841  \n",
       "454                   46                   211              1055      4526  \n",
       "455                    7                   225              1190      2820  \n",
       "456                    0                    58               531       938  \n",
       "\n",
       "[457 rows x 15 columns]"
      ]
     },
     "execution_count": 2,
     "metadata": {},
     "output_type": "execute_result"
    }
   ],
   "source": [
    "df = pd.read_csv('/kaggle/input/fitbit/mturkfitbit_export_3.12.16-4.11.16/Fitabase Data 3.12.16-4.11.16/dailyActivity_merged.csv')\n",
    "df"
   ]
  },
  {
   "cell_type": "code",
   "execution_count": 3,
   "id": "06ee8a8b",
   "metadata": {
    "execution": {
     "iopub.execute_input": "2024-08-23T12:56:08.494159Z",
     "iopub.status.busy": "2024-08-23T12:56:08.493719Z",
     "iopub.status.idle": "2024-08-23T12:56:08.514943Z",
     "shell.execute_reply": "2024-08-23T12:56:08.513845Z"
    },
    "papermill": {
     "duration": 0.035561,
     "end_time": "2024-08-23T12:56:08.517257",
     "exception": false,
     "start_time": "2024-08-23T12:56:08.481696",
     "status": "completed"
    },
    "tags": []
   },
   "outputs": [
    {
     "data": {
      "text/html": [
       "<div>\n",
       "<style scoped>\n",
       "    .dataframe tbody tr th:only-of-type {\n",
       "        vertical-align: middle;\n",
       "    }\n",
       "\n",
       "    .dataframe tbody tr th {\n",
       "        vertical-align: top;\n",
       "    }\n",
       "\n",
       "    .dataframe thead th {\n",
       "        text-align: right;\n",
       "    }\n",
       "</style>\n",
       "<table border=\"1\" class=\"dataframe\">\n",
       "  <thead>\n",
       "    <tr style=\"text-align: right;\">\n",
       "      <th></th>\n",
       "      <th>Id</th>\n",
       "      <th>ActivityDate</th>\n",
       "      <th>TotalSteps</th>\n",
       "      <th>TotalDistance</th>\n",
       "      <th>TrackerDistance</th>\n",
       "      <th>LoggedActivitiesDistance</th>\n",
       "      <th>VeryActiveDistance</th>\n",
       "      <th>ModeratelyActiveDistance</th>\n",
       "      <th>LightActiveDistance</th>\n",
       "      <th>SedentaryActiveDistance</th>\n",
       "      <th>VeryActiveMinutes</th>\n",
       "      <th>FairlyActiveMinutes</th>\n",
       "      <th>LightlyActiveMinutes</th>\n",
       "      <th>SedentaryMinutes</th>\n",
       "      <th>Calories</th>\n",
       "    </tr>\n",
       "  </thead>\n",
       "  <tbody>\n",
       "    <tr>\n",
       "      <th>0</th>\n",
       "      <td>1503960366</td>\n",
       "      <td>3/25/2016</td>\n",
       "      <td>11004</td>\n",
       "      <td>7.11</td>\n",
       "      <td>7.11</td>\n",
       "      <td>0.0</td>\n",
       "      <td>2.57</td>\n",
       "      <td>0.46</td>\n",
       "      <td>4.07</td>\n",
       "      <td>0.0</td>\n",
       "      <td>33</td>\n",
       "      <td>12</td>\n",
       "      <td>205</td>\n",
       "      <td>804</td>\n",
       "      <td>1819</td>\n",
       "    </tr>\n",
       "    <tr>\n",
       "      <th>1</th>\n",
       "      <td>1503960366</td>\n",
       "      <td>3/26/2016</td>\n",
       "      <td>17609</td>\n",
       "      <td>11.55</td>\n",
       "      <td>11.55</td>\n",
       "      <td>0.0</td>\n",
       "      <td>6.92</td>\n",
       "      <td>0.73</td>\n",
       "      <td>3.91</td>\n",
       "      <td>0.0</td>\n",
       "      <td>89</td>\n",
       "      <td>17</td>\n",
       "      <td>274</td>\n",
       "      <td>588</td>\n",
       "      <td>2154</td>\n",
       "    </tr>\n",
       "    <tr>\n",
       "      <th>2</th>\n",
       "      <td>1503960366</td>\n",
       "      <td>3/27/2016</td>\n",
       "      <td>12736</td>\n",
       "      <td>8.53</td>\n",
       "      <td>8.53</td>\n",
       "      <td>0.0</td>\n",
       "      <td>4.66</td>\n",
       "      <td>0.16</td>\n",
       "      <td>3.71</td>\n",
       "      <td>0.0</td>\n",
       "      <td>56</td>\n",
       "      <td>5</td>\n",
       "      <td>268</td>\n",
       "      <td>605</td>\n",
       "      <td>1944</td>\n",
       "    </tr>\n",
       "    <tr>\n",
       "      <th>3</th>\n",
       "      <td>1503960366</td>\n",
       "      <td>3/28/2016</td>\n",
       "      <td>13231</td>\n",
       "      <td>8.93</td>\n",
       "      <td>8.93</td>\n",
       "      <td>0.0</td>\n",
       "      <td>3.19</td>\n",
       "      <td>0.79</td>\n",
       "      <td>4.95</td>\n",
       "      <td>0.0</td>\n",
       "      <td>39</td>\n",
       "      <td>20</td>\n",
       "      <td>224</td>\n",
       "      <td>1080</td>\n",
       "      <td>1932</td>\n",
       "    </tr>\n",
       "    <tr>\n",
       "      <th>4</th>\n",
       "      <td>1503960366</td>\n",
       "      <td>3/29/2016</td>\n",
       "      <td>12041</td>\n",
       "      <td>7.85</td>\n",
       "      <td>7.85</td>\n",
       "      <td>0.0</td>\n",
       "      <td>2.16</td>\n",
       "      <td>1.09</td>\n",
       "      <td>4.61</td>\n",
       "      <td>0.0</td>\n",
       "      <td>28</td>\n",
       "      <td>28</td>\n",
       "      <td>243</td>\n",
       "      <td>763</td>\n",
       "      <td>1886</td>\n",
       "    </tr>\n",
       "  </tbody>\n",
       "</table>\n",
       "</div>"
      ],
      "text/plain": [
       "           Id ActivityDate  TotalSteps  TotalDistance  TrackerDistance  \\\n",
       "0  1503960366    3/25/2016       11004           7.11             7.11   \n",
       "1  1503960366    3/26/2016       17609          11.55            11.55   \n",
       "2  1503960366    3/27/2016       12736           8.53             8.53   \n",
       "3  1503960366    3/28/2016       13231           8.93             8.93   \n",
       "4  1503960366    3/29/2016       12041           7.85             7.85   \n",
       "\n",
       "   LoggedActivitiesDistance  VeryActiveDistance  ModeratelyActiveDistance  \\\n",
       "0                       0.0                2.57                      0.46   \n",
       "1                       0.0                6.92                      0.73   \n",
       "2                       0.0                4.66                      0.16   \n",
       "3                       0.0                3.19                      0.79   \n",
       "4                       0.0                2.16                      1.09   \n",
       "\n",
       "   LightActiveDistance  SedentaryActiveDistance  VeryActiveMinutes  \\\n",
       "0                 4.07                      0.0                 33   \n",
       "1                 3.91                      0.0                 89   \n",
       "2                 3.71                      0.0                 56   \n",
       "3                 4.95                      0.0                 39   \n",
       "4                 4.61                      0.0                 28   \n",
       "\n",
       "   FairlyActiveMinutes  LightlyActiveMinutes  SedentaryMinutes  Calories  \n",
       "0                   12                   205               804      1819  \n",
       "1                   17                   274               588      2154  \n",
       "2                    5                   268               605      1944  \n",
       "3                   20                   224              1080      1932  \n",
       "4                   28                   243               763      1886  "
      ]
     },
     "execution_count": 3,
     "metadata": {},
     "output_type": "execute_result"
    }
   ],
   "source": [
    "df.head()"
   ]
  },
  {
   "cell_type": "code",
   "execution_count": 4,
   "id": "3bc8b678",
   "metadata": {
    "execution": {
     "iopub.execute_input": "2024-08-23T12:56:08.541372Z",
     "iopub.status.busy": "2024-08-23T12:56:08.540426Z",
     "iopub.status.idle": "2024-08-23T12:56:08.565561Z",
     "shell.execute_reply": "2024-08-23T12:56:08.564457Z"
    },
    "papermill": {
     "duration": 0.040073,
     "end_time": "2024-08-23T12:56:08.568269",
     "exception": false,
     "start_time": "2024-08-23T12:56:08.528196",
     "status": "completed"
    },
    "tags": []
   },
   "outputs": [
    {
     "name": "stdout",
     "output_type": "stream",
     "text": [
      "<class 'pandas.core.frame.DataFrame'>\n",
      "RangeIndex: 457 entries, 0 to 456\n",
      "Data columns (total 15 columns):\n",
      " #   Column                    Non-Null Count  Dtype  \n",
      "---  ------                    --------------  -----  \n",
      " 0   Id                        457 non-null    int64  \n",
      " 1   ActivityDate              457 non-null    object \n",
      " 2   TotalSteps                457 non-null    int64  \n",
      " 3   TotalDistance             457 non-null    float64\n",
      " 4   TrackerDistance           457 non-null    float64\n",
      " 5   LoggedActivitiesDistance  457 non-null    float64\n",
      " 6   VeryActiveDistance        457 non-null    float64\n",
      " 7   ModeratelyActiveDistance  457 non-null    float64\n",
      " 8   LightActiveDistance       457 non-null    float64\n",
      " 9   SedentaryActiveDistance   457 non-null    float64\n",
      " 10  VeryActiveMinutes         457 non-null    int64  \n",
      " 11  FairlyActiveMinutes       457 non-null    int64  \n",
      " 12  LightlyActiveMinutes      457 non-null    int64  \n",
      " 13  SedentaryMinutes          457 non-null    int64  \n",
      " 14  Calories                  457 non-null    int64  \n",
      "dtypes: float64(7), int64(7), object(1)\n",
      "memory usage: 53.7+ KB\n"
     ]
    }
   ],
   "source": [
    "df.info()"
   ]
  },
  {
   "cell_type": "code",
   "execution_count": 5,
   "id": "e1338026",
   "metadata": {
    "execution": {
     "iopub.execute_input": "2024-08-23T12:56:08.592366Z",
     "iopub.status.busy": "2024-08-23T12:56:08.591670Z",
     "iopub.status.idle": "2024-08-23T12:56:08.643752Z",
     "shell.execute_reply": "2024-08-23T12:56:08.642619Z"
    },
    "papermill": {
     "duration": 0.067114,
     "end_time": "2024-08-23T12:56:08.646355",
     "exception": false,
     "start_time": "2024-08-23T12:56:08.579241",
     "status": "completed"
    },
    "tags": []
   },
   "outputs": [
    {
     "data": {
      "text/html": [
       "<div>\n",
       "<style scoped>\n",
       "    .dataframe tbody tr th:only-of-type {\n",
       "        vertical-align: middle;\n",
       "    }\n",
       "\n",
       "    .dataframe tbody tr th {\n",
       "        vertical-align: top;\n",
       "    }\n",
       "\n",
       "    .dataframe thead th {\n",
       "        text-align: right;\n",
       "    }\n",
       "</style>\n",
       "<table border=\"1\" class=\"dataframe\">\n",
       "  <thead>\n",
       "    <tr style=\"text-align: right;\">\n",
       "      <th></th>\n",
       "      <th>Id</th>\n",
       "      <th>TotalSteps</th>\n",
       "      <th>TotalDistance</th>\n",
       "      <th>TrackerDistance</th>\n",
       "      <th>LoggedActivitiesDistance</th>\n",
       "      <th>VeryActiveDistance</th>\n",
       "      <th>ModeratelyActiveDistance</th>\n",
       "      <th>LightActiveDistance</th>\n",
       "      <th>SedentaryActiveDistance</th>\n",
       "      <th>VeryActiveMinutes</th>\n",
       "      <th>FairlyActiveMinutes</th>\n",
       "      <th>LightlyActiveMinutes</th>\n",
       "      <th>SedentaryMinutes</th>\n",
       "      <th>Calories</th>\n",
       "    </tr>\n",
       "  </thead>\n",
       "  <tbody>\n",
       "    <tr>\n",
       "      <th>count</th>\n",
       "      <td>4.570000e+02</td>\n",
       "      <td>457.000000</td>\n",
       "      <td>457.000000</td>\n",
       "      <td>457.000000</td>\n",
       "      <td>457.000000</td>\n",
       "      <td>457.000000</td>\n",
       "      <td>457.000000</td>\n",
       "      <td>457.000000</td>\n",
       "      <td>457.000000</td>\n",
       "      <td>457.000000</td>\n",
       "      <td>457.000000</td>\n",
       "      <td>457.000000</td>\n",
       "      <td>457.000000</td>\n",
       "      <td>457.000000</td>\n",
       "    </tr>\n",
       "    <tr>\n",
       "      <th>mean</th>\n",
       "      <td>4.628595e+09</td>\n",
       "      <td>6546.562363</td>\n",
       "      <td>4.663523</td>\n",
       "      <td>4.609847</td>\n",
       "      <td>0.179427</td>\n",
       "      <td>1.180897</td>\n",
       "      <td>0.478643</td>\n",
       "      <td>2.890197</td>\n",
       "      <td>0.001904</td>\n",
       "      <td>16.623632</td>\n",
       "      <td>13.070022</td>\n",
       "      <td>170.070022</td>\n",
       "      <td>995.282276</td>\n",
       "      <td>2189.452954</td>\n",
       "    </tr>\n",
       "    <tr>\n",
       "      <th>std</th>\n",
       "      <td>2.293781e+09</td>\n",
       "      <td>5398.493064</td>\n",
       "      <td>4.082072</td>\n",
       "      <td>4.068540</td>\n",
       "      <td>0.849232</td>\n",
       "      <td>2.487159</td>\n",
       "      <td>0.830995</td>\n",
       "      <td>2.237523</td>\n",
       "      <td>0.008487</td>\n",
       "      <td>28.919704</td>\n",
       "      <td>36.208635</td>\n",
       "      <td>122.205372</td>\n",
       "      <td>337.021404</td>\n",
       "      <td>815.484523</td>\n",
       "    </tr>\n",
       "    <tr>\n",
       "      <th>min</th>\n",
       "      <td>1.503960e+09</td>\n",
       "      <td>0.000000</td>\n",
       "      <td>0.000000</td>\n",
       "      <td>0.000000</td>\n",
       "      <td>0.000000</td>\n",
       "      <td>0.000000</td>\n",
       "      <td>0.000000</td>\n",
       "      <td>0.000000</td>\n",
       "      <td>0.000000</td>\n",
       "      <td>0.000000</td>\n",
       "      <td>0.000000</td>\n",
       "      <td>0.000000</td>\n",
       "      <td>32.000000</td>\n",
       "      <td>0.000000</td>\n",
       "    </tr>\n",
       "    <tr>\n",
       "      <th>25%</th>\n",
       "      <td>2.347168e+09</td>\n",
       "      <td>1988.000000</td>\n",
       "      <td>1.410000</td>\n",
       "      <td>1.280000</td>\n",
       "      <td>0.000000</td>\n",
       "      <td>0.000000</td>\n",
       "      <td>0.000000</td>\n",
       "      <td>0.870000</td>\n",
       "      <td>0.000000</td>\n",
       "      <td>0.000000</td>\n",
       "      <td>0.000000</td>\n",
       "      <td>64.000000</td>\n",
       "      <td>728.000000</td>\n",
       "      <td>1776.000000</td>\n",
       "    </tr>\n",
       "    <tr>\n",
       "      <th>50%</th>\n",
       "      <td>4.057193e+09</td>\n",
       "      <td>5986.000000</td>\n",
       "      <td>4.090000</td>\n",
       "      <td>4.090000</td>\n",
       "      <td>0.000000</td>\n",
       "      <td>0.000000</td>\n",
       "      <td>0.020000</td>\n",
       "      <td>2.930000</td>\n",
       "      <td>0.000000</td>\n",
       "      <td>0.000000</td>\n",
       "      <td>1.000000</td>\n",
       "      <td>181.000000</td>\n",
       "      <td>1057.000000</td>\n",
       "      <td>2062.000000</td>\n",
       "    </tr>\n",
       "    <tr>\n",
       "      <th>75%</th>\n",
       "      <td>6.391747e+09</td>\n",
       "      <td>10198.000000</td>\n",
       "      <td>7.160000</td>\n",
       "      <td>7.110000</td>\n",
       "      <td>0.000000</td>\n",
       "      <td>1.310000</td>\n",
       "      <td>0.670000</td>\n",
       "      <td>4.460000</td>\n",
       "      <td>0.000000</td>\n",
       "      <td>25.000000</td>\n",
       "      <td>16.000000</td>\n",
       "      <td>257.000000</td>\n",
       "      <td>1285.000000</td>\n",
       "      <td>2667.000000</td>\n",
       "    </tr>\n",
       "    <tr>\n",
       "      <th>max</th>\n",
       "      <td>8.877689e+09</td>\n",
       "      <td>28497.000000</td>\n",
       "      <td>27.530001</td>\n",
       "      <td>27.530001</td>\n",
       "      <td>6.727057</td>\n",
       "      <td>21.920000</td>\n",
       "      <td>6.400000</td>\n",
       "      <td>12.510000</td>\n",
       "      <td>0.100000</td>\n",
       "      <td>202.000000</td>\n",
       "      <td>660.000000</td>\n",
       "      <td>720.000000</td>\n",
       "      <td>1440.000000</td>\n",
       "      <td>4562.000000</td>\n",
       "    </tr>\n",
       "  </tbody>\n",
       "</table>\n",
       "</div>"
      ],
      "text/plain": [
       "                 Id    TotalSteps  TotalDistance  TrackerDistance  \\\n",
       "count  4.570000e+02    457.000000     457.000000       457.000000   \n",
       "mean   4.628595e+09   6546.562363       4.663523         4.609847   \n",
       "std    2.293781e+09   5398.493064       4.082072         4.068540   \n",
       "min    1.503960e+09      0.000000       0.000000         0.000000   \n",
       "25%    2.347168e+09   1988.000000       1.410000         1.280000   \n",
       "50%    4.057193e+09   5986.000000       4.090000         4.090000   \n",
       "75%    6.391747e+09  10198.000000       7.160000         7.110000   \n",
       "max    8.877689e+09  28497.000000      27.530001        27.530001   \n",
       "\n",
       "       LoggedActivitiesDistance  VeryActiveDistance  ModeratelyActiveDistance  \\\n",
       "count                457.000000          457.000000                457.000000   \n",
       "mean                   0.179427            1.180897                  0.478643   \n",
       "std                    0.849232            2.487159                  0.830995   \n",
       "min                    0.000000            0.000000                  0.000000   \n",
       "25%                    0.000000            0.000000                  0.000000   \n",
       "50%                    0.000000            0.000000                  0.020000   \n",
       "75%                    0.000000            1.310000                  0.670000   \n",
       "max                    6.727057           21.920000                  6.400000   \n",
       "\n",
       "       LightActiveDistance  SedentaryActiveDistance  VeryActiveMinutes  \\\n",
       "count           457.000000               457.000000         457.000000   \n",
       "mean              2.890197                 0.001904          16.623632   \n",
       "std               2.237523                 0.008487          28.919704   \n",
       "min               0.000000                 0.000000           0.000000   \n",
       "25%               0.870000                 0.000000           0.000000   \n",
       "50%               2.930000                 0.000000           0.000000   \n",
       "75%               4.460000                 0.000000          25.000000   \n",
       "max              12.510000                 0.100000         202.000000   \n",
       "\n",
       "       FairlyActiveMinutes  LightlyActiveMinutes  SedentaryMinutes  \\\n",
       "count           457.000000            457.000000        457.000000   \n",
       "mean             13.070022            170.070022        995.282276   \n",
       "std              36.208635            122.205372        337.021404   \n",
       "min               0.000000              0.000000         32.000000   \n",
       "25%               0.000000             64.000000        728.000000   \n",
       "50%               1.000000            181.000000       1057.000000   \n",
       "75%              16.000000            257.000000       1285.000000   \n",
       "max             660.000000            720.000000       1440.000000   \n",
       "\n",
       "          Calories  \n",
       "count   457.000000  \n",
       "mean   2189.452954  \n",
       "std     815.484523  \n",
       "min       0.000000  \n",
       "25%    1776.000000  \n",
       "50%    2062.000000  \n",
       "75%    2667.000000  \n",
       "max    4562.000000  "
      ]
     },
     "execution_count": 5,
     "metadata": {},
     "output_type": "execute_result"
    }
   ],
   "source": [
    "df.describe()"
   ]
  },
  {
   "cell_type": "code",
   "execution_count": 6,
   "id": "afc91cf3",
   "metadata": {
    "execution": {
     "iopub.execute_input": "2024-08-23T12:56:08.672008Z",
     "iopub.status.busy": "2024-08-23T12:56:08.671054Z",
     "iopub.status.idle": "2024-08-23T12:56:08.681964Z",
     "shell.execute_reply": "2024-08-23T12:56:08.680937Z"
    },
    "papermill": {
     "duration": 0.026492,
     "end_time": "2024-08-23T12:56:08.684421",
     "exception": false,
     "start_time": "2024-08-23T12:56:08.657929",
     "status": "completed"
    },
    "tags": []
   },
   "outputs": [
    {
     "data": {
      "text/plain": [
       "35"
      ]
     },
     "execution_count": 6,
     "metadata": {},
     "output_type": "execute_result"
    }
   ],
   "source": [
    "df['Id'].value_counts().count()"
   ]
  },
  {
   "cell_type": "markdown",
   "id": "f60552de",
   "metadata": {
    "papermill": {
     "duration": 0.011231,
     "end_time": "2024-08-23T12:56:08.707332",
     "exception": false,
     "start_time": "2024-08-23T12:56:08.696101",
     "status": "completed"
    },
    "tags": []
   },
   "source": [
    "## Preprocessing Data"
   ]
  },
  {
   "cell_type": "code",
   "execution_count": 7,
   "id": "1996a1a7",
   "metadata": {
    "execution": {
     "iopub.execute_input": "2024-08-23T12:56:08.732542Z",
     "iopub.status.busy": "2024-08-23T12:56:08.731807Z",
     "iopub.status.idle": "2024-08-23T12:56:08.739145Z",
     "shell.execute_reply": "2024-08-23T12:56:08.738157Z"
    },
    "papermill": {
     "duration": 0.022626,
     "end_time": "2024-08-23T12:56:08.741623",
     "exception": false,
     "start_time": "2024-08-23T12:56:08.718997",
     "status": "completed"
    },
    "tags": []
   },
   "outputs": [],
   "source": [
    "m = ['Id','ActivityDate','TotalSteps','VeryActiveMinutes','FairlyActiveMinutes','LightlyActiveMinutes','SedentaryMinutes','Calories']\n",
    "df = df[m]"
   ]
  },
  {
   "cell_type": "code",
   "execution_count": 8,
   "id": "4a02c79c",
   "metadata": {
    "execution": {
     "iopub.execute_input": "2024-08-23T12:56:08.767146Z",
     "iopub.status.busy": "2024-08-23T12:56:08.766691Z",
     "iopub.status.idle": "2024-08-23T12:56:08.779953Z",
     "shell.execute_reply": "2024-08-23T12:56:08.778742Z"
    },
    "papermill": {
     "duration": 0.029336,
     "end_time": "2024-08-23T12:56:08.782726",
     "exception": false,
     "start_time": "2024-08-23T12:56:08.753390",
     "status": "completed"
    },
    "tags": []
   },
   "outputs": [
    {
     "data": {
      "text/html": [
       "<div>\n",
       "<style scoped>\n",
       "    .dataframe tbody tr th:only-of-type {\n",
       "        vertical-align: middle;\n",
       "    }\n",
       "\n",
       "    .dataframe tbody tr th {\n",
       "        vertical-align: top;\n",
       "    }\n",
       "\n",
       "    .dataframe thead th {\n",
       "        text-align: right;\n",
       "    }\n",
       "</style>\n",
       "<table border=\"1\" class=\"dataframe\">\n",
       "  <thead>\n",
       "    <tr style=\"text-align: right;\">\n",
       "      <th></th>\n",
       "      <th>Id</th>\n",
       "      <th>ActivityDate</th>\n",
       "      <th>TotalSteps</th>\n",
       "      <th>VeryActiveMinutes</th>\n",
       "      <th>FairlyActiveMinutes</th>\n",
       "      <th>LightlyActiveMinutes</th>\n",
       "      <th>SedentaryMinutes</th>\n",
       "      <th>Calories</th>\n",
       "    </tr>\n",
       "  </thead>\n",
       "  <tbody>\n",
       "    <tr>\n",
       "      <th>0</th>\n",
       "      <td>1503960366</td>\n",
       "      <td>3/25/2016</td>\n",
       "      <td>11004</td>\n",
       "      <td>33</td>\n",
       "      <td>12</td>\n",
       "      <td>205</td>\n",
       "      <td>804</td>\n",
       "      <td>1819</td>\n",
       "    </tr>\n",
       "    <tr>\n",
       "      <th>1</th>\n",
       "      <td>1503960366</td>\n",
       "      <td>3/26/2016</td>\n",
       "      <td>17609</td>\n",
       "      <td>89</td>\n",
       "      <td>17</td>\n",
       "      <td>274</td>\n",
       "      <td>588</td>\n",
       "      <td>2154</td>\n",
       "    </tr>\n",
       "    <tr>\n",
       "      <th>2</th>\n",
       "      <td>1503960366</td>\n",
       "      <td>3/27/2016</td>\n",
       "      <td>12736</td>\n",
       "      <td>56</td>\n",
       "      <td>5</td>\n",
       "      <td>268</td>\n",
       "      <td>605</td>\n",
       "      <td>1944</td>\n",
       "    </tr>\n",
       "    <tr>\n",
       "      <th>3</th>\n",
       "      <td>1503960366</td>\n",
       "      <td>3/28/2016</td>\n",
       "      <td>13231</td>\n",
       "      <td>39</td>\n",
       "      <td>20</td>\n",
       "      <td>224</td>\n",
       "      <td>1080</td>\n",
       "      <td>1932</td>\n",
       "    </tr>\n",
       "    <tr>\n",
       "      <th>4</th>\n",
       "      <td>1503960366</td>\n",
       "      <td>3/29/2016</td>\n",
       "      <td>12041</td>\n",
       "      <td>28</td>\n",
       "      <td>28</td>\n",
       "      <td>243</td>\n",
       "      <td>763</td>\n",
       "      <td>1886</td>\n",
       "    </tr>\n",
       "  </tbody>\n",
       "</table>\n",
       "</div>"
      ],
      "text/plain": [
       "           Id ActivityDate  TotalSteps  VeryActiveMinutes  \\\n",
       "0  1503960366    3/25/2016       11004                 33   \n",
       "1  1503960366    3/26/2016       17609                 89   \n",
       "2  1503960366    3/27/2016       12736                 56   \n",
       "3  1503960366    3/28/2016       13231                 39   \n",
       "4  1503960366    3/29/2016       12041                 28   \n",
       "\n",
       "   FairlyActiveMinutes  LightlyActiveMinutes  SedentaryMinutes  Calories  \n",
       "0                   12                   205               804      1819  \n",
       "1                   17                   274               588      2154  \n",
       "2                    5                   268               605      1944  \n",
       "3                   20                   224              1080      1932  \n",
       "4                   28                   243               763      1886  "
      ]
     },
     "execution_count": 8,
     "metadata": {},
     "output_type": "execute_result"
    }
   ],
   "source": [
    "df.head()"
   ]
  },
  {
   "cell_type": "code",
   "execution_count": 9,
   "id": "7a86d998",
   "metadata": {
    "_kg_hide-input": false,
    "_kg_hide-output": true,
    "execution": {
     "iopub.execute_input": "2024-08-23T12:56:08.808523Z",
     "iopub.status.busy": "2024-08-23T12:56:08.808064Z",
     "iopub.status.idle": "2024-08-23T12:56:08.816330Z",
     "shell.execute_reply": "2024-08-23T12:56:08.815248Z"
    },
    "papermill": {
     "duration": 0.0243,
     "end_time": "2024-08-23T12:56:08.819112",
     "exception": false,
     "start_time": "2024-08-23T12:56:08.794812",
     "status": "completed"
    },
    "tags": []
   },
   "outputs": [
    {
     "name": "stderr",
     "output_type": "stream",
     "text": [
      "/tmp/ipykernel_17/2277470899.py:1: SettingWithCopyWarning: \n",
      "A value is trying to be set on a copy of a slice from a DataFrame.\n",
      "Try using .loc[row_indexer,col_indexer] = value instead\n",
      "\n",
      "See the caveats in the documentation: https://pandas.pydata.org/pandas-docs/stable/user_guide/indexing.html#returning-a-view-versus-a-copy\n",
      "  df['total_minutes']=df ['VeryActiveMinutes'] + df ['FairlyActiveMinutes'] + df ['LightlyActiveMinutes'] + df ['SedentaryMinutes']\n"
     ]
    }
   ],
   "source": [
    "df['total_minutes']=df ['VeryActiveMinutes'] + df ['FairlyActiveMinutes'] + df ['LightlyActiveMinutes'] + df ['SedentaryMinutes']"
   ]
  },
  {
   "cell_type": "code",
   "execution_count": 10,
   "id": "24d2ba64",
   "metadata": {
    "execution": {
     "iopub.execute_input": "2024-08-23T12:56:08.846002Z",
     "iopub.status.busy": "2024-08-23T12:56:08.845042Z",
     "iopub.status.idle": "2024-08-23T12:56:08.858732Z",
     "shell.execute_reply": "2024-08-23T12:56:08.857561Z"
    },
    "papermill": {
     "duration": 0.029556,
     "end_time": "2024-08-23T12:56:08.861203",
     "exception": false,
     "start_time": "2024-08-23T12:56:08.831647",
     "status": "completed"
    },
    "tags": []
   },
   "outputs": [
    {
     "data": {
      "text/html": [
       "<div>\n",
       "<style scoped>\n",
       "    .dataframe tbody tr th:only-of-type {\n",
       "        vertical-align: middle;\n",
       "    }\n",
       "\n",
       "    .dataframe tbody tr th {\n",
       "        vertical-align: top;\n",
       "    }\n",
       "\n",
       "    .dataframe thead th {\n",
       "        text-align: right;\n",
       "    }\n",
       "</style>\n",
       "<table border=\"1\" class=\"dataframe\">\n",
       "  <thead>\n",
       "    <tr style=\"text-align: right;\">\n",
       "      <th></th>\n",
       "      <th>Id</th>\n",
       "      <th>ActivityDate</th>\n",
       "      <th>TotalSteps</th>\n",
       "      <th>VeryActiveMinutes</th>\n",
       "      <th>FairlyActiveMinutes</th>\n",
       "      <th>LightlyActiveMinutes</th>\n",
       "      <th>SedentaryMinutes</th>\n",
       "      <th>Calories</th>\n",
       "      <th>total_minutes</th>\n",
       "    </tr>\n",
       "  </thead>\n",
       "  <tbody>\n",
       "    <tr>\n",
       "      <th>0</th>\n",
       "      <td>1503960366</td>\n",
       "      <td>3/25/2016</td>\n",
       "      <td>11004</td>\n",
       "      <td>33</td>\n",
       "      <td>12</td>\n",
       "      <td>205</td>\n",
       "      <td>804</td>\n",
       "      <td>1819</td>\n",
       "      <td>1054</td>\n",
       "    </tr>\n",
       "    <tr>\n",
       "      <th>1</th>\n",
       "      <td>1503960366</td>\n",
       "      <td>3/26/2016</td>\n",
       "      <td>17609</td>\n",
       "      <td>89</td>\n",
       "      <td>17</td>\n",
       "      <td>274</td>\n",
       "      <td>588</td>\n",
       "      <td>2154</td>\n",
       "      <td>968</td>\n",
       "    </tr>\n",
       "    <tr>\n",
       "      <th>2</th>\n",
       "      <td>1503960366</td>\n",
       "      <td>3/27/2016</td>\n",
       "      <td>12736</td>\n",
       "      <td>56</td>\n",
       "      <td>5</td>\n",
       "      <td>268</td>\n",
       "      <td>605</td>\n",
       "      <td>1944</td>\n",
       "      <td>934</td>\n",
       "    </tr>\n",
       "    <tr>\n",
       "      <th>3</th>\n",
       "      <td>1503960366</td>\n",
       "      <td>3/28/2016</td>\n",
       "      <td>13231</td>\n",
       "      <td>39</td>\n",
       "      <td>20</td>\n",
       "      <td>224</td>\n",
       "      <td>1080</td>\n",
       "      <td>1932</td>\n",
       "      <td>1363</td>\n",
       "    </tr>\n",
       "    <tr>\n",
       "      <th>4</th>\n",
       "      <td>1503960366</td>\n",
       "      <td>3/29/2016</td>\n",
       "      <td>12041</td>\n",
       "      <td>28</td>\n",
       "      <td>28</td>\n",
       "      <td>243</td>\n",
       "      <td>763</td>\n",
       "      <td>1886</td>\n",
       "      <td>1062</td>\n",
       "    </tr>\n",
       "  </tbody>\n",
       "</table>\n",
       "</div>"
      ],
      "text/plain": [
       "           Id ActivityDate  TotalSteps  VeryActiveMinutes  \\\n",
       "0  1503960366    3/25/2016       11004                 33   \n",
       "1  1503960366    3/26/2016       17609                 89   \n",
       "2  1503960366    3/27/2016       12736                 56   \n",
       "3  1503960366    3/28/2016       13231                 39   \n",
       "4  1503960366    3/29/2016       12041                 28   \n",
       "\n",
       "   FairlyActiveMinutes  LightlyActiveMinutes  SedentaryMinutes  Calories  \\\n",
       "0                   12                   205               804      1819   \n",
       "1                   17                   274               588      2154   \n",
       "2                    5                   268               605      1944   \n",
       "3                   20                   224              1080      1932   \n",
       "4                   28                   243               763      1886   \n",
       "\n",
       "   total_minutes  \n",
       "0           1054  \n",
       "1            968  \n",
       "2            934  \n",
       "3           1363  \n",
       "4           1062  "
      ]
     },
     "execution_count": 10,
     "metadata": {},
     "output_type": "execute_result"
    }
   ],
   "source": [
    "df.head()"
   ]
  },
  {
   "cell_type": "code",
   "execution_count": 11,
   "id": "755c8fb3",
   "metadata": {
    "_kg_hide-output": true,
    "execution": {
     "iopub.execute_input": "2024-08-23T12:56:08.888588Z",
     "iopub.status.busy": "2024-08-23T12:56:08.887724Z",
     "iopub.status.idle": "2024-08-23T12:56:08.894664Z",
     "shell.execute_reply": "2024-08-23T12:56:08.893587Z"
    },
    "papermill": {
     "duration": 0.024315,
     "end_time": "2024-08-23T12:56:08.898114",
     "exception": false,
     "start_time": "2024-08-23T12:56:08.873799",
     "status": "completed"
    },
    "tags": []
   },
   "outputs": [
    {
     "name": "stderr",
     "output_type": "stream",
     "text": [
      "/tmp/ipykernel_17/3835556589.py:2: SettingWithCopyWarning: \n",
      "A value is trying to be set on a copy of a slice from a DataFrame.\n",
      "Try using .loc[row_indexer,col_indexer] = value instead\n",
      "\n",
      "See the caveats in the documentation: https://pandas.pydata.org/pandas-docs/stable/user_guide/indexing.html#returning-a-view-versus-a-copy\n",
      "  df['total_hourse'] = np.round(df['total_minutes']/60)\n"
     ]
    }
   ],
   "source": [
    "# Make this column to calc the total Hours for all acitivity by divide the total miuntes to 60\n",
    "df['total_hourse'] = np.round(df['total_minutes']/60)"
   ]
  },
  {
   "cell_type": "code",
   "execution_count": 12,
   "id": "b7d402ed",
   "metadata": {
    "execution": {
     "iopub.execute_input": "2024-08-23T12:56:08.924924Z",
     "iopub.status.busy": "2024-08-23T12:56:08.924501Z",
     "iopub.status.idle": "2024-08-23T12:56:08.942878Z",
     "shell.execute_reply": "2024-08-23T12:56:08.941757Z"
    },
    "papermill": {
     "duration": 0.03519,
     "end_time": "2024-08-23T12:56:08.945763",
     "exception": false,
     "start_time": "2024-08-23T12:56:08.910573",
     "status": "completed"
    },
    "tags": []
   },
   "outputs": [
    {
     "data": {
      "text/html": [
       "<div>\n",
       "<style scoped>\n",
       "    .dataframe tbody tr th:only-of-type {\n",
       "        vertical-align: middle;\n",
       "    }\n",
       "\n",
       "    .dataframe tbody tr th {\n",
       "        vertical-align: top;\n",
       "    }\n",
       "\n",
       "    .dataframe thead th {\n",
       "        text-align: right;\n",
       "    }\n",
       "</style>\n",
       "<table border=\"1\" class=\"dataframe\">\n",
       "  <thead>\n",
       "    <tr style=\"text-align: right;\">\n",
       "      <th></th>\n",
       "      <th>Id</th>\n",
       "      <th>ActivityDate</th>\n",
       "      <th>TotalSteps</th>\n",
       "      <th>VeryActiveMinutes</th>\n",
       "      <th>FairlyActiveMinutes</th>\n",
       "      <th>LightlyActiveMinutes</th>\n",
       "      <th>SedentaryMinutes</th>\n",
       "      <th>Calories</th>\n",
       "      <th>total_minutes</th>\n",
       "      <th>total_hourse</th>\n",
       "    </tr>\n",
       "  </thead>\n",
       "  <tbody>\n",
       "    <tr>\n",
       "      <th>0</th>\n",
       "      <td>1503960366</td>\n",
       "      <td>3/25/2016</td>\n",
       "      <td>11004</td>\n",
       "      <td>33</td>\n",
       "      <td>12</td>\n",
       "      <td>205</td>\n",
       "      <td>804</td>\n",
       "      <td>1819</td>\n",
       "      <td>1054</td>\n",
       "      <td>18.0</td>\n",
       "    </tr>\n",
       "    <tr>\n",
       "      <th>1</th>\n",
       "      <td>1503960366</td>\n",
       "      <td>3/26/2016</td>\n",
       "      <td>17609</td>\n",
       "      <td>89</td>\n",
       "      <td>17</td>\n",
       "      <td>274</td>\n",
       "      <td>588</td>\n",
       "      <td>2154</td>\n",
       "      <td>968</td>\n",
       "      <td>16.0</td>\n",
       "    </tr>\n",
       "    <tr>\n",
       "      <th>2</th>\n",
       "      <td>1503960366</td>\n",
       "      <td>3/27/2016</td>\n",
       "      <td>12736</td>\n",
       "      <td>56</td>\n",
       "      <td>5</td>\n",
       "      <td>268</td>\n",
       "      <td>605</td>\n",
       "      <td>1944</td>\n",
       "      <td>934</td>\n",
       "      <td>16.0</td>\n",
       "    </tr>\n",
       "    <tr>\n",
       "      <th>3</th>\n",
       "      <td>1503960366</td>\n",
       "      <td>3/28/2016</td>\n",
       "      <td>13231</td>\n",
       "      <td>39</td>\n",
       "      <td>20</td>\n",
       "      <td>224</td>\n",
       "      <td>1080</td>\n",
       "      <td>1932</td>\n",
       "      <td>1363</td>\n",
       "      <td>23.0</td>\n",
       "    </tr>\n",
       "    <tr>\n",
       "      <th>4</th>\n",
       "      <td>1503960366</td>\n",
       "      <td>3/29/2016</td>\n",
       "      <td>12041</td>\n",
       "      <td>28</td>\n",
       "      <td>28</td>\n",
       "      <td>243</td>\n",
       "      <td>763</td>\n",
       "      <td>1886</td>\n",
       "      <td>1062</td>\n",
       "      <td>18.0</td>\n",
       "    </tr>\n",
       "    <tr>\n",
       "      <th>...</th>\n",
       "      <td>...</td>\n",
       "      <td>...</td>\n",
       "      <td>...</td>\n",
       "      <td>...</td>\n",
       "      <td>...</td>\n",
       "      <td>...</td>\n",
       "      <td>...</td>\n",
       "      <td>...</td>\n",
       "      <td>...</td>\n",
       "      <td>...</td>\n",
       "    </tr>\n",
       "    <tr>\n",
       "      <th>452</th>\n",
       "      <td>8877689391</td>\n",
       "      <td>4/8/2016</td>\n",
       "      <td>23014</td>\n",
       "      <td>70</td>\n",
       "      <td>29</td>\n",
       "      <td>359</td>\n",
       "      <td>982</td>\n",
       "      <td>4196</td>\n",
       "      <td>1440</td>\n",
       "      <td>24.0</td>\n",
       "    </tr>\n",
       "    <tr>\n",
       "      <th>453</th>\n",
       "      <td>8877689391</td>\n",
       "      <td>4/9/2016</td>\n",
       "      <td>16470</td>\n",
       "      <td>90</td>\n",
       "      <td>9</td>\n",
       "      <td>289</td>\n",
       "      <td>1052</td>\n",
       "      <td>3841</td>\n",
       "      <td>1440</td>\n",
       "      <td>24.0</td>\n",
       "    </tr>\n",
       "    <tr>\n",
       "      <th>454</th>\n",
       "      <td>8877689391</td>\n",
       "      <td>4/10/2016</td>\n",
       "      <td>28497</td>\n",
       "      <td>128</td>\n",
       "      <td>46</td>\n",
       "      <td>211</td>\n",
       "      <td>1055</td>\n",
       "      <td>4526</td>\n",
       "      <td>1440</td>\n",
       "      <td>24.0</td>\n",
       "    </tr>\n",
       "    <tr>\n",
       "      <th>455</th>\n",
       "      <td>8877689391</td>\n",
       "      <td>4/11/2016</td>\n",
       "      <td>10622</td>\n",
       "      <td>18</td>\n",
       "      <td>7</td>\n",
       "      <td>225</td>\n",
       "      <td>1190</td>\n",
       "      <td>2820</td>\n",
       "      <td>1440</td>\n",
       "      <td>24.0</td>\n",
       "    </tr>\n",
       "    <tr>\n",
       "      <th>456</th>\n",
       "      <td>8877689391</td>\n",
       "      <td>4/12/2016</td>\n",
       "      <td>2350</td>\n",
       "      <td>0</td>\n",
       "      <td>0</td>\n",
       "      <td>58</td>\n",
       "      <td>531</td>\n",
       "      <td>938</td>\n",
       "      <td>589</td>\n",
       "      <td>10.0</td>\n",
       "    </tr>\n",
       "  </tbody>\n",
       "</table>\n",
       "<p>457 rows × 10 columns</p>\n",
       "</div>"
      ],
      "text/plain": [
       "             Id ActivityDate  TotalSteps  VeryActiveMinutes  \\\n",
       "0    1503960366    3/25/2016       11004                 33   \n",
       "1    1503960366    3/26/2016       17609                 89   \n",
       "2    1503960366    3/27/2016       12736                 56   \n",
       "3    1503960366    3/28/2016       13231                 39   \n",
       "4    1503960366    3/29/2016       12041                 28   \n",
       "..          ...          ...         ...                ...   \n",
       "452  8877689391     4/8/2016       23014                 70   \n",
       "453  8877689391     4/9/2016       16470                 90   \n",
       "454  8877689391    4/10/2016       28497                128   \n",
       "455  8877689391    4/11/2016       10622                 18   \n",
       "456  8877689391    4/12/2016        2350                  0   \n",
       "\n",
       "     FairlyActiveMinutes  LightlyActiveMinutes  SedentaryMinutes  Calories  \\\n",
       "0                     12                   205               804      1819   \n",
       "1                     17                   274               588      2154   \n",
       "2                      5                   268               605      1944   \n",
       "3                     20                   224              1080      1932   \n",
       "4                     28                   243               763      1886   \n",
       "..                   ...                   ...               ...       ...   \n",
       "452                   29                   359               982      4196   \n",
       "453                    9                   289              1052      3841   \n",
       "454                   46                   211              1055      4526   \n",
       "455                    7                   225              1190      2820   \n",
       "456                    0                    58               531       938   \n",
       "\n",
       "     total_minutes  total_hourse  \n",
       "0             1054          18.0  \n",
       "1              968          16.0  \n",
       "2              934          16.0  \n",
       "3             1363          23.0  \n",
       "4             1062          18.0  \n",
       "..             ...           ...  \n",
       "452           1440          24.0  \n",
       "453           1440          24.0  \n",
       "454           1440          24.0  \n",
       "455           1440          24.0  \n",
       "456            589          10.0  \n",
       "\n",
       "[457 rows x 10 columns]"
      ]
     },
     "execution_count": 12,
     "metadata": {},
     "output_type": "execute_result"
    }
   ],
   "source": [
    "df"
   ]
  },
  {
   "cell_type": "code",
   "execution_count": 13,
   "id": "82e230a0",
   "metadata": {
    "execution": {
     "iopub.execute_input": "2024-08-23T12:56:08.973823Z",
     "iopub.status.busy": "2024-08-23T12:56:08.973346Z",
     "iopub.status.idle": "2024-08-23T12:56:08.985718Z",
     "shell.execute_reply": "2024-08-23T12:56:08.984424Z"
    },
    "papermill": {
     "duration": 0.030062,
     "end_time": "2024-08-23T12:56:08.988928",
     "exception": false,
     "start_time": "2024-08-23T12:56:08.958866",
     "status": "completed"
    },
    "tags": []
   },
   "outputs": [
    {
     "name": "stdout",
     "output_type": "stream",
     "text": [
      "<class 'pandas.core.frame.DataFrame'>\n",
      "RangeIndex: 457 entries, 0 to 456\n",
      "Data columns (total 10 columns):\n",
      " #   Column                Non-Null Count  Dtype  \n",
      "---  ------                --------------  -----  \n",
      " 0   Id                    457 non-null    int64  \n",
      " 1   ActivityDate          457 non-null    object \n",
      " 2   TotalSteps            457 non-null    int64  \n",
      " 3   VeryActiveMinutes     457 non-null    int64  \n",
      " 4   FairlyActiveMinutes   457 non-null    int64  \n",
      " 5   LightlyActiveMinutes  457 non-null    int64  \n",
      " 6   SedentaryMinutes      457 non-null    int64  \n",
      " 7   Calories              457 non-null    int64  \n",
      " 8   total_minutes         457 non-null    int64  \n",
      " 9   total_hourse          457 non-null    float64\n",
      "dtypes: float64(1), int64(8), object(1)\n",
      "memory usage: 35.8+ KB\n"
     ]
    }
   ],
   "source": [
    "df.info()"
   ]
  },
  {
   "cell_type": "code",
   "execution_count": 14,
   "id": "3d72a1fc",
   "metadata": {
    "_kg_hide-output": true,
    "execution": {
     "iopub.execute_input": "2024-08-23T12:56:09.017023Z",
     "iopub.status.busy": "2024-08-23T12:56:09.016587Z",
     "iopub.status.idle": "2024-08-23T12:56:09.029971Z",
     "shell.execute_reply": "2024-08-23T12:56:09.028903Z"
    },
    "papermill": {
     "duration": 0.030251,
     "end_time": "2024-08-23T12:56:09.032387",
     "exception": false,
     "start_time": "2024-08-23T12:56:09.002136",
     "status": "completed"
    },
    "tags": []
   },
   "outputs": [
    {
     "name": "stderr",
     "output_type": "stream",
     "text": [
      "/tmp/ipykernel_17/2817718547.py:1: SettingWithCopyWarning: \n",
      "A value is trying to be set on a copy of a slice from a DataFrame.\n",
      "Try using .loc[row_indexer,col_indexer] = value instead\n",
      "\n",
      "See the caveats in the documentation: https://pandas.pydata.org/pandas-docs/stable/user_guide/indexing.html#returning-a-view-versus-a-copy\n",
      "  df.ActivityDate=pd.to_datetime(df.ActivityDate)\n"
     ]
    }
   ],
   "source": [
    "df.ActivityDate=pd.to_datetime(df.ActivityDate)"
   ]
  },
  {
   "cell_type": "code",
   "execution_count": 15,
   "id": "fd2f0431",
   "metadata": {
    "execution": {
     "iopub.execute_input": "2024-08-23T12:56:09.061183Z",
     "iopub.status.busy": "2024-08-23T12:56:09.060166Z",
     "iopub.status.idle": "2024-08-23T12:56:09.071394Z",
     "shell.execute_reply": "2024-08-23T12:56:09.070334Z"
    },
    "papermill": {
     "duration": 0.028974,
     "end_time": "2024-08-23T12:56:09.074785",
     "exception": false,
     "start_time": "2024-08-23T12:56:09.045811",
     "status": "completed"
    },
    "tags": []
   },
   "outputs": [
    {
     "name": "stdout",
     "output_type": "stream",
     "text": [
      "<class 'pandas.core.frame.DataFrame'>\n",
      "RangeIndex: 457 entries, 0 to 456\n",
      "Data columns (total 10 columns):\n",
      " #   Column                Non-Null Count  Dtype         \n",
      "---  ------                --------------  -----         \n",
      " 0   Id                    457 non-null    int64         \n",
      " 1   ActivityDate          457 non-null    datetime64[ns]\n",
      " 2   TotalSteps            457 non-null    int64         \n",
      " 3   VeryActiveMinutes     457 non-null    int64         \n",
      " 4   FairlyActiveMinutes   457 non-null    int64         \n",
      " 5   LightlyActiveMinutes  457 non-null    int64         \n",
      " 6   SedentaryMinutes      457 non-null    int64         \n",
      " 7   Calories              457 non-null    int64         \n",
      " 8   total_minutes         457 non-null    int64         \n",
      " 9   total_hourse          457 non-null    float64       \n",
      "dtypes: datetime64[ns](1), float64(1), int64(8)\n",
      "memory usage: 35.8 KB\n"
     ]
    }
   ],
   "source": [
    "df.info()"
   ]
  },
  {
   "cell_type": "code",
   "execution_count": 16,
   "id": "c66a4b35",
   "metadata": {
    "_kg_hide-output": true,
    "execution": {
     "iopub.execute_input": "2024-08-23T12:56:09.103394Z",
     "iopub.status.busy": "2024-08-23T12:56:09.102986Z",
     "iopub.status.idle": "2024-08-23T12:56:09.110218Z",
     "shell.execute_reply": "2024-08-23T12:56:09.109145Z"
    },
    "papermill": {
     "duration": 0.024488,
     "end_time": "2024-08-23T12:56:09.112687",
     "exception": false,
     "start_time": "2024-08-23T12:56:09.088199",
     "status": "completed"
    },
    "tags": []
   },
   "outputs": [
    {
     "name": "stderr",
     "output_type": "stream",
     "text": [
      "/tmp/ipykernel_17/272614468.py:1: SettingWithCopyWarning: \n",
      "A value is trying to be set on a copy of a slice from a DataFrame.\n",
      "Try using .loc[row_indexer,col_indexer] = value instead\n",
      "\n",
      "See the caveats in the documentation: https://pandas.pydata.org/pandas-docs/stable/user_guide/indexing.html#returning-a-view-versus-a-copy\n",
      "  df['dayOfWeak']=df.ActivityDate.dt.day_name()\n"
     ]
    }
   ],
   "source": [
    "df['dayOfWeak']=df.ActivityDate.dt.day_name()"
   ]
  },
  {
   "cell_type": "code",
   "execution_count": 17,
   "id": "ddb26096",
   "metadata": {
    "execution": {
     "iopub.execute_input": "2024-08-23T12:56:09.141654Z",
     "iopub.status.busy": "2024-08-23T12:56:09.140774Z",
     "iopub.status.idle": "2024-08-23T12:56:09.157658Z",
     "shell.execute_reply": "2024-08-23T12:56:09.156450Z"
    },
    "papermill": {
     "duration": 0.034987,
     "end_time": "2024-08-23T12:56:09.160852",
     "exception": false,
     "start_time": "2024-08-23T12:56:09.125865",
     "status": "completed"
    },
    "tags": []
   },
   "outputs": [
    {
     "data": {
      "text/html": [
       "<div>\n",
       "<style scoped>\n",
       "    .dataframe tbody tr th:only-of-type {\n",
       "        vertical-align: middle;\n",
       "    }\n",
       "\n",
       "    .dataframe tbody tr th {\n",
       "        vertical-align: top;\n",
       "    }\n",
       "\n",
       "    .dataframe thead th {\n",
       "        text-align: right;\n",
       "    }\n",
       "</style>\n",
       "<table border=\"1\" class=\"dataframe\">\n",
       "  <thead>\n",
       "    <tr style=\"text-align: right;\">\n",
       "      <th></th>\n",
       "      <th>Id</th>\n",
       "      <th>ActivityDate</th>\n",
       "      <th>TotalSteps</th>\n",
       "      <th>VeryActiveMinutes</th>\n",
       "      <th>FairlyActiveMinutes</th>\n",
       "      <th>LightlyActiveMinutes</th>\n",
       "      <th>SedentaryMinutes</th>\n",
       "      <th>Calories</th>\n",
       "      <th>total_minutes</th>\n",
       "      <th>total_hourse</th>\n",
       "      <th>dayOfWeak</th>\n",
       "    </tr>\n",
       "  </thead>\n",
       "  <tbody>\n",
       "    <tr>\n",
       "      <th>0</th>\n",
       "      <td>1503960366</td>\n",
       "      <td>2016-03-25</td>\n",
       "      <td>11004</td>\n",
       "      <td>33</td>\n",
       "      <td>12</td>\n",
       "      <td>205</td>\n",
       "      <td>804</td>\n",
       "      <td>1819</td>\n",
       "      <td>1054</td>\n",
       "      <td>18.0</td>\n",
       "      <td>Friday</td>\n",
       "    </tr>\n",
       "    <tr>\n",
       "      <th>1</th>\n",
       "      <td>1503960366</td>\n",
       "      <td>2016-03-26</td>\n",
       "      <td>17609</td>\n",
       "      <td>89</td>\n",
       "      <td>17</td>\n",
       "      <td>274</td>\n",
       "      <td>588</td>\n",
       "      <td>2154</td>\n",
       "      <td>968</td>\n",
       "      <td>16.0</td>\n",
       "      <td>Saturday</td>\n",
       "    </tr>\n",
       "    <tr>\n",
       "      <th>2</th>\n",
       "      <td>1503960366</td>\n",
       "      <td>2016-03-27</td>\n",
       "      <td>12736</td>\n",
       "      <td>56</td>\n",
       "      <td>5</td>\n",
       "      <td>268</td>\n",
       "      <td>605</td>\n",
       "      <td>1944</td>\n",
       "      <td>934</td>\n",
       "      <td>16.0</td>\n",
       "      <td>Sunday</td>\n",
       "    </tr>\n",
       "    <tr>\n",
       "      <th>3</th>\n",
       "      <td>1503960366</td>\n",
       "      <td>2016-03-28</td>\n",
       "      <td>13231</td>\n",
       "      <td>39</td>\n",
       "      <td>20</td>\n",
       "      <td>224</td>\n",
       "      <td>1080</td>\n",
       "      <td>1932</td>\n",
       "      <td>1363</td>\n",
       "      <td>23.0</td>\n",
       "      <td>Monday</td>\n",
       "    </tr>\n",
       "    <tr>\n",
       "      <th>4</th>\n",
       "      <td>1503960366</td>\n",
       "      <td>2016-03-29</td>\n",
       "      <td>12041</td>\n",
       "      <td>28</td>\n",
       "      <td>28</td>\n",
       "      <td>243</td>\n",
       "      <td>763</td>\n",
       "      <td>1886</td>\n",
       "      <td>1062</td>\n",
       "      <td>18.0</td>\n",
       "      <td>Tuesday</td>\n",
       "    </tr>\n",
       "  </tbody>\n",
       "</table>\n",
       "</div>"
      ],
      "text/plain": [
       "           Id ActivityDate  TotalSteps  VeryActiveMinutes  \\\n",
       "0  1503960366   2016-03-25       11004                 33   \n",
       "1  1503960366   2016-03-26       17609                 89   \n",
       "2  1503960366   2016-03-27       12736                 56   \n",
       "3  1503960366   2016-03-28       13231                 39   \n",
       "4  1503960366   2016-03-29       12041                 28   \n",
       "\n",
       "   FairlyActiveMinutes  LightlyActiveMinutes  SedentaryMinutes  Calories  \\\n",
       "0                   12                   205               804      1819   \n",
       "1                   17                   274               588      2154   \n",
       "2                    5                   268               605      1944   \n",
       "3                   20                   224              1080      1932   \n",
       "4                   28                   243               763      1886   \n",
       "\n",
       "   total_minutes  total_hourse dayOfWeak  \n",
       "0           1054          18.0    Friday  \n",
       "1            968          16.0  Saturday  \n",
       "2            934          16.0    Sunday  \n",
       "3           1363          23.0    Monday  \n",
       "4           1062          18.0   Tuesday  "
      ]
     },
     "execution_count": 17,
     "metadata": {},
     "output_type": "execute_result"
    }
   ],
   "source": [
    "df.head()"
   ]
  },
  {
   "cell_type": "code",
   "execution_count": 18,
   "id": "28ae3cd9",
   "metadata": {
    "execution": {
     "iopub.execute_input": "2024-08-23T12:56:09.191805Z",
     "iopub.status.busy": "2024-08-23T12:56:09.191363Z",
     "iopub.status.idle": "2024-08-23T12:56:09.201209Z",
     "shell.execute_reply": "2024-08-23T12:56:09.200006Z"
    },
    "papermill": {
     "duration": 0.027445,
     "end_time": "2024-08-23T12:56:09.203547",
     "exception": false,
     "start_time": "2024-08-23T12:56:09.176102",
     "status": "completed"
    },
    "tags": []
   },
   "outputs": [
    {
     "data": {
      "text/plain": [
       "Id                      0\n",
       "ActivityDate            0\n",
       "TotalSteps              0\n",
       "VeryActiveMinutes       0\n",
       "FairlyActiveMinutes     0\n",
       "LightlyActiveMinutes    0\n",
       "SedentaryMinutes        0\n",
       "Calories                0\n",
       "total_minutes           0\n",
       "total_hourse            0\n",
       "dayOfWeak               0\n",
       "dtype: int64"
      ]
     },
     "execution_count": 18,
     "metadata": {},
     "output_type": "execute_result"
    }
   ],
   "source": [
    "df.isnull().sum()"
   ]
  },
  {
   "cell_type": "code",
   "execution_count": 19,
   "id": "64ffc111",
   "metadata": {
    "execution": {
     "iopub.execute_input": "2024-08-23T12:56:09.233635Z",
     "iopub.status.busy": "2024-08-23T12:56:09.233150Z",
     "iopub.status.idle": "2024-08-23T12:56:09.245406Z",
     "shell.execute_reply": "2024-08-23T12:56:09.244142Z"
    },
    "papermill": {
     "duration": 0.030391,
     "end_time": "2024-08-23T12:56:09.248188",
     "exception": false,
     "start_time": "2024-08-23T12:56:09.217797",
     "status": "completed"
    },
    "tags": []
   },
   "outputs": [
    {
     "data": {
      "text/plain": [
       "0"
      ]
     },
     "execution_count": 19,
     "metadata": {},
     "output_type": "execute_result"
    }
   ],
   "source": [
    "df.duplicated().sum()"
   ]
  },
  {
   "cell_type": "markdown",
   "id": "73db9b51",
   "metadata": {
    "papermill": {
     "duration": 0.013744,
     "end_time": "2024-08-23T12:56:09.276343",
     "exception": false,
     "start_time": "2024-08-23T12:56:09.262599",
     "status": "completed"
    },
    "tags": []
   },
   "source": [
    "## Visualization"
   ]
  },
  {
   "cell_type": "code",
   "execution_count": 20,
   "id": "4bf50aa4",
   "metadata": {
    "execution": {
     "iopub.execute_input": "2024-08-23T12:56:09.306884Z",
     "iopub.status.busy": "2024-08-23T12:56:09.306419Z",
     "iopub.status.idle": "2024-08-23T12:56:09.684134Z",
     "shell.execute_reply": "2024-08-23T12:56:09.682746Z"
    },
    "papermill": {
     "duration": 0.396308,
     "end_time": "2024-08-23T12:56:09.687111",
     "exception": false,
     "start_time": "2024-08-23T12:56:09.290803",
     "status": "completed"
    },
    "tags": []
   },
   "outputs": [
    {
     "data": {
      "image/png": "[encoded data removed]",
      "text/plain": [
       "<Figure size 800x600 with 1 Axes>"
      ]
     },
     "metadata": {},
     "output_type": "display_data"
    }
   ],
   "source": [
    "plt.figure(figsize=(8,6))\n",
    "plt.hist(df.dayOfWeak,bins=7,color='blue',width=0.4)\n",
    "plt.grid()\n",
    "plt.xlabel('days of week')\n",
    "plt.ylabel('frequency')\n",
    "plt.title('freq by day of week')\n",
    "plt.show()"
   ]
  },
  {
   "cell_type": "code",
   "execution_count": 21,
   "id": "e0d5eb1c",
   "metadata": {
    "execution": {
     "iopub.execute_input": "2024-08-23T12:56:09.722392Z",
     "iopub.status.busy": "2024-08-23T12:56:09.720725Z",
     "iopub.status.idle": "2024-08-23T12:56:09.728903Z",
     "shell.execute_reply": "2024-08-23T12:56:09.727544Z"
    },
    "papermill": {
     "duration": 0.02994,
     "end_time": "2024-08-23T12:56:09.732121",
     "exception": false,
     "start_time": "2024-08-23T12:56:09.702181",
     "status": "completed"
    },
    "tags": []
   },
   "outputs": [],
   "source": [
    "# To select the numerical value only\n",
    "\n",
    "numerical = df.select_dtypes(exclude=object).columns.tolist()"
   ]
  },
  {
   "cell_type": "code",
   "execution_count": 22,
   "id": "ffec5d12",
   "metadata": {
    "execution": {
     "iopub.execute_input": "2024-08-23T12:56:09.768064Z",
     "iopub.status.busy": "2024-08-23T12:56:09.766965Z",
     "iopub.status.idle": "2024-08-23T12:56:10.201226Z",
     "shell.execute_reply": "2024-08-23T12:56:10.199925Z"
    },
    "papermill": {
     "duration": 0.453432,
     "end_time": "2024-08-23T12:56:10.203932",
     "exception": false,
     "start_time": "2024-08-23T12:56:09.750500",
     "status": "completed"
    },
    "tags": []
   },
   "outputs": [
    {
     "data": {
      "text/plain": [
       "<Axes: >"
      ]
     },
     "execution_count": 22,
     "metadata": {},
     "output_type": "execute_result"
    },
    {
     "data": {
      "image/png": "[encoded data removed]",
      "text/plain": [
       "<Figure size 640x480 with 2 Axes>"
      ]
     },
     "metadata": {},
     "output_type": "display_data"
    }
   ],
   "source": [
    "sns.heatmap(df[numerical].corr())"
   ]
  },
  {
   "cell_type": "markdown",
   "id": "ac8087e1",
   "metadata": {
    "papermill": {
     "duration": 0.015754,
     "end_time": "2024-08-23T12:56:10.235712",
     "exception": false,
     "start_time": "2024-08-23T12:56:10.219958",
     "status": "completed"
    },
    "tags": []
   },
   "source": [
    "from the heatmap we can notice that the TotalSteps and VeryActiveMintues Columns have the highest influence on the Calories column"
   ]
  },
  {
   "cell_type": "code",
   "execution_count": 23,
   "id": "17c774b3",
   "metadata": {
    "execution": {
     "iopub.execute_input": "2024-08-23T12:56:10.268649Z",
     "iopub.status.busy": "2024-08-23T12:56:10.268208Z",
     "iopub.status.idle": "2024-08-23T12:56:10.310036Z",
     "shell.execute_reply": "2024-08-23T12:56:10.308952Z"
    },
    "papermill": {
     "duration": 0.061286,
     "end_time": "2024-08-23T12:56:10.312544",
     "exception": false,
     "start_time": "2024-08-23T12:56:10.251258",
     "status": "completed"
    },
    "tags": []
   },
   "outputs": [
    {
     "data": {
      "text/html": [
       "<div>\n",
       "<style scoped>\n",
       "    .dataframe tbody tr th:only-of-type {\n",
       "        vertical-align: middle;\n",
       "    }\n",
       "\n",
       "    .dataframe tbody tr th {\n",
       "        vertical-align: top;\n",
       "    }\n",
       "\n",
       "    .dataframe thead th {\n",
       "        text-align: right;\n",
       "    }\n",
       "</style>\n",
       "<table border=\"1\" class=\"dataframe\">\n",
       "  <thead>\n",
       "    <tr style=\"text-align: right;\">\n",
       "      <th></th>\n",
       "      <th>Id</th>\n",
       "      <th>ActivityDate</th>\n",
       "      <th>TotalSteps</th>\n",
       "      <th>VeryActiveMinutes</th>\n",
       "      <th>FairlyActiveMinutes</th>\n",
       "      <th>LightlyActiveMinutes</th>\n",
       "      <th>SedentaryMinutes</th>\n",
       "      <th>Calories</th>\n",
       "      <th>total_minutes</th>\n",
       "      <th>total_hourse</th>\n",
       "    </tr>\n",
       "  </thead>\n",
       "  <tbody>\n",
       "    <tr>\n",
       "      <th>count</th>\n",
       "      <td>4.570000e+02</td>\n",
       "      <td>457</td>\n",
       "      <td>457.000000</td>\n",
       "      <td>457.000000</td>\n",
       "      <td>457.000000</td>\n",
       "      <td>457.000000</td>\n",
       "      <td>457.000000</td>\n",
       "      <td>457.000000</td>\n",
       "      <td>457.000000</td>\n",
       "      <td>457.000000</td>\n",
       "    </tr>\n",
       "    <tr>\n",
       "      <th>mean</th>\n",
       "      <td>4.628595e+09</td>\n",
       "      <td>2016-04-04 04:40:26.258205696</td>\n",
       "      <td>6546.562363</td>\n",
       "      <td>16.623632</td>\n",
       "      <td>13.070022</td>\n",
       "      <td>170.070022</td>\n",
       "      <td>995.282276</td>\n",
       "      <td>2189.452954</td>\n",
       "      <td>1195.045952</td>\n",
       "      <td>19.919037</td>\n",
       "    </tr>\n",
       "    <tr>\n",
       "      <th>min</th>\n",
       "      <td>1.503960e+09</td>\n",
       "      <td>2016-03-12 00:00:00</td>\n",
       "      <td>0.000000</td>\n",
       "      <td>0.000000</td>\n",
       "      <td>0.000000</td>\n",
       "      <td>0.000000</td>\n",
       "      <td>32.000000</td>\n",
       "      <td>0.000000</td>\n",
       "      <td>41.000000</td>\n",
       "      <td>1.000000</td>\n",
       "    </tr>\n",
       "    <tr>\n",
       "      <th>25%</th>\n",
       "      <td>2.347168e+09</td>\n",
       "      <td>2016-04-02 00:00:00</td>\n",
       "      <td>1988.000000</td>\n",
       "      <td>0.000000</td>\n",
       "      <td>0.000000</td>\n",
       "      <td>64.000000</td>\n",
       "      <td>728.000000</td>\n",
       "      <td>1776.000000</td>\n",
       "      <td>985.000000</td>\n",
       "      <td>16.000000</td>\n",
       "    </tr>\n",
       "    <tr>\n",
       "      <th>50%</th>\n",
       "      <td>4.057193e+09</td>\n",
       "      <td>2016-04-05 00:00:00</td>\n",
       "      <td>5986.000000</td>\n",
       "      <td>0.000000</td>\n",
       "      <td>1.000000</td>\n",
       "      <td>181.000000</td>\n",
       "      <td>1057.000000</td>\n",
       "      <td>2062.000000</td>\n",
       "      <td>1440.000000</td>\n",
       "      <td>24.000000</td>\n",
       "    </tr>\n",
       "    <tr>\n",
       "      <th>75%</th>\n",
       "      <td>6.391747e+09</td>\n",
       "      <td>2016-04-08 00:00:00</td>\n",
       "      <td>10198.000000</td>\n",
       "      <td>25.000000</td>\n",
       "      <td>16.000000</td>\n",
       "      <td>257.000000</td>\n",
       "      <td>1285.000000</td>\n",
       "      <td>2667.000000</td>\n",
       "      <td>1440.000000</td>\n",
       "      <td>24.000000</td>\n",
       "    </tr>\n",
       "    <tr>\n",
       "      <th>max</th>\n",
       "      <td>8.877689e+09</td>\n",
       "      <td>2016-04-12 00:00:00</td>\n",
       "      <td>28497.000000</td>\n",
       "      <td>202.000000</td>\n",
       "      <td>660.000000</td>\n",
       "      <td>720.000000</td>\n",
       "      <td>1440.000000</td>\n",
       "      <td>4562.000000</td>\n",
       "      <td>1440.000000</td>\n",
       "      <td>24.000000</td>\n",
       "    </tr>\n",
       "    <tr>\n",
       "      <th>std</th>\n",
       "      <td>2.293781e+09</td>\n",
       "      <td>NaN</td>\n",
       "      <td>5398.493064</td>\n",
       "      <td>28.919704</td>\n",
       "      <td>36.208635</td>\n",
       "      <td>122.205372</td>\n",
       "      <td>337.021404</td>\n",
       "      <td>815.484523</td>\n",
       "      <td>306.457382</td>\n",
       "      <td>5.123904</td>\n",
       "    </tr>\n",
       "  </tbody>\n",
       "</table>\n",
       "</div>"
      ],
      "text/plain": [
       "                 Id                   ActivityDate    TotalSteps  \\\n",
       "count  4.570000e+02                            457    457.000000   \n",
       "mean   4.628595e+09  2016-04-04 04:40:26.258205696   6546.562363   \n",
       "min    1.503960e+09            2016-03-12 00:00:00      0.000000   \n",
       "25%    2.347168e+09            2016-04-02 00:00:00   1988.000000   \n",
       "50%    4.057193e+09            2016-04-05 00:00:00   5986.000000   \n",
       "75%    6.391747e+09            2016-04-08 00:00:00  10198.000000   \n",
       "max    8.877689e+09            2016-04-12 00:00:00  28497.000000   \n",
       "std    2.293781e+09                            NaN   5398.493064   \n",
       "\n",
       "       VeryActiveMinutes  FairlyActiveMinutes  LightlyActiveMinutes  \\\n",
       "count         457.000000           457.000000            457.000000   \n",
       "mean           16.623632            13.070022            170.070022   \n",
       "min             0.000000             0.000000              0.000000   \n",
       "25%             0.000000             0.000000             64.000000   \n",
       "50%             0.000000             1.000000            181.000000   \n",
       "75%            25.000000            16.000000            257.000000   \n",
       "max           202.000000           660.000000            720.000000   \n",
       "std            28.919704            36.208635            122.205372   \n",
       "\n",
       "       SedentaryMinutes     Calories  total_minutes  total_hourse  \n",
       "count        457.000000   457.000000     457.000000    457.000000  \n",
       "mean         995.282276  2189.452954    1195.045952     19.919037  \n",
       "min           32.000000     0.000000      41.000000      1.000000  \n",
       "25%          728.000000  1776.000000     985.000000     16.000000  \n",
       "50%         1057.000000  2062.000000    1440.000000     24.000000  \n",
       "75%         1285.000000  2667.000000    1440.000000     24.000000  \n",
       "max         1440.000000  4562.000000    1440.000000     24.000000  \n",
       "std          337.021404   815.484523     306.457382      5.123904  "
      ]
     },
     "execution_count": 23,
     "metadata": {},
     "output_type": "execute_result"
    }
   ],
   "source": [
    "df.describe()"
   ]
  },
  {
   "cell_type": "code",
   "execution_count": 24,
   "id": "5e03535e",
   "metadata": {
    "execution": {
     "iopub.execute_input": "2024-08-23T12:56:10.346778Z",
     "iopub.status.busy": "2024-08-23T12:56:10.345768Z",
     "iopub.status.idle": "2024-08-23T12:56:10.652658Z",
     "shell.execute_reply": "2024-08-23T12:56:10.651580Z"
    },
    "papermill": {
     "duration": 0.326983,
     "end_time": "2024-08-23T12:56:10.655437",
     "exception": false,
     "start_time": "2024-08-23T12:56:10.328454",
     "status": "completed"
    },
    "tags": []
   },
   "outputs": [
    {
     "data": {
      "image/png": "[encoded data removed]",
      "text/plain": [
       "<Figure size 800x600 with 1 Axes>"
      ]
     },
     "metadata": {},
     "output_type": "display_data"
    }
   ],
   "source": [
    "plt.figure(figsize=(8,6))\n",
    "plt.scatter(df['TotalSteps'],df['Calories'],c = df['Calories'])\n",
    "mediansteps =  5986\n",
    "medianCalory = 2062\n",
    "plt.axhline(medianCalory, color = 'red', label = \"Median of Calories\")\n",
    "plt.axvline(mediansteps, color = 'blue', label = \"Median of steps\")\n",
    "plt.title(\"calories by steps\")\n",
    "plt.xlabel('steps')\n",
    "plt.ylabel('calories')\n",
    "plt.legend()\n",
    "plt.show()"
   ]
  },
  {
   "cell_type": "code",
   "execution_count": 25,
   "id": "fef2b031",
   "metadata": {
    "execution": {
     "iopub.execute_input": "2024-08-23T12:56:10.692906Z",
     "iopub.status.busy": "2024-08-23T12:56:10.692174Z",
     "iopub.status.idle": "2024-08-23T12:56:10.973263Z",
     "shell.execute_reply": "2024-08-23T12:56:10.972127Z"
    },
    "papermill": {
     "duration": 0.303008,
     "end_time": "2024-08-23T12:56:10.976242",
     "exception": false,
     "start_time": "2024-08-23T12:56:10.673234",
     "status": "completed"
    },
    "tags": []
   },
   "outputs": [
    {
     "data": {
      "image/png": "[encoded data removed]",
      "text/plain": [
       "<Figure size 800x600 with 1 Axes>"
      ]
     },
     "metadata": {},
     "output_type": "display_data"
    }
   ],
   "source": [
    "plt.figure(figsize=(8,6))\n",
    "plt.scatter(df['total_hourse'],df['Calories'],c = df['Calories'])\n",
    "medianHours =  24\n",
    "medianCalory = 2062\n",
    "plt.axhline(medianCalory, color = 'red', label = \"Median of Calories\")\n",
    "plt.axvline(medianHours, color = 'blue', label = \"Median of Hours\")\n",
    "plt.title(\"calories by Hours\")\n",
    "plt.xlabel('hours')\n",
    "plt.ylabel('calories')\n",
    "plt.legend()\n",
    "plt.show()"
   ]
  },
  {
   "cell_type": "code",
   "execution_count": 26,
   "id": "708f17db",
   "metadata": {
    "execution": {
     "iopub.execute_input": "2024-08-23T12:56:11.015719Z",
     "iopub.status.busy": "2024-08-23T12:56:11.015260Z",
     "iopub.status.idle": "2024-08-23T12:56:11.172432Z",
     "shell.execute_reply": "2024-08-23T12:56:11.170970Z"
    },
    "papermill": {
     "duration": 0.182801,
     "end_time": "2024-08-23T12:56:11.177918",
     "exception": false,
     "start_time": "2024-08-23T12:56:10.995117",
     "status": "completed"
    },
    "tags": []
   },
   "outputs": [
    {
     "data": {
      "image/png": "[encoded data removed]",
      "text/plain": [
       "<Figure size 640x480 with 1 Axes>"
      ]
     },
     "metadata": {},
     "output_type": "display_data"
    }
   ],
   "source": [
    "FairlyActiveMinutes = df['FairlyActiveMinutes'].sum()\n",
    "VeryActiveMinutes = df['VeryActiveMinutes'].sum()\n",
    "LightlyActiveMinutes = df['LightlyActiveMinutes'].sum()\n",
    "SedentaryMinutes = df['SedentaryMinutes'].sum()\n",
    "\n",
    "minuts = [FairlyActiveMinutes,VeryActiveMinutes,LightlyActiveMinutes,SedentaryMinutes]\n",
    "label = ['FairlyActiveMinutes','VeryActiveMinutes','LightlyActiveMinutes','SedentaryMinutes']\n",
    "\n",
    "plt.pie(minuts,labels=label,autopct='%1.4f%%',explode=[0,0,0,0.2])\n",
    "plt.show()"
   ]
  },
  {
   "cell_type": "code",
   "execution_count": null,
   "id": "13c0e554",
   "metadata": {
    "papermill": {
     "duration": 0.034971,
     "end_time": "2024-08-23T12:56:11.253359",
     "exception": false,
     "start_time": "2024-08-23T12:56:11.218388",
     "status": "completed"
    },
    "tags": []
   },
   "outputs": [],
   "source": []
  }
 ],
 "metadata": {
  "kaggle": {
   "accelerator": "none",
   "dataSources": [
    {
     "datasetId": 1041311,
     "sourceId": 7746251,
     "sourceType": "datasetVersion"
    }
   ],
   "dockerImageVersionId": 30761,
   "isGpuEnabled": false,
   "isInternetEnabled": true,
   "language": "python",
   "sourceType": "notebook"
  },
  "kernelspec": {
   "display_name": "Python 3",
   "language": "python",
   "name": "python3"
  },
  "language_info": {
   "codemirror_mode": {
    "name": "ipython",
    "version": 3
   },
   "file_extension": ".py",
   "mimetype": "text/x-python",
   "name": "python",
   "nbconvert_exporter": "python",
   "pygments_lexer": "ipython3",
   "version": "3.10.14"
  },
  "papermill": {
   "default_parameters": {},
   "duration": 9.500438,
   "end_time": "2024-08-23T12:56:11.894059",
   "environment_variables": {},
   "exception": null,
   "input_path": "__notebook__.ipynb",
   "output_path": "__notebook__.ipynb",
   "parameters": {},
   "start_time": "2024-08-23T12:56:02.393621",
   "version": "2.6.0"
  }
 },
 "nbformat": 4,
 "nbformat_minor": 5
}
