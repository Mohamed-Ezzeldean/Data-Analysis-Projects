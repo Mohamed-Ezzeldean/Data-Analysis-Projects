{
 "cells": [
  {
   "cell_type": "markdown",
   "id": "d1cea750",
   "metadata": {
    "papermill": {
     "duration": 0.011631,
     "end_time": "2024-08-23T17:49:27.685810",
     "exception": false,
     "start_time": "2024-08-23T17:49:27.674179",
     "status": "completed"
    },
    "tags": []
   },
   "source": [
    "## import necessery library "
   ]
  },
  {
   "cell_type": "code",
   "execution_count": 1,
   "id": "34b9afe6",
   "metadata": {
    "execution": {
     "iopub.execute_input": "2024-08-23T17:49:27.710524Z",
     "iopub.status.busy": "2024-08-23T17:49:27.709930Z",
     "iopub.status.idle": "2024-08-23T17:49:30.483688Z",
     "shell.execute_reply": "2024-08-23T17:49:30.482005Z"
    },
    "papermill": {
     "duration": 2.789915,
     "end_time": "2024-08-23T17:49:30.486986",
     "exception": false,
     "start_time": "2024-08-23T17:49:27.697071",
     "status": "completed"
    },
    "tags": []
   },
   "outputs": [],
   "source": [
    "import numpy as np\n",
    "import pandas as pd\n",
    "import seaborn as sns\n",
    "import matplotlib.pyplot as plt\n",
    "%matplotlib inline"
   ]
  },
  {
   "cell_type": "markdown",
   "id": "2fecf46e",
   "metadata": {
    "papermill": {
     "duration": 0.012567,
     "end_time": "2024-08-23T17:49:30.512343",
     "exception": false,
     "start_time": "2024-08-23T17:49:30.499776",
     "status": "completed"
    },
    "tags": []
   },
   "source": [
    "## load data and get info"
   ]
  },
  {
   "cell_type": "code",
   "execution_count": 2,
   "id": "3b8101ba",
   "metadata": {
    "execution": {
     "iopub.execute_input": "2024-08-23T17:49:30.540577Z",
     "iopub.status.busy": "2024-08-23T17:49:30.539820Z",
     "iopub.status.idle": "2024-08-23T17:49:30.571474Z",
     "shell.execute_reply": "2024-08-23T17:49:30.570057Z"
    },
    "papermill": {
     "duration": 0.051064,
     "end_time": "2024-08-23T17:49:30.574736",
     "exception": false,
     "start_time": "2024-08-23T17:49:30.523672",
     "status": "completed"
    },
    "tags": []
   },
   "outputs": [],
   "source": [
    "df = pd.read_csv(\"/kaggle/input/african-development-bank/finance1.csv\", encoding = 'latin-1')"
   ]
  },
  {
   "cell_type": "code",
   "execution_count": 3,
   "id": "db56b878",
   "metadata": {
    "execution": {
     "iopub.execute_input": "2024-08-23T17:49:30.599418Z",
     "iopub.status.busy": "2024-08-23T17:49:30.598950Z",
     "iopub.status.idle": "2024-08-23T17:49:30.639425Z",
     "shell.execute_reply": "2024-08-23T17:49:30.637713Z"
    },
    "papermill": {
     "duration": 0.057108,
     "end_time": "2024-08-23T17:49:30.643173",
     "exception": false,
     "start_time": "2024-08-23T17:49:30.586065",
     "status": "completed"
    },
    "tags": []
   },
   "outputs": [
    {
     "data": {
      "text/html": [
       "<div>\n",
       "<style scoped>\n",
       "    .dataframe tbody tr th:only-of-type {\n",
       "        vertical-align: middle;\n",
       "    }\n",
       "\n",
       "    .dataframe tbody tr th {\n",
       "        vertical-align: top;\n",
       "    }\n",
       "\n",
       "    .dataframe thead th {\n",
       "        text-align: right;\n",
       "    }\n",
       "</style>\n",
       "<table border=\"1\" class=\"dataframe\">\n",
       "  <thead>\n",
       "    <tr style=\"text-align: right;\">\n",
       "      <th></th>\n",
       "      <th>Project Code</th>\n",
       "      <th>Title</th>\n",
       "      <th>Commitment in U.A</th>\n",
       "      <th>Country</th>\n",
       "      <th>Starting Date</th>\n",
       "      <th>Status</th>\n",
       "      <th>Source of Financing</th>\n",
       "      <th>Sector</th>\n",
       "      <th>Sovereign</th>\n",
       "    </tr>\n",
       "  </thead>\n",
       "  <tbody>\n",
       "    <tr>\n",
       "      <th>0</th>\n",
       "      <td>P-MG-H00-002</td>\n",
       "      <td>Madagascar - Industrialisation and Financial S...</td>\n",
       "      <td>12,080,000.00</td>\n",
       "      <td>Madagascar</td>\n",
       "      <td>28 Oct 2020</td>\n",
       "      <td>Approved</td>\n",
       "      <td>African Development Fund</td>\n",
       "      <td>Finance</td>\n",
       "      <td>Sovereign</td>\n",
       "    </tr>\n",
       "    <tr>\n",
       "      <th>1</th>\n",
       "      <td>P-Z1-H00-063</td>\n",
       "      <td>Multinational - Domestic debt markets developm...</td>\n",
       "      <td>1,500,000.00</td>\n",
       "      <td>Multinational</td>\n",
       "      <td>13 Oct 2020</td>\n",
       "      <td>Implementation</td>\n",
       "      <td>Fragile States Facility</td>\n",
       "      <td>Finance</td>\n",
       "      <td>Sovereign</td>\n",
       "    </tr>\n",
       "    <tr>\n",
       "      <th>2</th>\n",
       "      <td>P-MG-HAZ-001</td>\n",
       "      <td>Madagascar - SME Business Linkages Program</td>\n",
       "      <td>1,000,000.00</td>\n",
       "      <td>Madagascar</td>\n",
       "      <td>15 May 2020</td>\n",
       "      <td>Implementation</td>\n",
       "      <td>Fragile States Facility</td>\n",
       "      <td>Finance</td>\n",
       "      <td>Sovereign</td>\n",
       "    </tr>\n",
       "    <tr>\n",
       "      <th>3</th>\n",
       "      <td>P-MU-H00-004</td>\n",
       "      <td>Mauritius - Stock Exchange Mauritius (SEM) Pro...</td>\n",
       "      <td>430,000.00</td>\n",
       "      <td>Mauritius</td>\n",
       "      <td>27 Apr 2020</td>\n",
       "      <td>Implementation</td>\n",
       "      <td>Middle Income Countries Fund</td>\n",
       "      <td>Finance</td>\n",
       "      <td>Sovereign</td>\n",
       "    </tr>\n",
       "    <tr>\n",
       "      <th>4</th>\n",
       "      <td>P-AO-HAB-009</td>\n",
       "      <td>Angola - Line of Credit to « Banco Millennium ...</td>\n",
       "      <td>23,415,605.04</td>\n",
       "      <td>Angola</td>\n",
       "      <td>15 Apr 2020</td>\n",
       "      <td>Approved</td>\n",
       "      <td>African Development Bank</td>\n",
       "      <td>Finance</td>\n",
       "      <td>Non Sovereign</td>\n",
       "    </tr>\n",
       "    <tr>\n",
       "      <th>...</th>\n",
       "      <td>...</td>\n",
       "      <td>...</td>\n",
       "      <td>...</td>\n",
       "      <td>...</td>\n",
       "      <td>...</td>\n",
       "      <td>...</td>\n",
       "      <td>...</td>\n",
       "      <td>...</td>\n",
       "      <td>...</td>\n",
       "    </tr>\n",
       "    <tr>\n",
       "      <th>350</th>\n",
       "      <td>P-MA-HAA-001</td>\n",
       "      <td>1ère Ligne de Crédit à la Banque Nationale pou...</td>\n",
       "      <td>3,912,222.92</td>\n",
       "      <td>Morocco</td>\n",
       "      <td>08 May 1974</td>\n",
       "      <td>Completion</td>\n",
       "      <td>African Development Bank</td>\n",
       "      <td>Finance</td>\n",
       "      <td>Sovereign</td>\n",
       "    </tr>\n",
       "    <tr>\n",
       "      <th>351</th>\n",
       "      <td>P-MW-HA0-001</td>\n",
       "      <td>Malawi Development Corporation</td>\n",
       "      <td>1,485,997.20</td>\n",
       "      <td>Malawi</td>\n",
       "      <td>22 Nov 1972</td>\n",
       "      <td>Completion</td>\n",
       "      <td>African Development Bank</td>\n",
       "      <td>Finance</td>\n",
       "      <td>Sovereign</td>\n",
       "    </tr>\n",
       "    <tr>\n",
       "      <th>352</th>\n",
       "      <td>NaN</td>\n",
       "      <td>NaN</td>\n",
       "      <td>NaN</td>\n",
       "      <td>NaN</td>\n",
       "      <td>NaN</td>\n",
       "      <td>NaN</td>\n",
       "      <td>NaN</td>\n",
       "      <td>NaN</td>\n",
       "      <td>NaN</td>\n",
       "    </tr>\n",
       "    <tr>\n",
       "      <th>353</th>\n",
       "      <td>African Development Bank Group</td>\n",
       "      <td>NaN</td>\n",
       "      <td>NaN</td>\n",
       "      <td>NaN</td>\n",
       "      <td>NaN</td>\n",
       "      <td>NaN</td>\n",
       "      <td>NaN</td>\n",
       "      <td>NaN</td>\n",
       "      <td>IATI Data Portal</td>\n",
       "    </tr>\n",
       "    <tr>\n",
       "      <th>354</th>\n",
       "      <td>NaN</td>\n",
       "      <td>NaN</td>\n",
       "      <td>NaN</td>\n",
       "      <td>NaN</td>\n",
       "      <td>NaN</td>\n",
       "      <td>NaN</td>\n",
       "      <td>NaN</td>\n",
       "      <td>NaN</td>\n",
       "      <td>NaN</td>\n",
       "    </tr>\n",
       "  </tbody>\n",
       "</table>\n",
       "<p>355 rows × 9 columns</p>\n",
       "</div>"
      ],
      "text/plain": [
       "                       Project Code  \\\n",
       "0                      P-MG-H00-002   \n",
       "1                      P-Z1-H00-063   \n",
       "2                      P-MG-HAZ-001   \n",
       "3                      P-MU-H00-004   \n",
       "4                      P-AO-HAB-009   \n",
       "..                              ...   \n",
       "350                    P-MA-HAA-001   \n",
       "351                    P-MW-HA0-001   \n",
       "352                             NaN   \n",
       "353  African Development Bank Group   \n",
       "354                             NaN   \n",
       "\n",
       "                                                 Title Commitment in U.A  \\\n",
       "0    Madagascar - Industrialisation and Financial S...     12,080,000.00   \n",
       "1    Multinational - Domestic debt markets developm...      1,500,000.00   \n",
       "2           Madagascar - SME Business Linkages Program      1,000,000.00   \n",
       "3    Mauritius - Stock Exchange Mauritius (SEM) Pro...        430,000.00   \n",
       "4    Angola - Line of Credit to « Banco Millennium ...     23,415,605.04   \n",
       "..                                                 ...               ...   \n",
       "350  1ère Ligne de Crédit à la Banque Nationale pou...      3,912,222.92   \n",
       "351                     Malawi Development Corporation      1,485,997.20   \n",
       "352                                                NaN               NaN   \n",
       "353                                                NaN               NaN   \n",
       "354                                                NaN               NaN   \n",
       "\n",
       "           Country Starting Date          Status  \\\n",
       "0       Madagascar   28 Oct 2020        Approved   \n",
       "1    Multinational   13 Oct 2020  Implementation   \n",
       "2       Madagascar   15 May 2020  Implementation   \n",
       "3        Mauritius   27 Apr 2020  Implementation   \n",
       "4           Angola   15 Apr 2020        Approved   \n",
       "..             ...           ...             ...   \n",
       "350        Morocco   08 May 1974      Completion   \n",
       "351         Malawi   22 Nov 1972      Completion   \n",
       "352            NaN           NaN             NaN   \n",
       "353            NaN           NaN             NaN   \n",
       "354            NaN           NaN             NaN   \n",
       "\n",
       "              Source of Financing   Sector         Sovereign  \n",
       "0        African Development Fund  Finance         Sovereign  \n",
       "1         Fragile States Facility  Finance         Sovereign  \n",
       "2         Fragile States Facility  Finance         Sovereign  \n",
       "3    Middle Income Countries Fund  Finance         Sovereign  \n",
       "4        African Development Bank  Finance     Non Sovereign  \n",
       "..                            ...      ...               ...  \n",
       "350      African Development Bank  Finance         Sovereign  \n",
       "351      African Development Bank  Finance         Sovereign  \n",
       "352                           NaN      NaN               NaN  \n",
       "353                           NaN      NaN  IATI Data Portal  \n",
       "354                           NaN      NaN               NaN  \n",
       "\n",
       "[355 rows x 9 columns]"
      ]
     },
     "execution_count": 3,
     "metadata": {},
     "output_type": "execute_result"
    }
   ],
   "source": [
    "df"
   ]
  },
  {
   "cell_type": "code",
   "execution_count": 4,
   "id": "8888c777",
   "metadata": {
    "execution": {
     "iopub.execute_input": "2024-08-23T17:49:30.670551Z",
     "iopub.status.busy": "2024-08-23T17:49:30.670051Z",
     "iopub.status.idle": "2024-08-23T17:49:30.705980Z",
     "shell.execute_reply": "2024-08-23T17:49:30.704631Z"
    },
    "papermill": {
     "duration": 0.052628,
     "end_time": "2024-08-23T17:49:30.708858",
     "exception": false,
     "start_time": "2024-08-23T17:49:30.656230",
     "status": "completed"
    },
    "tags": []
   },
   "outputs": [
    {
     "name": "stdout",
     "output_type": "stream",
     "text": [
      "<class 'pandas.core.frame.DataFrame'>\n",
      "RangeIndex: 355 entries, 0 to 354\n",
      "Data columns (total 9 columns):\n",
      " #   Column               Non-Null Count  Dtype \n",
      "---  ------               --------------  ----- \n",
      " 0   Project Code         337 non-null    object\n",
      " 1   Title                336 non-null    object\n",
      " 2   Commitment in U.A    336 non-null    object\n",
      " 3   Country              336 non-null    object\n",
      " 4   Starting Date        336 non-null    object\n",
      " 5   Status               336 non-null    object\n",
      " 6   Source of Financing  336 non-null    object\n",
      " 7   Sector               336 non-null    object\n",
      " 8   Sovereign            281 non-null    object\n",
      "dtypes: object(9)\n",
      "memory usage: 25.1+ KB\n"
     ]
    }
   ],
   "source": [
    "df.info()"
   ]
  },
  {
   "cell_type": "code",
   "execution_count": 5,
   "id": "65ed603d",
   "metadata": {
    "execution": {
     "iopub.execute_input": "2024-08-23T17:49:30.737186Z",
     "iopub.status.busy": "2024-08-23T17:49:30.736722Z",
     "iopub.status.idle": "2024-08-23T17:49:30.771548Z",
     "shell.execute_reply": "2024-08-23T17:49:30.769961Z"
    },
    "papermill": {
     "duration": 0.051942,
     "end_time": "2024-08-23T17:49:30.774647",
     "exception": false,
     "start_time": "2024-08-23T17:49:30.722705",
     "status": "completed"
    },
    "tags": []
   },
   "outputs": [
    {
     "data": {
      "text/html": [
       "<div>\n",
       "<style scoped>\n",
       "    .dataframe tbody tr th:only-of-type {\n",
       "        vertical-align: middle;\n",
       "    }\n",
       "\n",
       "    .dataframe tbody tr th {\n",
       "        vertical-align: top;\n",
       "    }\n",
       "\n",
       "    .dataframe thead th {\n",
       "        text-align: right;\n",
       "    }\n",
       "</style>\n",
       "<table border=\"1\" class=\"dataframe\">\n",
       "  <thead>\n",
       "    <tr style=\"text-align: right;\">\n",
       "      <th></th>\n",
       "      <th>Project Code</th>\n",
       "      <th>Title</th>\n",
       "      <th>Commitment in U.A</th>\n",
       "      <th>Country</th>\n",
       "      <th>Starting Date</th>\n",
       "      <th>Status</th>\n",
       "      <th>Source of Financing</th>\n",
       "      <th>Sector</th>\n",
       "      <th>Sovereign</th>\n",
       "    </tr>\n",
       "  </thead>\n",
       "  <tbody>\n",
       "    <tr>\n",
       "      <th>count</th>\n",
       "      <td>337</td>\n",
       "      <td>336</td>\n",
       "      <td>336</td>\n",
       "      <td>336</td>\n",
       "      <td>336</td>\n",
       "      <td>336</td>\n",
       "      <td>336</td>\n",
       "      <td>336</td>\n",
       "      <td>281</td>\n",
       "    </tr>\n",
       "    <tr>\n",
       "      <th>unique</th>\n",
       "      <td>337</td>\n",
       "      <td>320</td>\n",
       "      <td>305</td>\n",
       "      <td>47</td>\n",
       "      <td>262</td>\n",
       "      <td>4</td>\n",
       "      <td>9</td>\n",
       "      <td>1</td>\n",
       "      <td>3</td>\n",
       "    </tr>\n",
       "    <tr>\n",
       "      <th>top</th>\n",
       "      <td>P-MG-H00-002</td>\n",
       "      <td>Line of Credit II</td>\n",
       "      <td>70,832,064.26</td>\n",
       "      <td>Multinational</td>\n",
       "      <td>17 Jul 2019</td>\n",
       "      <td>Completion</td>\n",
       "      <td>African Development Bank</td>\n",
       "      <td>Finance</td>\n",
       "      <td>Sovereign</td>\n",
       "    </tr>\n",
       "    <tr>\n",
       "      <th>freq</th>\n",
       "      <td>1</td>\n",
       "      <td>3</td>\n",
       "      <td>4</td>\n",
       "      <td>65</td>\n",
       "      <td>7</td>\n",
       "      <td>210</td>\n",
       "      <td>224</td>\n",
       "      <td>336</td>\n",
       "      <td>167</td>\n",
       "    </tr>\n",
       "  </tbody>\n",
       "</table>\n",
       "</div>"
      ],
      "text/plain": [
       "        Project Code              Title Commitment in U.A        Country  \\\n",
       "count            337                336               336            336   \n",
       "unique           337                320               305             47   \n",
       "top     P-MG-H00-002  Line of Credit II     70,832,064.26  Multinational   \n",
       "freq               1                  3                 4             65   \n",
       "\n",
       "       Starting Date      Status       Source of Financing   Sector  Sovereign  \n",
       "count            336         336                       336      336        281  \n",
       "unique           262           4                         9        1          3  \n",
       "top      17 Jul 2019  Completion  African Development Bank  Finance  Sovereign  \n",
       "freq               7         210                       224      336        167  "
      ]
     },
     "execution_count": 5,
     "metadata": {},
     "output_type": "execute_result"
    }
   ],
   "source": [
    "df.describe()"
   ]
  },
  {
   "cell_type": "markdown",
   "id": "9e9422bf",
   "metadata": {
    "papermill": {
     "duration": 0.012303,
     "end_time": "2024-08-23T17:49:30.799990",
     "exception": false,
     "start_time": "2024-08-23T17:49:30.787687",
     "status": "completed"
    },
    "tags": []
   },
   "source": [
    "## Preproccessing"
   ]
  },
  {
   "cell_type": "code",
   "execution_count": 6,
   "id": "85fbe3f9",
   "metadata": {
    "execution": {
     "iopub.execute_input": "2024-08-23T17:49:30.826730Z",
     "iopub.status.busy": "2024-08-23T17:49:30.826234Z",
     "iopub.status.idle": "2024-08-23T17:49:30.835417Z",
     "shell.execute_reply": "2024-08-23T17:49:30.833368Z"
    },
    "papermill": {
     "duration": 0.026619,
     "end_time": "2024-08-23T17:49:30.838931",
     "exception": false,
     "start_time": "2024-08-23T17:49:30.812312",
     "status": "completed"
    },
    "tags": []
   },
   "outputs": [],
   "source": [
    "df1=df.dropna()"
   ]
  },
  {
   "cell_type": "code",
   "execution_count": 7,
   "id": "5bc48313",
   "metadata": {
    "execution": {
     "iopub.execute_input": "2024-08-23T17:49:30.865730Z",
     "iopub.status.busy": "2024-08-23T17:49:30.865265Z",
     "iopub.status.idle": "2024-08-23T17:49:30.880001Z",
     "shell.execute_reply": "2024-08-23T17:49:30.878587Z"
    },
    "papermill": {
     "duration": 0.031112,
     "end_time": "2024-08-23T17:49:30.882873",
     "exception": false,
     "start_time": "2024-08-23T17:49:30.851761",
     "status": "completed"
    },
    "tags": []
   },
   "outputs": [
    {
     "name": "stdout",
     "output_type": "stream",
     "text": [
      "<class 'pandas.core.frame.DataFrame'>\n",
      "Index: 280 entries, 0 to 351\n",
      "Data columns (total 9 columns):\n",
      " #   Column               Non-Null Count  Dtype \n",
      "---  ------               --------------  ----- \n",
      " 0   Project Code         280 non-null    object\n",
      " 1   Title                280 non-null    object\n",
      " 2   Commitment in U.A    280 non-null    object\n",
      " 3   Country              280 non-null    object\n",
      " 4   Starting Date        280 non-null    object\n",
      " 5   Status               280 non-null    object\n",
      " 6   Source of Financing  280 non-null    object\n",
      " 7   Sector               280 non-null    object\n",
      " 8   Sovereign            280 non-null    object\n",
      "dtypes: object(9)\n",
      "memory usage: 21.9+ KB\n"
     ]
    }
   ],
   "source": [
    "df1.info()"
   ]
  },
  {
   "cell_type": "code",
   "execution_count": 8,
   "id": "de3fba23",
   "metadata": {
    "_kg_hide-input": true,
    "collapsed": true,
    "execution": {
     "iopub.execute_input": "2024-08-23T17:49:30.910934Z",
     "iopub.status.busy": "2024-08-23T17:49:30.910402Z",
     "iopub.status.idle": "2024-08-23T17:49:30.928231Z",
     "shell.execute_reply": "2024-08-23T17:49:30.926507Z"
    },
    "jupyter": {
     "outputs_hidden": true
    },
    "papermill": {
     "duration": 0.035827,
     "end_time": "2024-08-23T17:49:30.932288",
     "exception": false,
     "start_time": "2024-08-23T17:49:30.896461",
     "status": "completed"
    },
    "tags": []
   },
   "outputs": [
    {
     "name": "stderr",
     "output_type": "stream",
     "text": [
      "/tmp/ipykernel_17/2192952543.py:1: SettingWithCopyWarning: \n",
      "A value is trying to be set on a copy of a slice from a DataFrame.\n",
      "Try using .loc[row_indexer,col_indexer] = value instead\n",
      "\n",
      "See the caveats in the documentation: https://pandas.pydata.org/pandas-docs/stable/user_guide/indexing.html#returning-a-view-versus-a-copy\n",
      "  df1['Starting Date']=pd.to_datetime(df1['Starting Date'])\n"
     ]
    }
   ],
   "source": [
    "df1['Starting Date']=pd.to_datetime(df1['Starting Date']) "
   ]
  },
  {
   "cell_type": "code",
   "execution_count": 9,
   "id": "f2bc5733",
   "metadata": {
    "execution": {
     "iopub.execute_input": "2024-08-23T17:49:30.960415Z",
     "iopub.status.busy": "2024-08-23T17:49:30.959967Z",
     "iopub.status.idle": "2024-08-23T17:49:30.981311Z",
     "shell.execute_reply": "2024-08-23T17:49:30.979868Z"
    },
    "papermill": {
     "duration": 0.03889,
     "end_time": "2024-08-23T17:49:30.984582",
     "exception": false,
     "start_time": "2024-08-23T17:49:30.945692",
     "status": "completed"
    },
    "tags": []
   },
   "outputs": [
    {
     "data": {
      "text/html": [
       "<div>\n",
       "<style scoped>\n",
       "    .dataframe tbody tr th:only-of-type {\n",
       "        vertical-align: middle;\n",
       "    }\n",
       "\n",
       "    .dataframe tbody tr th {\n",
       "        vertical-align: top;\n",
       "    }\n",
       "\n",
       "    .dataframe thead th {\n",
       "        text-align: right;\n",
       "    }\n",
       "</style>\n",
       "<table border=\"1\" class=\"dataframe\">\n",
       "  <thead>\n",
       "    <tr style=\"text-align: right;\">\n",
       "      <th></th>\n",
       "      <th>Project Code</th>\n",
       "      <th>Title</th>\n",
       "      <th>Commitment in U.A</th>\n",
       "      <th>Country</th>\n",
       "      <th>Starting Date</th>\n",
       "      <th>Status</th>\n",
       "      <th>Source of Financing</th>\n",
       "      <th>Sector</th>\n",
       "      <th>Sovereign</th>\n",
       "    </tr>\n",
       "  </thead>\n",
       "  <tbody>\n",
       "    <tr>\n",
       "      <th>0</th>\n",
       "      <td>P-MG-H00-002</td>\n",
       "      <td>Madagascar - Industrialisation and Financial S...</td>\n",
       "      <td>12,080,000.00</td>\n",
       "      <td>Madagascar</td>\n",
       "      <td>2020-10-28</td>\n",
       "      <td>Approved</td>\n",
       "      <td>African Development Fund</td>\n",
       "      <td>Finance</td>\n",
       "      <td>Sovereign</td>\n",
       "    </tr>\n",
       "    <tr>\n",
       "      <th>1</th>\n",
       "      <td>P-Z1-H00-063</td>\n",
       "      <td>Multinational - Domestic debt markets developm...</td>\n",
       "      <td>1,500,000.00</td>\n",
       "      <td>Multinational</td>\n",
       "      <td>2020-10-13</td>\n",
       "      <td>Implementation</td>\n",
       "      <td>Fragile States Facility</td>\n",
       "      <td>Finance</td>\n",
       "      <td>Sovereign</td>\n",
       "    </tr>\n",
       "    <tr>\n",
       "      <th>2</th>\n",
       "      <td>P-MG-HAZ-001</td>\n",
       "      <td>Madagascar - SME Business Linkages Program</td>\n",
       "      <td>1,000,000.00</td>\n",
       "      <td>Madagascar</td>\n",
       "      <td>2020-05-15</td>\n",
       "      <td>Implementation</td>\n",
       "      <td>Fragile States Facility</td>\n",
       "      <td>Finance</td>\n",
       "      <td>Sovereign</td>\n",
       "    </tr>\n",
       "    <tr>\n",
       "      <th>3</th>\n",
       "      <td>P-MU-H00-004</td>\n",
       "      <td>Mauritius - Stock Exchange Mauritius (SEM) Pro...</td>\n",
       "      <td>430,000.00</td>\n",
       "      <td>Mauritius</td>\n",
       "      <td>2020-04-27</td>\n",
       "      <td>Implementation</td>\n",
       "      <td>Middle Income Countries Fund</td>\n",
       "      <td>Finance</td>\n",
       "      <td>Sovereign</td>\n",
       "    </tr>\n",
       "    <tr>\n",
       "      <th>4</th>\n",
       "      <td>P-AO-HAB-009</td>\n",
       "      <td>Angola - Line of Credit to « Banco Millennium ...</td>\n",
       "      <td>23,415,605.04</td>\n",
       "      <td>Angola</td>\n",
       "      <td>2020-04-15</td>\n",
       "      <td>Approved</td>\n",
       "      <td>African Development Bank</td>\n",
       "      <td>Finance</td>\n",
       "      <td>Non Sovereign</td>\n",
       "    </tr>\n",
       "  </tbody>\n",
       "</table>\n",
       "</div>"
      ],
      "text/plain": [
       "   Project Code                                              Title  \\\n",
       "0  P-MG-H00-002  Madagascar - Industrialisation and Financial S...   \n",
       "1  P-Z1-H00-063  Multinational - Domestic debt markets developm...   \n",
       "2  P-MG-HAZ-001         Madagascar - SME Business Linkages Program   \n",
       "3  P-MU-H00-004  Mauritius - Stock Exchange Mauritius (SEM) Pro...   \n",
       "4  P-AO-HAB-009  Angola - Line of Credit to « Banco Millennium ...   \n",
       "\n",
       "  Commitment in U.A        Country Starting Date          Status  \\\n",
       "0     12,080,000.00     Madagascar    2020-10-28        Approved   \n",
       "1      1,500,000.00  Multinational    2020-10-13  Implementation   \n",
       "2      1,000,000.00     Madagascar    2020-05-15  Implementation   \n",
       "3        430,000.00      Mauritius    2020-04-27  Implementation   \n",
       "4     23,415,605.04         Angola    2020-04-15        Approved   \n",
       "\n",
       "            Source of Financing   Sector      Sovereign  \n",
       "0      African Development Fund  Finance      Sovereign  \n",
       "1       Fragile States Facility  Finance      Sovereign  \n",
       "2       Fragile States Facility  Finance      Sovereign  \n",
       "3  Middle Income Countries Fund  Finance      Sovereign  \n",
       "4      African Development Bank  Finance  Non Sovereign  "
      ]
     },
     "execution_count": 9,
     "metadata": {},
     "output_type": "execute_result"
    }
   ],
   "source": [
    "df1.head()"
   ]
  },
  {
   "cell_type": "code",
   "execution_count": 10,
   "id": "66fa2466",
   "metadata": {
    "execution": {
     "iopub.execute_input": "2024-08-23T17:49:31.012623Z",
     "iopub.status.busy": "2024-08-23T17:49:31.012096Z",
     "iopub.status.idle": "2024-08-23T17:49:31.029038Z",
     "shell.execute_reply": "2024-08-23T17:49:31.027185Z"
    },
    "papermill": {
     "duration": 0.034003,
     "end_time": "2024-08-23T17:49:31.032140",
     "exception": false,
     "start_time": "2024-08-23T17:49:30.998137",
     "status": "completed"
    },
    "tags": []
   },
   "outputs": [
    {
     "name": "stdout",
     "output_type": "stream",
     "text": [
      "<class 'pandas.core.frame.DataFrame'>\n",
      "Index: 280 entries, 0 to 351\n",
      "Data columns (total 9 columns):\n",
      " #   Column               Non-Null Count  Dtype         \n",
      "---  ------               --------------  -----         \n",
      " 0   Project Code         280 non-null    object        \n",
      " 1   Title                280 non-null    object        \n",
      " 2   Commitment in U.A    280 non-null    object        \n",
      " 3   Country              280 non-null    object        \n",
      " 4   Starting Date        280 non-null    datetime64[ns]\n",
      " 5   Status               280 non-null    object        \n",
      " 6   Source of Financing  280 non-null    object        \n",
      " 7   Sector               280 non-null    object        \n",
      " 8   Sovereign            280 non-null    object        \n",
      "dtypes: datetime64[ns](1), object(8)\n",
      "memory usage: 21.9+ KB\n"
     ]
    }
   ],
   "source": [
    "df1.info()"
   ]
  },
  {
   "cell_type": "code",
   "execution_count": 11,
   "id": "c440d008",
   "metadata": {
    "_kg_hide-input": true,
    "collapsed": true,
    "execution": {
     "iopub.execute_input": "2024-08-23T17:49:31.063683Z",
     "iopub.status.busy": "2024-08-23T17:49:31.063183Z",
     "iopub.status.idle": "2024-08-23T17:49:31.074168Z",
     "shell.execute_reply": "2024-08-23T17:49:31.072234Z"
    },
    "jupyter": {
     "outputs_hidden": true
    },
    "papermill": {
     "duration": 0.030461,
     "end_time": "2024-08-23T17:49:31.078037",
     "exception": false,
     "start_time": "2024-08-23T17:49:31.047576",
     "status": "completed"
    },
    "tags": []
   },
   "outputs": [
    {
     "name": "stderr",
     "output_type": "stream",
     "text": [
      "/tmp/ipykernel_17/3256154159.py:1: SettingWithCopyWarning: \n",
      "A value is trying to be set on a copy of a slice from a DataFrame.\n",
      "Try using .loc[row_indexer,col_indexer] = value instead\n",
      "\n",
      "See the caveats in the documentation: https://pandas.pydata.org/pandas-docs/stable/user_guide/indexing.html#returning-a-view-versus-a-copy\n",
      "  df1['starting_year']=df1['Starting Date'].dt.year\n"
     ]
    }
   ],
   "source": [
    "df1['starting_year']=df1['Starting Date'].dt.year"
   ]
  },
  {
   "cell_type": "code",
   "execution_count": 12,
   "id": "3ff894b7",
   "metadata": {
    "execution": {
     "iopub.execute_input": "2024-08-23T17:49:31.109542Z",
     "iopub.status.busy": "2024-08-23T17:49:31.109052Z",
     "iopub.status.idle": "2024-08-23T17:49:31.130347Z",
     "shell.execute_reply": "2024-08-23T17:49:31.129025Z"
    },
    "papermill": {
     "duration": 0.041815,
     "end_time": "2024-08-23T17:49:31.133614",
     "exception": false,
     "start_time": "2024-08-23T17:49:31.091799",
     "status": "completed"
    },
    "tags": []
   },
   "outputs": [
    {
     "data": {
      "text/html": [
       "<div>\n",
       "<style scoped>\n",
       "    .dataframe tbody tr th:only-of-type {\n",
       "        vertical-align: middle;\n",
       "    }\n",
       "\n",
       "    .dataframe tbody tr th {\n",
       "        vertical-align: top;\n",
       "    }\n",
       "\n",
       "    .dataframe thead th {\n",
       "        text-align: right;\n",
       "    }\n",
       "</style>\n",
       "<table border=\"1\" class=\"dataframe\">\n",
       "  <thead>\n",
       "    <tr style=\"text-align: right;\">\n",
       "      <th></th>\n",
       "      <th>Project Code</th>\n",
       "      <th>Title</th>\n",
       "      <th>Commitment in U.A</th>\n",
       "      <th>Country</th>\n",
       "      <th>Starting Date</th>\n",
       "      <th>Status</th>\n",
       "      <th>Source of Financing</th>\n",
       "      <th>Sector</th>\n",
       "      <th>Sovereign</th>\n",
       "      <th>starting_year</th>\n",
       "    </tr>\n",
       "  </thead>\n",
       "  <tbody>\n",
       "    <tr>\n",
       "      <th>0</th>\n",
       "      <td>P-MG-H00-002</td>\n",
       "      <td>Madagascar - Industrialisation and Financial S...</td>\n",
       "      <td>12,080,000.00</td>\n",
       "      <td>Madagascar</td>\n",
       "      <td>2020-10-28</td>\n",
       "      <td>Approved</td>\n",
       "      <td>African Development Fund</td>\n",
       "      <td>Finance</td>\n",
       "      <td>Sovereign</td>\n",
       "      <td>2020</td>\n",
       "    </tr>\n",
       "    <tr>\n",
       "      <th>1</th>\n",
       "      <td>P-Z1-H00-063</td>\n",
       "      <td>Multinational - Domestic debt markets developm...</td>\n",
       "      <td>1,500,000.00</td>\n",
       "      <td>Multinational</td>\n",
       "      <td>2020-10-13</td>\n",
       "      <td>Implementation</td>\n",
       "      <td>Fragile States Facility</td>\n",
       "      <td>Finance</td>\n",
       "      <td>Sovereign</td>\n",
       "      <td>2020</td>\n",
       "    </tr>\n",
       "    <tr>\n",
       "      <th>2</th>\n",
       "      <td>P-MG-HAZ-001</td>\n",
       "      <td>Madagascar - SME Business Linkages Program</td>\n",
       "      <td>1,000,000.00</td>\n",
       "      <td>Madagascar</td>\n",
       "      <td>2020-05-15</td>\n",
       "      <td>Implementation</td>\n",
       "      <td>Fragile States Facility</td>\n",
       "      <td>Finance</td>\n",
       "      <td>Sovereign</td>\n",
       "      <td>2020</td>\n",
       "    </tr>\n",
       "    <tr>\n",
       "      <th>3</th>\n",
       "      <td>P-MU-H00-004</td>\n",
       "      <td>Mauritius - Stock Exchange Mauritius (SEM) Pro...</td>\n",
       "      <td>430,000.00</td>\n",
       "      <td>Mauritius</td>\n",
       "      <td>2020-04-27</td>\n",
       "      <td>Implementation</td>\n",
       "      <td>Middle Income Countries Fund</td>\n",
       "      <td>Finance</td>\n",
       "      <td>Sovereign</td>\n",
       "      <td>2020</td>\n",
       "    </tr>\n",
       "    <tr>\n",
       "      <th>4</th>\n",
       "      <td>P-AO-HAB-009</td>\n",
       "      <td>Angola - Line of Credit to « Banco Millennium ...</td>\n",
       "      <td>23,415,605.04</td>\n",
       "      <td>Angola</td>\n",
       "      <td>2020-04-15</td>\n",
       "      <td>Approved</td>\n",
       "      <td>African Development Bank</td>\n",
       "      <td>Finance</td>\n",
       "      <td>Non Sovereign</td>\n",
       "      <td>2020</td>\n",
       "    </tr>\n",
       "  </tbody>\n",
       "</table>\n",
       "</div>"
      ],
      "text/plain": [
       "   Project Code                                              Title  \\\n",
       "0  P-MG-H00-002  Madagascar - Industrialisation and Financial S...   \n",
       "1  P-Z1-H00-063  Multinational - Domestic debt markets developm...   \n",
       "2  P-MG-HAZ-001         Madagascar - SME Business Linkages Program   \n",
       "3  P-MU-H00-004  Mauritius - Stock Exchange Mauritius (SEM) Pro...   \n",
       "4  P-AO-HAB-009  Angola - Line of Credit to « Banco Millennium ...   \n",
       "\n",
       "  Commitment in U.A        Country Starting Date          Status  \\\n",
       "0     12,080,000.00     Madagascar    2020-10-28        Approved   \n",
       "1      1,500,000.00  Multinational    2020-10-13  Implementation   \n",
       "2      1,000,000.00     Madagascar    2020-05-15  Implementation   \n",
       "3        430,000.00      Mauritius    2020-04-27  Implementation   \n",
       "4     23,415,605.04         Angola    2020-04-15        Approved   \n",
       "\n",
       "            Source of Financing   Sector      Sovereign  starting_year  \n",
       "0      African Development Fund  Finance      Sovereign           2020  \n",
       "1       Fragile States Facility  Finance      Sovereign           2020  \n",
       "2       Fragile States Facility  Finance      Sovereign           2020  \n",
       "3  Middle Income Countries Fund  Finance      Sovereign           2020  \n",
       "4      African Development Bank  Finance  Non Sovereign           2020  "
      ]
     },
     "execution_count": 12,
     "metadata": {},
     "output_type": "execute_result"
    }
   ],
   "source": [
    "df1.head()"
   ]
  },
  {
   "cell_type": "code",
   "execution_count": 13,
   "id": "1d0c8587",
   "metadata": {
    "execution": {
     "iopub.execute_input": "2024-08-23T17:49:31.162656Z",
     "iopub.status.busy": "2024-08-23T17:49:31.162014Z",
     "iopub.status.idle": "2024-08-23T17:49:31.175608Z",
     "shell.execute_reply": "2024-08-23T17:49:31.174142Z"
    },
    "papermill": {
     "duration": 0.03114,
     "end_time": "2024-08-23T17:49:31.178406",
     "exception": false,
     "start_time": "2024-08-23T17:49:31.147266",
     "status": "completed"
    },
    "tags": []
   },
   "outputs": [
    {
     "data": {
      "text/plain": [
       "0"
      ]
     },
     "execution_count": 13,
     "metadata": {},
     "output_type": "execute_result"
    }
   ],
   "source": [
    "df1.duplicated().sum()"
   ]
  },
  {
   "cell_type": "code",
   "execution_count": 14,
   "id": "83d6156e",
   "metadata": {
    "execution": {
     "iopub.execute_input": "2024-08-23T17:49:31.208509Z",
     "iopub.status.busy": "2024-08-23T17:49:31.208013Z",
     "iopub.status.idle": "2024-08-23T17:49:31.215134Z",
     "shell.execute_reply": "2024-08-23T17:49:31.213867Z"
    },
    "papermill": {
     "duration": 0.025949,
     "end_time": "2024-08-23T17:49:31.218074",
     "exception": false,
     "start_time": "2024-08-23T17:49:31.192125",
     "status": "completed"
    },
    "tags": []
   },
   "outputs": [],
   "source": [
    "df2=df1[df1['starting_year']==2019]"
   ]
  },
  {
   "cell_type": "code",
   "execution_count": 15,
   "id": "760ffcf3",
   "metadata": {
    "execution": {
     "iopub.execute_input": "2024-08-23T17:49:31.248067Z",
     "iopub.status.busy": "2024-08-23T17:49:31.247613Z",
     "iopub.status.idle": "2024-08-23T17:49:31.266873Z",
     "shell.execute_reply": "2024-08-23T17:49:31.264741Z"
    },
    "papermill": {
     "duration": 0.03894,
     "end_time": "2024-08-23T17:49:31.270806",
     "exception": false,
     "start_time": "2024-08-23T17:49:31.231866",
     "status": "completed"
    },
    "tags": []
   },
   "outputs": [
    {
     "data": {
      "text/html": [
       "<div>\n",
       "<style scoped>\n",
       "    .dataframe tbody tr th:only-of-type {\n",
       "        vertical-align: middle;\n",
       "    }\n",
       "\n",
       "    .dataframe tbody tr th {\n",
       "        vertical-align: top;\n",
       "    }\n",
       "\n",
       "    .dataframe thead th {\n",
       "        text-align: right;\n",
       "    }\n",
       "</style>\n",
       "<table border=\"1\" class=\"dataframe\">\n",
       "  <thead>\n",
       "    <tr style=\"text-align: right;\">\n",
       "      <th></th>\n",
       "      <th>Project Code</th>\n",
       "      <th>Title</th>\n",
       "      <th>Commitment in U.A</th>\n",
       "      <th>Country</th>\n",
       "      <th>Starting Date</th>\n",
       "      <th>Status</th>\n",
       "      <th>Source of Financing</th>\n",
       "      <th>Sector</th>\n",
       "      <th>Sovereign</th>\n",
       "      <th>starting_year</th>\n",
       "    </tr>\n",
       "  </thead>\n",
       "  <tbody>\n",
       "    <tr>\n",
       "      <th>10</th>\n",
       "      <td>P-ML-HZ0-001</td>\n",
       "      <td>Mali - African Trade Insurance Agency (ATI): C...</td>\n",
       "      <td>7,290,000.00</td>\n",
       "      <td>Mali</td>\n",
       "      <td>2019-12-05</td>\n",
       "      <td>Approved</td>\n",
       "      <td>African Development Fund</td>\n",
       "      <td>Finance</td>\n",
       "      <td>Sovereign</td>\n",
       "      <td>2019</td>\n",
       "    </tr>\n",
       "    <tr>\n",
       "      <th>11</th>\n",
       "      <td>P-KE-HAB-030</td>\n",
       "      <td>Kenya - Equity Group Holdings Plc</td>\n",
       "      <td>73,173,765.74</td>\n",
       "      <td>Kenya</td>\n",
       "      <td>2019-11-28</td>\n",
       "      <td>Approved</td>\n",
       "      <td>African Development Bank</td>\n",
       "      <td>Finance</td>\n",
       "      <td>Non Sovereign</td>\n",
       "      <td>2019</td>\n",
       "    </tr>\n",
       "    <tr>\n",
       "      <th>12</th>\n",
       "      <td>P-MA-HAA-012</td>\n",
       "      <td>Morocco - \"Fonds dEquipement Communal (FEC)\"</td>\n",
       "      <td>79,781,717.22</td>\n",
       "      <td>Morocco</td>\n",
       "      <td>2019-11-28</td>\n",
       "      <td>Approved</td>\n",
       "      <td>African Development Bank</td>\n",
       "      <td>Finance</td>\n",
       "      <td>Non Sovereign</td>\n",
       "      <td>2019</td>\n",
       "    </tr>\n",
       "    <tr>\n",
       "      <th>13</th>\n",
       "      <td>P-Z1-HB0-064</td>\n",
       "      <td>Multinational  Project for Digitisation of Go...</td>\n",
       "      <td>1,258,000.00</td>\n",
       "      <td>Multinational</td>\n",
       "      <td>2019-11-25</td>\n",
       "      <td>Implementation</td>\n",
       "      <td>Fragile States Facility</td>\n",
       "      <td>Finance</td>\n",
       "      <td>Sovereign</td>\n",
       "      <td>2019</td>\n",
       "    </tr>\n",
       "    <tr>\n",
       "      <th>14</th>\n",
       "      <td>P-Z1-HB0-071</td>\n",
       "      <td>SIERRA LEONE - Government Payments Digitizatio...</td>\n",
       "      <td>279,000.00</td>\n",
       "      <td>Multinational</td>\n",
       "      <td>2019-11-25</td>\n",
       "      <td>Approved</td>\n",
       "      <td>Fragile States Facility</td>\n",
       "      <td>Finance</td>\n",
       "      <td>Sovereign</td>\n",
       "      <td>2019</td>\n",
       "    </tr>\n",
       "  </tbody>\n",
       "</table>\n",
       "</div>"
      ],
      "text/plain": [
       "    Project Code                                              Title  \\\n",
       "10  P-ML-HZ0-001  Mali - African Trade Insurance Agency (ATI): C...   \n",
       "11  P-KE-HAB-030                  Kenya - Equity Group Holdings Plc   \n",
       "12  P-MA-HAA-012      Morocco - \"Fonds dEquipement Communal (FEC)\"   \n",
       "13  P-Z1-HB0-064  Multinational  Project for Digitisation of Go...   \n",
       "14  P-Z1-HB0-071  SIERRA LEONE - Government Payments Digitizatio...   \n",
       "\n",
       "   Commitment in U.A        Country Starting Date          Status  \\\n",
       "10      7,290,000.00           Mali    2019-12-05        Approved   \n",
       "11     73,173,765.74          Kenya    2019-11-28        Approved   \n",
       "12     79,781,717.22        Morocco    2019-11-28        Approved   \n",
       "13      1,258,000.00  Multinational    2019-11-25  Implementation   \n",
       "14        279,000.00  Multinational    2019-11-25        Approved   \n",
       "\n",
       "         Source of Financing   Sector      Sovereign  starting_year  \n",
       "10  African Development Fund  Finance      Sovereign           2019  \n",
       "11  African Development Bank  Finance  Non Sovereign           2019  \n",
       "12  African Development Bank  Finance  Non Sovereign           2019  \n",
       "13   Fragile States Facility  Finance      Sovereign           2019  \n",
       "14   Fragile States Facility  Finance      Sovereign           2019  "
      ]
     },
     "execution_count": 15,
     "metadata": {},
     "output_type": "execute_result"
    }
   ],
   "source": [
    "df2.head()"
   ]
  },
  {
   "cell_type": "code",
   "execution_count": 16,
   "id": "601767ec",
   "metadata": {
    "execution": {
     "iopub.execute_input": "2024-08-23T17:49:31.306687Z",
     "iopub.status.busy": "2024-08-23T17:49:31.306168Z",
     "iopub.status.idle": "2024-08-23T17:49:31.319549Z",
     "shell.execute_reply": "2024-08-23T17:49:31.317509Z"
    },
    "papermill": {
     "duration": 0.03521,
     "end_time": "2024-08-23T17:49:31.322461",
     "exception": false,
     "start_time": "2024-08-23T17:49:31.287251",
     "status": "completed"
    },
    "tags": []
   },
   "outputs": [],
   "source": [
    "df2=df2.drop(['Project Code','Title','Starting Date','Status','Source of Financing','Sector','Sovereign'],axis=1,)"
   ]
  },
  {
   "cell_type": "code",
   "execution_count": 17,
   "id": "75e8f789",
   "metadata": {
    "execution": {
     "iopub.execute_input": "2024-08-23T17:49:31.353348Z",
     "iopub.status.busy": "2024-08-23T17:49:31.352897Z",
     "iopub.status.idle": "2024-08-23T17:49:31.367853Z",
     "shell.execute_reply": "2024-08-23T17:49:31.366230Z"
    },
    "papermill": {
     "duration": 0.033631,
     "end_time": "2024-08-23T17:49:31.370740",
     "exception": false,
     "start_time": "2024-08-23T17:49:31.337109",
     "status": "completed"
    },
    "tags": []
   },
   "outputs": [
    {
     "data": {
      "text/html": [
       "<div>\n",
       "<style scoped>\n",
       "    .dataframe tbody tr th:only-of-type {\n",
       "        vertical-align: middle;\n",
       "    }\n",
       "\n",
       "    .dataframe tbody tr th {\n",
       "        vertical-align: top;\n",
       "    }\n",
       "\n",
       "    .dataframe thead th {\n",
       "        text-align: right;\n",
       "    }\n",
       "</style>\n",
       "<table border=\"1\" class=\"dataframe\">\n",
       "  <thead>\n",
       "    <tr style=\"text-align: right;\">\n",
       "      <th></th>\n",
       "      <th>Commitment in U.A</th>\n",
       "      <th>Country</th>\n",
       "      <th>starting_year</th>\n",
       "    </tr>\n",
       "  </thead>\n",
       "  <tbody>\n",
       "    <tr>\n",
       "      <th>10</th>\n",
       "      <td>7,290,000.00</td>\n",
       "      <td>Mali</td>\n",
       "      <td>2019</td>\n",
       "    </tr>\n",
       "    <tr>\n",
       "      <th>11</th>\n",
       "      <td>73,173,765.74</td>\n",
       "      <td>Kenya</td>\n",
       "      <td>2019</td>\n",
       "    </tr>\n",
       "    <tr>\n",
       "      <th>12</th>\n",
       "      <td>79,781,717.22</td>\n",
       "      <td>Morocco</td>\n",
       "      <td>2019</td>\n",
       "    </tr>\n",
       "    <tr>\n",
       "      <th>13</th>\n",
       "      <td>1,258,000.00</td>\n",
       "      <td>Multinational</td>\n",
       "      <td>2019</td>\n",
       "    </tr>\n",
       "    <tr>\n",
       "      <th>14</th>\n",
       "      <td>279,000.00</td>\n",
       "      <td>Multinational</td>\n",
       "      <td>2019</td>\n",
       "    </tr>\n",
       "  </tbody>\n",
       "</table>\n",
       "</div>"
      ],
      "text/plain": [
       "   Commitment in U.A        Country  starting_year\n",
       "10      7,290,000.00           Mali           2019\n",
       "11     73,173,765.74          Kenya           2019\n",
       "12     79,781,717.22        Morocco           2019\n",
       "13      1,258,000.00  Multinational           2019\n",
       "14        279,000.00  Multinational           2019"
      ]
     },
     "execution_count": 17,
     "metadata": {},
     "output_type": "execute_result"
    }
   ],
   "source": [
    "df2.head()"
   ]
  },
  {
   "cell_type": "code",
   "execution_count": 18,
   "id": "c7ba9b92",
   "metadata": {
    "execution": {
     "iopub.execute_input": "2024-08-23T17:49:31.404689Z",
     "iopub.status.busy": "2024-08-23T17:49:31.404181Z",
     "iopub.status.idle": "2024-08-23T17:49:31.411892Z",
     "shell.execute_reply": "2024-08-23T17:49:31.410415Z"
    },
    "papermill": {
     "duration": 0.030147,
     "end_time": "2024-08-23T17:49:31.416165",
     "exception": false,
     "start_time": "2024-08-23T17:49:31.386018",
     "status": "completed"
    },
    "tags": []
   },
   "outputs": [],
   "source": [
    "df2['Commitment in U.A']=df2['Commitment in U.A'].str.replace(r',','')"
   ]
  },
  {
   "cell_type": "code",
   "execution_count": 19,
   "id": "92a84fb8",
   "metadata": {
    "execution": {
     "iopub.execute_input": "2024-08-23T17:49:31.447133Z",
     "iopub.status.busy": "2024-08-23T17:49:31.446706Z",
     "iopub.status.idle": "2024-08-23T17:49:31.461732Z",
     "shell.execute_reply": "2024-08-23T17:49:31.460173Z"
    },
    "papermill": {
     "duration": 0.034413,
     "end_time": "2024-08-23T17:49:31.464634",
     "exception": false,
     "start_time": "2024-08-23T17:49:31.430221",
     "status": "completed"
    },
    "tags": []
   },
   "outputs": [
    {
     "data": {
      "text/html": [
       "<div>\n",
       "<style scoped>\n",
       "    .dataframe tbody tr th:only-of-type {\n",
       "        vertical-align: middle;\n",
       "    }\n",
       "\n",
       "    .dataframe tbody tr th {\n",
       "        vertical-align: top;\n",
       "    }\n",
       "\n",
       "    .dataframe thead th {\n",
       "        text-align: right;\n",
       "    }\n",
       "</style>\n",
       "<table border=\"1\" class=\"dataframe\">\n",
       "  <thead>\n",
       "    <tr style=\"text-align: right;\">\n",
       "      <th></th>\n",
       "      <th>Commitment in U.A</th>\n",
       "      <th>Country</th>\n",
       "      <th>starting_year</th>\n",
       "    </tr>\n",
       "  </thead>\n",
       "  <tbody>\n",
       "    <tr>\n",
       "      <th>10</th>\n",
       "      <td>7290000.00</td>\n",
       "      <td>Mali</td>\n",
       "      <td>2019</td>\n",
       "    </tr>\n",
       "    <tr>\n",
       "      <th>11</th>\n",
       "      <td>73173765.74</td>\n",
       "      <td>Kenya</td>\n",
       "      <td>2019</td>\n",
       "    </tr>\n",
       "    <tr>\n",
       "      <th>12</th>\n",
       "      <td>79781717.22</td>\n",
       "      <td>Morocco</td>\n",
       "      <td>2019</td>\n",
       "    </tr>\n",
       "    <tr>\n",
       "      <th>13</th>\n",
       "      <td>1258000.00</td>\n",
       "      <td>Multinational</td>\n",
       "      <td>2019</td>\n",
       "    </tr>\n",
       "    <tr>\n",
       "      <th>14</th>\n",
       "      <td>279000.00</td>\n",
       "      <td>Multinational</td>\n",
       "      <td>2019</td>\n",
       "    </tr>\n",
       "  </tbody>\n",
       "</table>\n",
       "</div>"
      ],
      "text/plain": [
       "   Commitment in U.A        Country  starting_year\n",
       "10        7290000.00           Mali           2019\n",
       "11       73173765.74          Kenya           2019\n",
       "12       79781717.22        Morocco           2019\n",
       "13        1258000.00  Multinational           2019\n",
       "14         279000.00  Multinational           2019"
      ]
     },
     "execution_count": 19,
     "metadata": {},
     "output_type": "execute_result"
    }
   ],
   "source": [
    "df2.head()"
   ]
  },
  {
   "cell_type": "code",
   "execution_count": 20,
   "id": "5a60044e",
   "metadata": {
    "execution": {
     "iopub.execute_input": "2024-08-23T17:49:31.496466Z",
     "iopub.status.busy": "2024-08-23T17:49:31.496005Z",
     "iopub.status.idle": "2024-08-23T17:49:31.506613Z",
     "shell.execute_reply": "2024-08-23T17:49:31.504781Z"
    },
    "papermill": {
     "duration": 0.031846,
     "end_time": "2024-08-23T17:49:31.511177",
     "exception": false,
     "start_time": "2024-08-23T17:49:31.479331",
     "status": "completed"
    },
    "tags": []
   },
   "outputs": [],
   "source": [
    "df2['Commitment in U.A']=df2['Commitment in U.A'].apply(pd.to_numeric)"
   ]
  },
  {
   "cell_type": "code",
   "execution_count": 21,
   "id": "cf286000",
   "metadata": {
    "execution": {
     "iopub.execute_input": "2024-08-23T17:49:31.551658Z",
     "iopub.status.busy": "2024-08-23T17:49:31.551142Z",
     "iopub.status.idle": "2024-08-23T17:49:31.571690Z",
     "shell.execute_reply": "2024-08-23T17:49:31.569864Z"
    },
    "papermill": {
     "duration": 0.048884,
     "end_time": "2024-08-23T17:49:31.577159",
     "exception": false,
     "start_time": "2024-08-23T17:49:31.528275",
     "status": "completed"
    },
    "tags": []
   },
   "outputs": [
    {
     "data": {
      "text/html": [
       "<div>\n",
       "<style scoped>\n",
       "    .dataframe tbody tr th:only-of-type {\n",
       "        vertical-align: middle;\n",
       "    }\n",
       "\n",
       "    .dataframe tbody tr th {\n",
       "        vertical-align: top;\n",
       "    }\n",
       "\n",
       "    .dataframe thead th {\n",
       "        text-align: right;\n",
       "    }\n",
       "</style>\n",
       "<table border=\"1\" class=\"dataframe\">\n",
       "  <thead>\n",
       "    <tr style=\"text-align: right;\">\n",
       "      <th></th>\n",
       "      <th>Commitment in U.A</th>\n",
       "      <th>Country</th>\n",
       "      <th>starting_year</th>\n",
       "    </tr>\n",
       "  </thead>\n",
       "  <tbody>\n",
       "    <tr>\n",
       "      <th>10</th>\n",
       "      <td>7290000.00</td>\n",
       "      <td>Mali</td>\n",
       "      <td>2019</td>\n",
       "    </tr>\n",
       "    <tr>\n",
       "      <th>11</th>\n",
       "      <td>73173765.74</td>\n",
       "      <td>Kenya</td>\n",
       "      <td>2019</td>\n",
       "    </tr>\n",
       "    <tr>\n",
       "      <th>12</th>\n",
       "      <td>79781717.22</td>\n",
       "      <td>Morocco</td>\n",
       "      <td>2019</td>\n",
       "    </tr>\n",
       "    <tr>\n",
       "      <th>13</th>\n",
       "      <td>1258000.00</td>\n",
       "      <td>Multinational</td>\n",
       "      <td>2019</td>\n",
       "    </tr>\n",
       "    <tr>\n",
       "      <th>14</th>\n",
       "      <td>279000.00</td>\n",
       "      <td>Multinational</td>\n",
       "      <td>2019</td>\n",
       "    </tr>\n",
       "  </tbody>\n",
       "</table>\n",
       "</div>"
      ],
      "text/plain": [
       "    Commitment in U.A        Country  starting_year\n",
       "10         7290000.00           Mali           2019\n",
       "11        73173765.74          Kenya           2019\n",
       "12        79781717.22        Morocco           2019\n",
       "13         1258000.00  Multinational           2019\n",
       "14          279000.00  Multinational           2019"
      ]
     },
     "execution_count": 21,
     "metadata": {},
     "output_type": "execute_result"
    }
   ],
   "source": [
    "df2.head()"
   ]
  },
  {
   "cell_type": "code",
   "execution_count": 22,
   "id": "1f1999b2",
   "metadata": {
    "execution": {
     "iopub.execute_input": "2024-08-23T17:49:31.610915Z",
     "iopub.status.busy": "2024-08-23T17:49:31.610324Z",
     "iopub.status.idle": "2024-08-23T17:49:31.628768Z",
     "shell.execute_reply": "2024-08-23T17:49:31.626662Z"
    },
    "papermill": {
     "duration": 0.040176,
     "end_time": "2024-08-23T17:49:31.632839",
     "exception": false,
     "start_time": "2024-08-23T17:49:31.592663",
     "status": "completed"
    },
    "tags": []
   },
   "outputs": [
    {
     "name": "stdout",
     "output_type": "stream",
     "text": [
      "<class 'pandas.core.frame.DataFrame'>\n",
      "Index: 26 entries, 10 to 36\n",
      "Data columns (total 3 columns):\n",
      " #   Column             Non-Null Count  Dtype  \n",
      "---  ------             --------------  -----  \n",
      " 0   Commitment in U.A  26 non-null     float64\n",
      " 1   Country            26 non-null     object \n",
      " 2   starting_year      26 non-null     int32  \n",
      "dtypes: float64(1), int32(1), object(1)\n",
      "memory usage: 728.0+ bytes\n"
     ]
    }
   ],
   "source": [
    "df2.info()"
   ]
  },
  {
   "cell_type": "markdown",
   "id": "4bd3586f",
   "metadata": {
    "papermill": {
     "duration": 0.015551,
     "end_time": "2024-08-23T17:49:31.665892",
     "exception": false,
     "start_time": "2024-08-23T17:49:31.650341",
     "status": "completed"
    },
    "tags": []
   },
   "source": [
    "## visualization"
   ]
  },
  {
   "cell_type": "code",
   "execution_count": 23,
   "id": "7e2c6702",
   "metadata": {
    "execution": {
     "iopub.execute_input": "2024-08-23T17:49:31.700835Z",
     "iopub.status.busy": "2024-08-23T17:49:31.700244Z",
     "iopub.status.idle": "2024-08-23T17:49:32.334796Z",
     "shell.execute_reply": "2024-08-23T17:49:32.333158Z"
    },
    "papermill": {
     "duration": 0.656232,
     "end_time": "2024-08-23T17:49:32.337829",
     "exception": false,
     "start_time": "2024-08-23T17:49:31.681597",
     "status": "completed"
    },
    "tags": []
   },
   "outputs": [
    {
     "data": {
      "text/plain": [
       "<Axes: xlabel='Country'>"
      ]
     },
     "execution_count": 23,
     "metadata": {},
     "output_type": "execute_result"
    },
    {
     "data": {
      "image/png": "[encoded data removed]",
      "text/plain": [
       "<Figure size 800x600 with 1 Axes>"
      ]
     },
     "metadata": {},
     "output_type": "display_data"
    }
   ],
   "source": [
    "df2.plot(x='Country',y='Commitment in U.A',kind='bar',figsize=(8,6))"
   ]
  },
  {
   "cell_type": "code",
   "execution_count": 24,
   "id": "5b2b3624",
   "metadata": {
    "execution": {
     "iopub.execute_input": "2024-08-23T17:49:32.371662Z",
     "iopub.status.busy": "2024-08-23T17:49:32.371206Z",
     "iopub.status.idle": "2024-08-23T17:49:32.382459Z",
     "shell.execute_reply": "2024-08-23T17:49:32.381250Z"
    },
    "papermill": {
     "duration": 0.032048,
     "end_time": "2024-08-23T17:49:32.385842",
     "exception": false,
     "start_time": "2024-08-23T17:49:32.353794",
     "status": "completed"
    },
    "tags": []
   },
   "outputs": [
    {
     "data": {
      "text/plain": [
       "Country\n",
       "Multinational    10\n",
       "Tunisia           4\n",
       "Kenya             3\n",
       "Mali              1\n",
       "Morocco           1\n",
       "Guinea            1\n",
       "Senegal           1\n",
       "Rwanda            1\n",
       "Mozambique        1\n",
       "Madagascar        1\n",
       "Botswana          1\n",
       "Nigeria           1\n",
       "Name: count, dtype: int64"
      ]
     },
     "execution_count": 24,
     "metadata": {},
     "output_type": "execute_result"
    }
   ],
   "source": [
    "df2['Country'].value_counts()"
   ]
  },
  {
   "cell_type": "code",
   "execution_count": 25,
   "id": "266d61f0",
   "metadata": {
    "execution": {
     "iopub.execute_input": "2024-08-23T17:49:32.419665Z",
     "iopub.status.busy": "2024-08-23T17:49:32.418274Z",
     "iopub.status.idle": "2024-08-23T17:49:32.427038Z",
     "shell.execute_reply": "2024-08-23T17:49:32.425909Z"
    },
    "papermill": {
     "duration": 0.028766,
     "end_time": "2024-08-23T17:49:32.429909",
     "exception": false,
     "start_time": "2024-08-23T17:49:32.401143",
     "status": "completed"
    },
    "tags": []
   },
   "outputs": [
    {
     "data": {
      "text/plain": [
       "890840182.19"
      ]
     },
     "execution_count": 25,
     "metadata": {},
     "output_type": "execute_result"
    }
   ],
   "source": [
    "df2['Commitment in U.A'].sum()"
   ]
  },
  {
   "cell_type": "code",
   "execution_count": 26,
   "id": "3e1c4bf0",
   "metadata": {
    "execution": {
     "iopub.execute_input": "2024-08-23T17:49:32.464824Z",
     "iopub.status.busy": "2024-08-23T17:49:32.464335Z",
     "iopub.status.idle": "2024-08-23T17:49:32.480116Z",
     "shell.execute_reply": "2024-08-23T17:49:32.478278Z"
    },
    "papermill": {
     "duration": 0.036363,
     "end_time": "2024-08-23T17:49:32.483318",
     "exception": false,
     "start_time": "2024-08-23T17:49:32.446955",
     "status": "completed"
    },
    "tags": []
   },
   "outputs": [],
   "source": [
    "m_multinational=df2.query('Country==\"Multinational\"')"
   ]
  },
  {
   "cell_type": "code",
   "execution_count": 27,
   "id": "6cd5912c",
   "metadata": {
    "execution": {
     "iopub.execute_input": "2024-08-23T17:49:32.517980Z",
     "iopub.status.busy": "2024-08-23T17:49:32.517523Z",
     "iopub.status.idle": "2024-08-23T17:49:32.527453Z",
     "shell.execute_reply": "2024-08-23T17:49:32.526006Z"
    },
    "papermill": {
     "duration": 0.031985,
     "end_time": "2024-08-23T17:49:32.531060",
     "exception": false,
     "start_time": "2024-08-23T17:49:32.499075",
     "status": "completed"
    },
    "tags": []
   },
   "outputs": [],
   "source": [
    "m_Tunisia=df2.query('Country==\"Tunisia\"')"
   ]
  },
  {
   "cell_type": "code",
   "execution_count": 28,
   "id": "df08119f",
   "metadata": {
    "execution": {
     "iopub.execute_input": "2024-08-23T17:49:32.567498Z",
     "iopub.status.busy": "2024-08-23T17:49:32.566374Z",
     "iopub.status.idle": "2024-08-23T17:49:32.575974Z",
     "shell.execute_reply": "2024-08-23T17:49:32.574746Z"
    },
    "papermill": {
     "duration": 0.02972,
     "end_time": "2024-08-23T17:49:32.578958",
     "exception": false,
     "start_time": "2024-08-23T17:49:32.549238",
     "status": "completed"
    },
    "tags": []
   },
   "outputs": [],
   "source": [
    "m_kenya=df2.query('Country==\"kenya\"')"
   ]
  },
  {
   "cell_type": "code",
   "execution_count": 29,
   "id": "b19947fa",
   "metadata": {
    "execution": {
     "iopub.execute_input": "2024-08-23T17:49:32.612073Z",
     "iopub.status.busy": "2024-08-23T17:49:32.611625Z",
     "iopub.status.idle": "2024-08-23T17:49:32.625658Z",
     "shell.execute_reply": "2024-08-23T17:49:32.623608Z"
    },
    "papermill": {
     "duration": 0.034373,
     "end_time": "2024-08-23T17:49:32.628907",
     "exception": false,
     "start_time": "2024-08-23T17:49:32.594534",
     "status": "completed"
    },
    "tags": []
   },
   "outputs": [
    {
     "data": {
      "text/html": [
       "<div>\n",
       "<style scoped>\n",
       "    .dataframe tbody tr th:only-of-type {\n",
       "        vertical-align: middle;\n",
       "    }\n",
       "\n",
       "    .dataframe tbody tr th {\n",
       "        vertical-align: top;\n",
       "    }\n",
       "\n",
       "    .dataframe thead th {\n",
       "        text-align: right;\n",
       "    }\n",
       "</style>\n",
       "<table border=\"1\" class=\"dataframe\">\n",
       "  <thead>\n",
       "    <tr style=\"text-align: right;\">\n",
       "      <th></th>\n",
       "      <th>Commitment in U.A</th>\n",
       "      <th>Country</th>\n",
       "      <th>starting_year</th>\n",
       "    </tr>\n",
       "  </thead>\n",
       "  <tbody>\n",
       "    <tr>\n",
       "      <th>28</th>\n",
       "      <td>84148876.19</td>\n",
       "      <td>Tunisia</td>\n",
       "      <td>2019</td>\n",
       "    </tr>\n",
       "    <tr>\n",
       "      <th>30</th>\n",
       "      <td>12593612.52</td>\n",
       "      <td>Tunisia</td>\n",
       "      <td>2019</td>\n",
       "    </tr>\n",
       "    <tr>\n",
       "      <th>31</th>\n",
       "      <td>29385095.88</td>\n",
       "      <td>Tunisia</td>\n",
       "      <td>2019</td>\n",
       "    </tr>\n",
       "    <tr>\n",
       "      <th>33</th>\n",
       "      <td>95319040.77</td>\n",
       "      <td>Tunisia</td>\n",
       "      <td>2019</td>\n",
       "    </tr>\n",
       "  </tbody>\n",
       "</table>\n",
       "</div>"
      ],
      "text/plain": [
       "    Commitment in U.A  Country  starting_year\n",
       "28        84148876.19  Tunisia           2019\n",
       "30        12593612.52  Tunisia           2019\n",
       "31        29385095.88  Tunisia           2019\n",
       "33        95319040.77  Tunisia           2019"
      ]
     },
     "execution_count": 29,
     "metadata": {},
     "output_type": "execute_result"
    }
   ],
   "source": [
    "m_Tunisia"
   ]
  },
  {
   "cell_type": "code",
   "execution_count": 30,
   "id": "49c117bf",
   "metadata": {
    "execution": {
     "iopub.execute_input": "2024-08-23T17:49:32.663971Z",
     "iopub.status.busy": "2024-08-23T17:49:32.663473Z",
     "iopub.status.idle": "2024-08-23T17:49:32.681149Z",
     "shell.execute_reply": "2024-08-23T17:49:32.678912Z"
    },
    "papermill": {
     "duration": 0.039391,
     "end_time": "2024-08-23T17:49:32.684482",
     "exception": false,
     "start_time": "2024-08-23T17:49:32.645091",
     "status": "completed"
    },
    "tags": []
   },
   "outputs": [
    {
     "data": {
      "text/html": [
       "<div>\n",
       "<style scoped>\n",
       "    .dataframe tbody tr th:only-of-type {\n",
       "        vertical-align: middle;\n",
       "    }\n",
       "\n",
       "    .dataframe tbody tr th {\n",
       "        vertical-align: top;\n",
       "    }\n",
       "\n",
       "    .dataframe thead th {\n",
       "        text-align: right;\n",
       "    }\n",
       "</style>\n",
       "<table border=\"1\" class=\"dataframe\">\n",
       "  <thead>\n",
       "    <tr style=\"text-align: right;\">\n",
       "      <th></th>\n",
       "      <th>Commitment in U.A</th>\n",
       "      <th>Country</th>\n",
       "      <th>starting_year</th>\n",
       "    </tr>\n",
       "  </thead>\n",
       "  <tbody>\n",
       "    <tr>\n",
       "      <th>13</th>\n",
       "      <td>1.258000e+06</td>\n",
       "      <td>Multinational</td>\n",
       "      <td>2019</td>\n",
       "    </tr>\n",
       "    <tr>\n",
       "      <th>14</th>\n",
       "      <td>2.790000e+05</td>\n",
       "      <td>Multinational</td>\n",
       "      <td>2019</td>\n",
       "    </tr>\n",
       "    <tr>\n",
       "      <th>15</th>\n",
       "      <td>4.630000e+05</td>\n",
       "      <td>Multinational</td>\n",
       "      <td>2019</td>\n",
       "    </tr>\n",
       "    <tr>\n",
       "      <th>16</th>\n",
       "      <td>7.833280e+05</td>\n",
       "      <td>Multinational</td>\n",
       "      <td>2019</td>\n",
       "    </tr>\n",
       "    <tr>\n",
       "      <th>22</th>\n",
       "      <td>3.658688e+07</td>\n",
       "      <td>Multinational</td>\n",
       "      <td>2019</td>\n",
       "    </tr>\n",
       "    <tr>\n",
       "      <th>23</th>\n",
       "      <td>1.463475e+08</td>\n",
       "      <td>Multinational</td>\n",
       "      <td>2019</td>\n",
       "    </tr>\n",
       "    <tr>\n",
       "      <th>24</th>\n",
       "      <td>3.658688e+07</td>\n",
       "      <td>Multinational</td>\n",
       "      <td>2019</td>\n",
       "    </tr>\n",
       "    <tr>\n",
       "      <th>25</th>\n",
       "      <td>7.978172e+07</td>\n",
       "      <td>Multinational</td>\n",
       "      <td>2019</td>\n",
       "    </tr>\n",
       "    <tr>\n",
       "      <th>26</th>\n",
       "      <td>4.800000e+06</td>\n",
       "      <td>Multinational</td>\n",
       "      <td>2019</td>\n",
       "    </tr>\n",
       "    <tr>\n",
       "      <th>36</th>\n",
       "      <td>9.000000e+05</td>\n",
       "      <td>Multinational</td>\n",
       "      <td>2019</td>\n",
       "    </tr>\n",
       "  </tbody>\n",
       "</table>\n",
       "</div>"
      ],
      "text/plain": [
       "    Commitment in U.A        Country  starting_year\n",
       "13       1.258000e+06  Multinational           2019\n",
       "14       2.790000e+05  Multinational           2019\n",
       "15       4.630000e+05  Multinational           2019\n",
       "16       7.833280e+05  Multinational           2019\n",
       "22       3.658688e+07  Multinational           2019\n",
       "23       1.463475e+08  Multinational           2019\n",
       "24       3.658688e+07  Multinational           2019\n",
       "25       7.978172e+07  Multinational           2019\n",
       "26       4.800000e+06  Multinational           2019\n",
       "36       9.000000e+05  Multinational           2019"
      ]
     },
     "execution_count": 30,
     "metadata": {},
     "output_type": "execute_result"
    }
   ],
   "source": [
    "m_multinational"
   ]
  },
  {
   "cell_type": "code",
   "execution_count": null,
   "id": "a18224b8",
   "metadata": {
    "papermill": {
     "duration": 0.016143,
     "end_time": "2024-08-23T17:49:32.718782",
     "exception": false,
     "start_time": "2024-08-23T17:49:32.702639",
     "status": "completed"
    },
    "tags": []
   },
   "outputs": [],
   "source": []
  }
 ],
 "metadata": {
  "kaggle": {
   "accelerator": "none",
   "dataSources": [
    {
     "datasetId": 996014,
     "sourceId": 1681046,
     "sourceType": "datasetVersion"
    }
   ],
   "dockerImageVersionId": 30761,
   "isGpuEnabled": false,
   "isInternetEnabled": true,
   "language": "python",
   "sourceType": "notebook"
  },
  "kernelspec": {
   "display_name": "Python 3",
   "language": "python",
   "name": "python3"
  },
  "language_info": {
   "codemirror_mode": {
    "name": "ipython",
    "version": 3
   },
   "file_extension": ".py",
   "mimetype": "text/x-python",
   "name": "python",
   "nbconvert_exporter": "python",
   "pygments_lexer": "ipython3",
   "version": "3.10.14"
  },
  "papermill": {
   "default_parameters": {},
   "duration": 9.137275,
   "end_time": "2024-08-23T17:49:33.459368",
   "environment_variables": {},
   "exception": null,
   "input_path": "__notebook__.ipynb",
   "output_path": "__notebook__.ipynb",
   "parameters": {},
   "start_time": "2024-08-23T17:49:24.322093",
   "version": "2.6.0"
  }
 },
 "nbformat": 4,
 "nbformat_minor": 5
}
