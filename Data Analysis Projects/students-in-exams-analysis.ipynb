{
 "cells": [
  {
   "cell_type": "markdown",
   "id": "18054196",
   "metadata": {
    "papermill": {
     "duration": 0.011469,
     "end_time": "2024-08-28T07:31:43.643062",
     "exception": false,
     "start_time": "2024-08-28T07:31:43.631593",
     "status": "completed"
    },
    "tags": []
   },
   "source": [
    "# import libraries"
   ]
  },
  {
   "cell_type": "code",
   "execution_count": 1,
   "id": "70a5bfc4",
   "metadata": {
    "execution": {
     "iopub.execute_input": "2024-08-28T07:31:43.665847Z",
     "iopub.status.busy": "2024-08-28T07:31:43.665414Z",
     "iopub.status.idle": "2024-08-28T07:31:44.059432Z",
     "shell.execute_reply": "2024-08-28T07:31:44.058353Z"
    },
    "papermill": {
     "duration": 0.408479,
     "end_time": "2024-08-28T07:31:44.062099",
     "exception": false,
     "start_time": "2024-08-28T07:31:43.653620",
     "status": "completed"
    },
    "tags": []
   },
   "outputs": [],
   "source": [
    "import numpy as np\n",
    "import pandas as pd"
   ]
  },
  {
   "cell_type": "markdown",
   "id": "1642a25c",
   "metadata": {
    "papermill": {
     "duration": 0.010246,
     "end_time": "2024-08-28T07:31:44.082811",
     "exception": false,
     "start_time": "2024-08-28T07:31:44.072565",
     "status": "completed"
    },
    "tags": []
   },
   "source": [
    "## load data and get info"
   ]
  },
  {
   "cell_type": "code",
   "execution_count": 2,
   "id": "156f3400",
   "metadata": {
    "execution": {
     "iopub.execute_input": "2024-08-28T07:31:44.105575Z",
     "iopub.status.busy": "2024-08-28T07:31:44.105045Z",
     "iopub.status.idle": "2024-08-28T07:31:44.132930Z",
     "shell.execute_reply": "2024-08-28T07:31:44.131746Z"
    },
    "papermill": {
     "duration": 0.042177,
     "end_time": "2024-08-28T07:31:44.135467",
     "exception": false,
     "start_time": "2024-08-28T07:31:44.093290",
     "status": "completed"
    },
    "tags": []
   },
   "outputs": [],
   "source": [
    "df = pd.read_csv('/kaggle/input/students-performance-in-exams/StudentsPerformance.csv')"
   ]
  },
  {
   "cell_type": "code",
   "execution_count": 3,
   "id": "ab1d34ff",
   "metadata": {
    "execution": {
     "iopub.execute_input": "2024-08-28T07:31:44.157774Z",
     "iopub.status.busy": "2024-08-28T07:31:44.157380Z",
     "iopub.status.idle": "2024-08-28T07:31:44.186141Z",
     "shell.execute_reply": "2024-08-28T07:31:44.184969Z"
    },
    "papermill": {
     "duration": 0.042614,
     "end_time": "2024-08-28T07:31:44.188461",
     "exception": false,
     "start_time": "2024-08-28T07:31:44.145847",
     "status": "completed"
    },
    "tags": []
   },
   "outputs": [
    {
     "data": {
      "text/html": [
       "<div>\n",
       "<style scoped>\n",
       "    .dataframe tbody tr th:only-of-type {\n",
       "        vertical-align: middle;\n",
       "    }\n",
       "\n",
       "    .dataframe tbody tr th {\n",
       "        vertical-align: top;\n",
       "    }\n",
       "\n",
       "    .dataframe thead th {\n",
       "        text-align: right;\n",
       "    }\n",
       "</style>\n",
       "<table border=\"1\" class=\"dataframe\">\n",
       "  <thead>\n",
       "    <tr style=\"text-align: right;\">\n",
       "      <th></th>\n",
       "      <th>gender</th>\n",
       "      <th>race/ethnicity</th>\n",
       "      <th>parental level of education</th>\n",
       "      <th>lunch</th>\n",
       "      <th>test preparation course</th>\n",
       "      <th>math score</th>\n",
       "      <th>reading score</th>\n",
       "      <th>writing score</th>\n",
       "    </tr>\n",
       "  </thead>\n",
       "  <tbody>\n",
       "    <tr>\n",
       "      <th>0</th>\n",
       "      <td>female</td>\n",
       "      <td>group B</td>\n",
       "      <td>bachelor's degree</td>\n",
       "      <td>standard</td>\n",
       "      <td>none</td>\n",
       "      <td>72</td>\n",
       "      <td>72</td>\n",
       "      <td>74</td>\n",
       "    </tr>\n",
       "    <tr>\n",
       "      <th>1</th>\n",
       "      <td>female</td>\n",
       "      <td>group C</td>\n",
       "      <td>some college</td>\n",
       "      <td>standard</td>\n",
       "      <td>completed</td>\n",
       "      <td>69</td>\n",
       "      <td>90</td>\n",
       "      <td>88</td>\n",
       "    </tr>\n",
       "    <tr>\n",
       "      <th>2</th>\n",
       "      <td>female</td>\n",
       "      <td>group B</td>\n",
       "      <td>master's degree</td>\n",
       "      <td>standard</td>\n",
       "      <td>none</td>\n",
       "      <td>90</td>\n",
       "      <td>95</td>\n",
       "      <td>93</td>\n",
       "    </tr>\n",
       "    <tr>\n",
       "      <th>3</th>\n",
       "      <td>male</td>\n",
       "      <td>group A</td>\n",
       "      <td>associate's degree</td>\n",
       "      <td>free/reduced</td>\n",
       "      <td>none</td>\n",
       "      <td>47</td>\n",
       "      <td>57</td>\n",
       "      <td>44</td>\n",
       "    </tr>\n",
       "    <tr>\n",
       "      <th>4</th>\n",
       "      <td>male</td>\n",
       "      <td>group C</td>\n",
       "      <td>some college</td>\n",
       "      <td>standard</td>\n",
       "      <td>none</td>\n",
       "      <td>76</td>\n",
       "      <td>78</td>\n",
       "      <td>75</td>\n",
       "    </tr>\n",
       "    <tr>\n",
       "      <th>...</th>\n",
       "      <td>...</td>\n",
       "      <td>...</td>\n",
       "      <td>...</td>\n",
       "      <td>...</td>\n",
       "      <td>...</td>\n",
       "      <td>...</td>\n",
       "      <td>...</td>\n",
       "      <td>...</td>\n",
       "    </tr>\n",
       "    <tr>\n",
       "      <th>995</th>\n",
       "      <td>female</td>\n",
       "      <td>group E</td>\n",
       "      <td>master's degree</td>\n",
       "      <td>standard</td>\n",
       "      <td>completed</td>\n",
       "      <td>88</td>\n",
       "      <td>99</td>\n",
       "      <td>95</td>\n",
       "    </tr>\n",
       "    <tr>\n",
       "      <th>996</th>\n",
       "      <td>male</td>\n",
       "      <td>group C</td>\n",
       "      <td>high school</td>\n",
       "      <td>free/reduced</td>\n",
       "      <td>none</td>\n",
       "      <td>62</td>\n",
       "      <td>55</td>\n",
       "      <td>55</td>\n",
       "    </tr>\n",
       "    <tr>\n",
       "      <th>997</th>\n",
       "      <td>female</td>\n",
       "      <td>group C</td>\n",
       "      <td>high school</td>\n",
       "      <td>free/reduced</td>\n",
       "      <td>completed</td>\n",
       "      <td>59</td>\n",
       "      <td>71</td>\n",
       "      <td>65</td>\n",
       "    </tr>\n",
       "    <tr>\n",
       "      <th>998</th>\n",
       "      <td>female</td>\n",
       "      <td>group D</td>\n",
       "      <td>some college</td>\n",
       "      <td>standard</td>\n",
       "      <td>completed</td>\n",
       "      <td>68</td>\n",
       "      <td>78</td>\n",
       "      <td>77</td>\n",
       "    </tr>\n",
       "    <tr>\n",
       "      <th>999</th>\n",
       "      <td>female</td>\n",
       "      <td>group D</td>\n",
       "      <td>some college</td>\n",
       "      <td>free/reduced</td>\n",
       "      <td>none</td>\n",
       "      <td>77</td>\n",
       "      <td>86</td>\n",
       "      <td>86</td>\n",
       "    </tr>\n",
       "  </tbody>\n",
       "</table>\n",
       "<p>1000 rows × 8 columns</p>\n",
       "</div>"
      ],
      "text/plain": [
       "     gender race/ethnicity parental level of education         lunch  \\\n",
       "0    female        group B           bachelor's degree      standard   \n",
       "1    female        group C                some college      standard   \n",
       "2    female        group B             master's degree      standard   \n",
       "3      male        group A          associate's degree  free/reduced   \n",
       "4      male        group C                some college      standard   \n",
       "..      ...            ...                         ...           ...   \n",
       "995  female        group E             master's degree      standard   \n",
       "996    male        group C                 high school  free/reduced   \n",
       "997  female        group C                 high school  free/reduced   \n",
       "998  female        group D                some college      standard   \n",
       "999  female        group D                some college  free/reduced   \n",
       "\n",
       "    test preparation course  math score  reading score  writing score  \n",
       "0                      none          72             72             74  \n",
       "1                 completed          69             90             88  \n",
       "2                      none          90             95             93  \n",
       "3                      none          47             57             44  \n",
       "4                      none          76             78             75  \n",
       "..                      ...         ...            ...            ...  \n",
       "995               completed          88             99             95  \n",
       "996                    none          62             55             55  \n",
       "997               completed          59             71             65  \n",
       "998               completed          68             78             77  \n",
       "999                    none          77             86             86  \n",
       "\n",
       "[1000 rows x 8 columns]"
      ]
     },
     "execution_count": 3,
     "metadata": {},
     "output_type": "execute_result"
    }
   ],
   "source": [
    "df"
   ]
  },
  {
   "cell_type": "code",
   "execution_count": 4,
   "id": "b349b809",
   "metadata": {
    "execution": {
     "iopub.execute_input": "2024-08-28T07:31:44.212136Z",
     "iopub.status.busy": "2024-08-28T07:31:44.211692Z",
     "iopub.status.idle": "2024-08-28T07:31:44.235147Z",
     "shell.execute_reply": "2024-08-28T07:31:44.233972Z"
    },
    "papermill": {
     "duration": 0.038188,
     "end_time": "2024-08-28T07:31:44.237725",
     "exception": false,
     "start_time": "2024-08-28T07:31:44.199537",
     "status": "completed"
    },
    "tags": []
   },
   "outputs": [
    {
     "name": "stdout",
     "output_type": "stream",
     "text": [
      "<class 'pandas.core.frame.DataFrame'>\n",
      "RangeIndex: 1000 entries, 0 to 999\n",
      "Data columns (total 8 columns):\n",
      " #   Column                       Non-Null Count  Dtype \n",
      "---  ------                       --------------  ----- \n",
      " 0   gender                       1000 non-null   object\n",
      " 1   race/ethnicity               1000 non-null   object\n",
      " 2   parental level of education  1000 non-null   object\n",
      " 3   lunch                        1000 non-null   object\n",
      " 4   test preparation course      1000 non-null   object\n",
      " 5   math score                   1000 non-null   int64 \n",
      " 6   reading score                1000 non-null   int64 \n",
      " 7   writing score                1000 non-null   int64 \n",
      "dtypes: int64(3), object(5)\n",
      "memory usage: 62.6+ KB\n"
     ]
    }
   ],
   "source": [
    "df.info()"
   ]
  },
  {
   "cell_type": "code",
   "execution_count": 5,
   "id": "d2fa8c08",
   "metadata": {
    "execution": {
     "iopub.execute_input": "2024-08-28T07:31:44.261813Z",
     "iopub.status.busy": "2024-08-28T07:31:44.260712Z",
     "iopub.status.idle": "2024-08-28T07:31:44.269754Z",
     "shell.execute_reply": "2024-08-28T07:31:44.268774Z"
    },
    "papermill": {
     "duration": 0.023356,
     "end_time": "2024-08-28T07:31:44.271944",
     "exception": false,
     "start_time": "2024-08-28T07:31:44.248588",
     "status": "completed"
    },
    "tags": []
   },
   "outputs": [
    {
     "data": {
      "text/plain": [
       "gender                         0\n",
       "race/ethnicity                 0\n",
       "parental level of education    0\n",
       "lunch                          0\n",
       "test preparation course        0\n",
       "math score                     0\n",
       "reading score                  0\n",
       "writing score                  0\n",
       "dtype: int64"
      ]
     },
     "execution_count": 5,
     "metadata": {},
     "output_type": "execute_result"
    }
   ],
   "source": [
    "df.isna().sum()"
   ]
  },
  {
   "cell_type": "code",
   "execution_count": 6,
   "id": "af9df100",
   "metadata": {
    "execution": {
     "iopub.execute_input": "2024-08-28T07:31:44.295482Z",
     "iopub.status.busy": "2024-08-28T07:31:44.295069Z",
     "iopub.status.idle": "2024-08-28T07:31:44.303864Z",
     "shell.execute_reply": "2024-08-28T07:31:44.302721Z"
    },
    "papermill": {
     "duration": 0.0233,
     "end_time": "2024-08-28T07:31:44.306161",
     "exception": false,
     "start_time": "2024-08-28T07:31:44.282861",
     "status": "completed"
    },
    "tags": []
   },
   "outputs": [
    {
     "data": {
      "text/plain": [
       "0"
      ]
     },
     "execution_count": 6,
     "metadata": {},
     "output_type": "execute_result"
    }
   ],
   "source": [
    "df.duplicated().sum()"
   ]
  },
  {
   "cell_type": "code",
   "execution_count": 7,
   "id": "23b9f7bd",
   "metadata": {
    "execution": {
     "iopub.execute_input": "2024-08-28T07:31:44.330237Z",
     "iopub.status.busy": "2024-08-28T07:31:44.329284Z",
     "iopub.status.idle": "2024-08-28T07:31:44.352855Z",
     "shell.execute_reply": "2024-08-28T07:31:44.351177Z"
    },
    "papermill": {
     "duration": 0.039434,
     "end_time": "2024-08-28T07:31:44.356552",
     "exception": false,
     "start_time": "2024-08-28T07:31:44.317118",
     "status": "completed"
    },
    "tags": []
   },
   "outputs": [
    {
     "data": {
      "text/html": [
       "<div>\n",
       "<style scoped>\n",
       "    .dataframe tbody tr th:only-of-type {\n",
       "        vertical-align: middle;\n",
       "    }\n",
       "\n",
       "    .dataframe tbody tr th {\n",
       "        vertical-align: top;\n",
       "    }\n",
       "\n",
       "    .dataframe thead th {\n",
       "        text-align: right;\n",
       "    }\n",
       "</style>\n",
       "<table border=\"1\" class=\"dataframe\">\n",
       "  <thead>\n",
       "    <tr style=\"text-align: right;\">\n",
       "      <th></th>\n",
       "      <th>math score</th>\n",
       "      <th>reading score</th>\n",
       "      <th>writing score</th>\n",
       "    </tr>\n",
       "  </thead>\n",
       "  <tbody>\n",
       "    <tr>\n",
       "      <th>count</th>\n",
       "      <td>1000.00000</td>\n",
       "      <td>1000.000000</td>\n",
       "      <td>1000.000000</td>\n",
       "    </tr>\n",
       "    <tr>\n",
       "      <th>mean</th>\n",
       "      <td>66.08900</td>\n",
       "      <td>69.169000</td>\n",
       "      <td>68.054000</td>\n",
       "    </tr>\n",
       "    <tr>\n",
       "      <th>std</th>\n",
       "      <td>15.16308</td>\n",
       "      <td>14.600192</td>\n",
       "      <td>15.195657</td>\n",
       "    </tr>\n",
       "    <tr>\n",
       "      <th>min</th>\n",
       "      <td>0.00000</td>\n",
       "      <td>17.000000</td>\n",
       "      <td>10.000000</td>\n",
       "    </tr>\n",
       "    <tr>\n",
       "      <th>25%</th>\n",
       "      <td>57.00000</td>\n",
       "      <td>59.000000</td>\n",
       "      <td>57.750000</td>\n",
       "    </tr>\n",
       "    <tr>\n",
       "      <th>50%</th>\n",
       "      <td>66.00000</td>\n",
       "      <td>70.000000</td>\n",
       "      <td>69.000000</td>\n",
       "    </tr>\n",
       "    <tr>\n",
       "      <th>75%</th>\n",
       "      <td>77.00000</td>\n",
       "      <td>79.000000</td>\n",
       "      <td>79.000000</td>\n",
       "    </tr>\n",
       "    <tr>\n",
       "      <th>max</th>\n",
       "      <td>100.00000</td>\n",
       "      <td>100.000000</td>\n",
       "      <td>100.000000</td>\n",
       "    </tr>\n",
       "  </tbody>\n",
       "</table>\n",
       "</div>"
      ],
      "text/plain": [
       "       math score  reading score  writing score\n",
       "count  1000.00000    1000.000000    1000.000000\n",
       "mean     66.08900      69.169000      68.054000\n",
       "std      15.16308      14.600192      15.195657\n",
       "min       0.00000      17.000000      10.000000\n",
       "25%      57.00000      59.000000      57.750000\n",
       "50%      66.00000      70.000000      69.000000\n",
       "75%      77.00000      79.000000      79.000000\n",
       "max     100.00000     100.000000     100.000000"
      ]
     },
     "execution_count": 7,
     "metadata": {},
     "output_type": "execute_result"
    }
   ],
   "source": [
    "df.describe()"
   ]
  },
  {
   "cell_type": "code",
   "execution_count": 8,
   "id": "79d8fd11",
   "metadata": {
    "execution": {
     "iopub.execute_input": "2024-08-28T07:31:44.382534Z",
     "iopub.status.busy": "2024-08-28T07:31:44.382138Z",
     "iopub.status.idle": "2024-08-28T07:31:44.395522Z",
     "shell.execute_reply": "2024-08-28T07:31:44.394305Z"
    },
    "papermill": {
     "duration": 0.028357,
     "end_time": "2024-08-28T07:31:44.397890",
     "exception": false,
     "start_time": "2024-08-28T07:31:44.369533",
     "status": "completed"
    },
    "tags": []
   },
   "outputs": [
    {
     "data": {
      "text/html": [
       "<div>\n",
       "<style scoped>\n",
       "    .dataframe tbody tr th:only-of-type {\n",
       "        vertical-align: middle;\n",
       "    }\n",
       "\n",
       "    .dataframe tbody tr th {\n",
       "        vertical-align: top;\n",
       "    }\n",
       "\n",
       "    .dataframe thead th {\n",
       "        text-align: right;\n",
       "    }\n",
       "</style>\n",
       "<table border=\"1\" class=\"dataframe\">\n",
       "  <thead>\n",
       "    <tr style=\"text-align: right;\">\n",
       "      <th></th>\n",
       "      <th>gender</th>\n",
       "      <th>race/ethnicity</th>\n",
       "      <th>parental level of education</th>\n",
       "      <th>lunch</th>\n",
       "      <th>test preparation course</th>\n",
       "      <th>math score</th>\n",
       "      <th>reading score</th>\n",
       "      <th>writing score</th>\n",
       "    </tr>\n",
       "  </thead>\n",
       "  <tbody>\n",
       "    <tr>\n",
       "      <th>0</th>\n",
       "      <td>female</td>\n",
       "      <td>group B</td>\n",
       "      <td>bachelor's degree</td>\n",
       "      <td>standard</td>\n",
       "      <td>none</td>\n",
       "      <td>72</td>\n",
       "      <td>72</td>\n",
       "      <td>74</td>\n",
       "    </tr>\n",
       "    <tr>\n",
       "      <th>1</th>\n",
       "      <td>female</td>\n",
       "      <td>group C</td>\n",
       "      <td>some college</td>\n",
       "      <td>standard</td>\n",
       "      <td>completed</td>\n",
       "      <td>69</td>\n",
       "      <td>90</td>\n",
       "      <td>88</td>\n",
       "    </tr>\n",
       "    <tr>\n",
       "      <th>2</th>\n",
       "      <td>female</td>\n",
       "      <td>group B</td>\n",
       "      <td>master's degree</td>\n",
       "      <td>standard</td>\n",
       "      <td>none</td>\n",
       "      <td>90</td>\n",
       "      <td>95</td>\n",
       "      <td>93</td>\n",
       "    </tr>\n",
       "    <tr>\n",
       "      <th>3</th>\n",
       "      <td>male</td>\n",
       "      <td>group A</td>\n",
       "      <td>associate's degree</td>\n",
       "      <td>free/reduced</td>\n",
       "      <td>none</td>\n",
       "      <td>47</td>\n",
       "      <td>57</td>\n",
       "      <td>44</td>\n",
       "    </tr>\n",
       "    <tr>\n",
       "      <th>4</th>\n",
       "      <td>male</td>\n",
       "      <td>group C</td>\n",
       "      <td>some college</td>\n",
       "      <td>standard</td>\n",
       "      <td>none</td>\n",
       "      <td>76</td>\n",
       "      <td>78</td>\n",
       "      <td>75</td>\n",
       "    </tr>\n",
       "  </tbody>\n",
       "</table>\n",
       "</div>"
      ],
      "text/plain": [
       "   gender race/ethnicity parental level of education         lunch  \\\n",
       "0  female        group B           bachelor's degree      standard   \n",
       "1  female        group C                some college      standard   \n",
       "2  female        group B             master's degree      standard   \n",
       "3    male        group A          associate's degree  free/reduced   \n",
       "4    male        group C                some college      standard   \n",
       "\n",
       "  test preparation course  math score  reading score  writing score  \n",
       "0                    none          72             72             74  \n",
       "1               completed          69             90             88  \n",
       "2                    none          90             95             93  \n",
       "3                    none          47             57             44  \n",
       "4                    none          76             78             75  "
      ]
     },
     "execution_count": 8,
     "metadata": {},
     "output_type": "execute_result"
    }
   ],
   "source": [
    "df.head()"
   ]
  },
  {
   "cell_type": "markdown",
   "id": "fe2a4d4b",
   "metadata": {
    "papermill": {
     "duration": 0.011069,
     "end_time": "2024-08-28T07:31:44.421077",
     "exception": false,
     "start_time": "2024-08-28T07:31:44.410008",
     "status": "completed"
    },
    "tags": []
   },
   "source": [
    "## Data Analysis"
   ]
  },
  {
   "cell_type": "code",
   "execution_count": 9,
   "id": "9cc4f0ef",
   "metadata": {
    "execution": {
     "iopub.execute_input": "2024-08-28T07:31:44.448016Z",
     "iopub.status.busy": "2024-08-28T07:31:44.446984Z",
     "iopub.status.idle": "2024-08-28T07:31:44.455729Z",
     "shell.execute_reply": "2024-08-28T07:31:44.454623Z"
    },
    "papermill": {
     "duration": 0.025558,
     "end_time": "2024-08-28T07:31:44.458072",
     "exception": false,
     "start_time": "2024-08-28T07:31:44.432514",
     "status": "completed"
    },
    "tags": []
   },
   "outputs": [
    {
     "data": {
      "text/plain": [
       "gender\n",
       "female    518\n",
       "male      482\n",
       "Name: count, dtype: int64"
      ]
     },
     "execution_count": 9,
     "metadata": {},
     "output_type": "execute_result"
    }
   ],
   "source": [
    "# Frequency of each item in the gender column\n",
    "df['gender'].value_counts()"
   ]
  },
  {
   "cell_type": "code",
   "execution_count": 10,
   "id": "9211850e",
   "metadata": {
    "execution": {
     "iopub.execute_input": "2024-08-28T07:31:44.482938Z",
     "iopub.status.busy": "2024-08-28T07:31:44.482521Z",
     "iopub.status.idle": "2024-08-28T07:31:44.491081Z",
     "shell.execute_reply": "2024-08-28T07:31:44.490078Z"
    },
    "papermill": {
     "duration": 0.023606,
     "end_time": "2024-08-28T07:31:44.493289",
     "exception": false,
     "start_time": "2024-08-28T07:31:44.469683",
     "status": "completed"
    },
    "tags": []
   },
   "outputs": [
    {
     "data": {
      "text/plain": [
       "race/ethnicity\n",
       "group C    319\n",
       "group D    262\n",
       "group B    190\n",
       "group E    140\n",
       "group A     89\n",
       "Name: count, dtype: int64"
      ]
     },
     "execution_count": 10,
     "metadata": {},
     "output_type": "execute_result"
    }
   ],
   "source": [
    "# Frequency of each item in the race/ethnicity column\n",
    "df['race/ethnicity'].value_counts()"
   ]
  },
  {
   "cell_type": "code",
   "execution_count": 11,
   "id": "5e4707b3",
   "metadata": {
    "execution": {
     "iopub.execute_input": "2024-08-28T07:31:44.519076Z",
     "iopub.status.busy": "2024-08-28T07:31:44.518271Z",
     "iopub.status.idle": "2024-08-28T07:31:44.526796Z",
     "shell.execute_reply": "2024-08-28T07:31:44.525841Z"
    },
    "papermill": {
     "duration": 0.023921,
     "end_time": "2024-08-28T07:31:44.528802",
     "exception": false,
     "start_time": "2024-08-28T07:31:44.504881",
     "status": "completed"
    },
    "tags": []
   },
   "outputs": [
    {
     "data": {
      "text/plain": [
       "parental level of education\n",
       "some college          226\n",
       "associate's degree    222\n",
       "high school           196\n",
       "some high school      179\n",
       "bachelor's degree     118\n",
       "master's degree        59\n",
       "Name: count, dtype: int64"
      ]
     },
     "execution_count": 11,
     "metadata": {},
     "output_type": "execute_result"
    }
   ],
   "source": [
    "# Frequency of each item in the parental level of education column\n",
    "df['parental level of education'].value_counts()"
   ]
  },
  {
   "cell_type": "code",
   "execution_count": 12,
   "id": "99e9ee66",
   "metadata": {
    "execution": {
     "iopub.execute_input": "2024-08-28T07:31:44.554346Z",
     "iopub.status.busy": "2024-08-28T07:31:44.553896Z",
     "iopub.status.idle": "2024-08-28T07:31:44.562180Z",
     "shell.execute_reply": "2024-08-28T07:31:44.561156Z"
    },
    "papermill": {
     "duration": 0.023394,
     "end_time": "2024-08-28T07:31:44.564191",
     "exception": false,
     "start_time": "2024-08-28T07:31:44.540797",
     "status": "completed"
    },
    "tags": []
   },
   "outputs": [
    {
     "data": {
      "text/plain": [
       "lunch\n",
       "standard        645\n",
       "free/reduced    355\n",
       "Name: count, dtype: int64"
      ]
     },
     "execution_count": 12,
     "metadata": {},
     "output_type": "execute_result"
    }
   ],
   "source": [
    "df['lunch'].value_counts()"
   ]
  },
  {
   "cell_type": "code",
   "execution_count": 13,
   "id": "40c63c44",
   "metadata": {
    "execution": {
     "iopub.execute_input": "2024-08-28T07:31:44.589871Z",
     "iopub.status.busy": "2024-08-28T07:31:44.588900Z",
     "iopub.status.idle": "2024-08-28T07:31:44.597158Z",
     "shell.execute_reply": "2024-08-28T07:31:44.596106Z"
    },
    "papermill": {
     "duration": 0.023352,
     "end_time": "2024-08-28T07:31:44.599354",
     "exception": false,
     "start_time": "2024-08-28T07:31:44.576002",
     "status": "completed"
    },
    "tags": []
   },
   "outputs": [
    {
     "data": {
      "text/plain": [
       "test preparation course\n",
       "none         642\n",
       "completed    358\n",
       "Name: count, dtype: int64"
      ]
     },
     "execution_count": 13,
     "metadata": {},
     "output_type": "execute_result"
    }
   ],
   "source": [
    "# Frequency of each item in the test preparation course column\n",
    "df['test preparation course'].value_counts()"
   ]
  },
  {
   "cell_type": "code",
   "execution_count": 14,
   "id": "53af9989",
   "metadata": {
    "execution": {
     "iopub.execute_input": "2024-08-28T07:31:44.625560Z",
     "iopub.status.busy": "2024-08-28T07:31:44.625185Z",
     "iopub.status.idle": "2024-08-28T07:31:44.643389Z",
     "shell.execute_reply": "2024-08-28T07:31:44.642323Z"
    },
    "papermill": {
     "duration": 0.034592,
     "end_time": "2024-08-28T07:31:44.646250",
     "exception": false,
     "start_time": "2024-08-28T07:31:44.611658",
     "status": "completed"
    },
    "tags": []
   },
   "outputs": [
    {
     "data": {
      "text/plain": [
       "gender  math score\n",
       "female  65            28\n",
       "        59            21\n",
       "        62            16\n",
       "        67            16\n",
       "        69            16\n",
       "                      ..\n",
       "male    42             1\n",
       "        43             1\n",
       "        95             1\n",
       "        96             1\n",
       "        99             1\n",
       "Name: count, Length: 147, dtype: int64"
      ]
     },
     "execution_count": 14,
     "metadata": {},
     "output_type": "execute_result"
    }
   ],
   "source": [
    "df.groupby('gender')['math score'].value_counts()"
   ]
  },
  {
   "cell_type": "code",
   "execution_count": 15,
   "id": "a6373248",
   "metadata": {
    "execution": {
     "iopub.execute_input": "2024-08-28T07:31:44.672946Z",
     "iopub.status.busy": "2024-08-28T07:31:44.672525Z",
     "iopub.status.idle": "2024-08-28T07:31:44.684597Z",
     "shell.execute_reply": "2024-08-28T07:31:44.683435Z"
    },
    "papermill": {
     "duration": 0.028171,
     "end_time": "2024-08-28T07:31:44.686792",
     "exception": false,
     "start_time": "2024-08-28T07:31:44.658621",
     "status": "completed"
    },
    "tags": []
   },
   "outputs": [
    {
     "data": {
      "text/plain": [
       "gender  reading score\n",
       "female  72               23\n",
       "        64               18\n",
       "        76               18\n",
       "        58               17\n",
       "        86               17\n",
       "                         ..\n",
       "male    31                1\n",
       "        91                1\n",
       "        92                1\n",
       "        93                1\n",
       "        97                1\n",
       "Name: count, Length: 132, dtype: int64"
      ]
     },
     "execution_count": 15,
     "metadata": {},
     "output_type": "execute_result"
    }
   ],
   "source": [
    "df.groupby('gender')['reading score'].value_counts()"
   ]
  },
  {
   "cell_type": "code",
   "execution_count": 16,
   "id": "d79ab0f3",
   "metadata": {
    "execution": {
     "iopub.execute_input": "2024-08-28T07:31:44.712825Z",
     "iopub.status.busy": "2024-08-28T07:31:44.712429Z",
     "iopub.status.idle": "2024-08-28T07:31:44.725026Z",
     "shell.execute_reply": "2024-08-28T07:31:44.723981Z"
    },
    "papermill": {
     "duration": 0.028252,
     "end_time": "2024-08-28T07:31:44.727260",
     "exception": false,
     "start_time": "2024-08-28T07:31:44.699008",
     "status": "completed"
    },
    "tags": []
   },
   "outputs": [
    {
     "data": {
      "text/plain": [
       "gender  writing score\n",
       "female  70               24\n",
       "        74               23\n",
       "        80               18\n",
       "        73               17\n",
       "        76               16\n",
       "                         ..\n",
       "male    89                1\n",
       "        93                1\n",
       "        95                1\n",
       "        99                1\n",
       "        100               1\n",
       "Name: count, Length: 136, dtype: int64"
      ]
     },
     "execution_count": 16,
     "metadata": {},
     "output_type": "execute_result"
    }
   ],
   "source": [
    "df.groupby('gender')['writing score'].value_counts()"
   ]
  },
  {
   "cell_type": "code",
   "execution_count": 17,
   "id": "a271e44d",
   "metadata": {
    "execution": {
     "iopub.execute_input": "2024-08-28T07:31:44.754417Z",
     "iopub.status.busy": "2024-08-28T07:31:44.754010Z",
     "iopub.status.idle": "2024-08-28T07:31:44.767027Z",
     "shell.execute_reply": "2024-08-28T07:31:44.765981Z"
    },
    "papermill": {
     "duration": 0.029191,
     "end_time": "2024-08-28T07:31:44.769432",
     "exception": false,
     "start_time": "2024-08-28T07:31:44.740241",
     "status": "completed"
    },
    "tags": []
   },
   "outputs": [
    {
     "data": {
      "text/html": [
       "<div>\n",
       "<style scoped>\n",
       "    .dataframe tbody tr th:only-of-type {\n",
       "        vertical-align: middle;\n",
       "    }\n",
       "\n",
       "    .dataframe tbody tr th {\n",
       "        vertical-align: top;\n",
       "    }\n",
       "\n",
       "    .dataframe thead th {\n",
       "        text-align: right;\n",
       "    }\n",
       "</style>\n",
       "<table border=\"1\" class=\"dataframe\">\n",
       "  <thead>\n",
       "    <tr style=\"text-align: right;\">\n",
       "      <th></th>\n",
       "      <th>gender</th>\n",
       "      <th>race/ethnicity</th>\n",
       "      <th>parental level of education</th>\n",
       "      <th>lunch</th>\n",
       "      <th>test preparation course</th>\n",
       "      <th>math score</th>\n",
       "      <th>reading score</th>\n",
       "      <th>writing score</th>\n",
       "    </tr>\n",
       "  </thead>\n",
       "  <tbody>\n",
       "    <tr>\n",
       "      <th>0</th>\n",
       "      <td>female</td>\n",
       "      <td>group B</td>\n",
       "      <td>bachelor's degree</td>\n",
       "      <td>standard</td>\n",
       "      <td>none</td>\n",
       "      <td>72</td>\n",
       "      <td>72</td>\n",
       "      <td>74</td>\n",
       "    </tr>\n",
       "    <tr>\n",
       "      <th>1</th>\n",
       "      <td>female</td>\n",
       "      <td>group C</td>\n",
       "      <td>some college</td>\n",
       "      <td>standard</td>\n",
       "      <td>completed</td>\n",
       "      <td>69</td>\n",
       "      <td>90</td>\n",
       "      <td>88</td>\n",
       "    </tr>\n",
       "    <tr>\n",
       "      <th>2</th>\n",
       "      <td>female</td>\n",
       "      <td>group B</td>\n",
       "      <td>master's degree</td>\n",
       "      <td>standard</td>\n",
       "      <td>none</td>\n",
       "      <td>90</td>\n",
       "      <td>95</td>\n",
       "      <td>93</td>\n",
       "    </tr>\n",
       "    <tr>\n",
       "      <th>3</th>\n",
       "      <td>male</td>\n",
       "      <td>group A</td>\n",
       "      <td>associate's degree</td>\n",
       "      <td>free/reduced</td>\n",
       "      <td>none</td>\n",
       "      <td>47</td>\n",
       "      <td>57</td>\n",
       "      <td>44</td>\n",
       "    </tr>\n",
       "    <tr>\n",
       "      <th>4</th>\n",
       "      <td>male</td>\n",
       "      <td>group C</td>\n",
       "      <td>some college</td>\n",
       "      <td>standard</td>\n",
       "      <td>none</td>\n",
       "      <td>76</td>\n",
       "      <td>78</td>\n",
       "      <td>75</td>\n",
       "    </tr>\n",
       "  </tbody>\n",
       "</table>\n",
       "</div>"
      ],
      "text/plain": [
       "   gender race/ethnicity parental level of education         lunch  \\\n",
       "0  female        group B           bachelor's degree      standard   \n",
       "1  female        group C                some college      standard   \n",
       "2  female        group B             master's degree      standard   \n",
       "3    male        group A          associate's degree  free/reduced   \n",
       "4    male        group C                some college      standard   \n",
       "\n",
       "  test preparation course  math score  reading score  writing score  \n",
       "0                    none          72             72             74  \n",
       "1               completed          69             90             88  \n",
       "2                    none          90             95             93  \n",
       "3                    none          47             57             44  \n",
       "4                    none          76             78             75  "
      ]
     },
     "execution_count": 17,
     "metadata": {},
     "output_type": "execute_result"
    }
   ],
   "source": [
    "df.head()"
   ]
  },
  {
   "cell_type": "code",
   "execution_count": 18,
   "id": "3b4975fb",
   "metadata": {
    "execution": {
     "iopub.execute_input": "2024-08-28T07:31:44.797148Z",
     "iopub.status.busy": "2024-08-28T07:31:44.795967Z",
     "iopub.status.idle": "2024-08-28T07:31:44.808291Z",
     "shell.execute_reply": "2024-08-28T07:31:44.807115Z"
    },
    "papermill": {
     "duration": 0.028471,
     "end_time": "2024-08-28T07:31:44.810586",
     "exception": false,
     "start_time": "2024-08-28T07:31:44.782115",
     "status": "completed"
    },
    "tags": []
   },
   "outputs": [
    {
     "data": {
      "text/plain": [
       "race/ethnicity  gender\n",
       "group A         male       53\n",
       "                female     36\n",
       "group B         female    104\n",
       "                male       86\n",
       "group C         female    180\n",
       "                male      139\n",
       "group D         male      133\n",
       "                female    129\n",
       "group E         male       71\n",
       "                female     69\n",
       "Name: count, dtype: int64"
      ]
     },
     "execution_count": 18,
     "metadata": {},
     "output_type": "execute_result"
    }
   ],
   "source": [
    "df.groupby('race/ethnicity')['gender'].value_counts()"
   ]
  },
  {
   "cell_type": "code",
   "execution_count": 19,
   "id": "5c8ceb38",
   "metadata": {
    "execution": {
     "iopub.execute_input": "2024-08-28T07:31:44.838690Z",
     "iopub.status.busy": "2024-08-28T07:31:44.837884Z",
     "iopub.status.idle": "2024-08-28T07:31:44.849146Z",
     "shell.execute_reply": "2024-08-28T07:31:44.847987Z"
    },
    "papermill": {
     "duration": 0.027377,
     "end_time": "2024-08-28T07:31:44.851340",
     "exception": false,
     "start_time": "2024-08-28T07:31:44.823963",
     "status": "completed"
    },
    "tags": []
   },
   "outputs": [
    {
     "data": {
      "text/plain": [
       "race/ethnicity  lunch       \n",
       "group A         standard         53\n",
       "                free/reduced     36\n",
       "group B         standard        121\n",
       "                free/reduced     69\n",
       "group C         standard        205\n",
       "                free/reduced    114\n",
       "group D         standard        167\n",
       "                free/reduced     95\n",
       "group E         standard         99\n",
       "                free/reduced     41\n",
       "Name: count, dtype: int64"
      ]
     },
     "execution_count": 19,
     "metadata": {},
     "output_type": "execute_result"
    }
   ],
   "source": [
    "df.groupby('race/ethnicity')['lunch'].value_counts()"
   ]
  },
  {
   "cell_type": "code",
   "execution_count": 20,
   "id": "60b65794",
   "metadata": {
    "execution": {
     "iopub.execute_input": "2024-08-28T07:31:44.878358Z",
     "iopub.status.busy": "2024-08-28T07:31:44.877946Z",
     "iopub.status.idle": "2024-08-28T07:31:44.889375Z",
     "shell.execute_reply": "2024-08-28T07:31:44.888326Z"
    },
    "papermill": {
     "duration": 0.027539,
     "end_time": "2024-08-28T07:31:44.891651",
     "exception": false,
     "start_time": "2024-08-28T07:31:44.864112",
     "status": "completed"
    },
    "tags": []
   },
   "outputs": [
    {
     "data": {
      "text/plain": [
       "race/ethnicity  test preparation course\n",
       "group A         none                        58\n",
       "                completed                   31\n",
       "group B         none                       122\n",
       "                completed                   68\n",
       "group C         none                       202\n",
       "                completed                  117\n",
       "group D         none                       180\n",
       "                completed                   82\n",
       "group E         none                        80\n",
       "                completed                   60\n",
       "Name: count, dtype: int64"
      ]
     },
     "execution_count": 20,
     "metadata": {},
     "output_type": "execute_result"
    }
   ],
   "source": [
    "df.groupby('race/ethnicity')['test preparation course'].value_counts()"
   ]
  },
  {
   "cell_type": "code",
   "execution_count": 21,
   "id": "7bd69898",
   "metadata": {
    "execution": {
     "iopub.execute_input": "2024-08-28T07:31:44.919663Z",
     "iopub.status.busy": "2024-08-28T07:31:44.918763Z",
     "iopub.status.idle": "2024-08-28T07:31:44.931157Z",
     "shell.execute_reply": "2024-08-28T07:31:44.930166Z"
    },
    "papermill": {
     "duration": 0.028812,
     "end_time": "2024-08-28T07:31:44.933316",
     "exception": false,
     "start_time": "2024-08-28T07:31:44.904504",
     "status": "completed"
    },
    "tags": []
   },
   "outputs": [
    {
     "data": {
      "text/html": [
       "<div>\n",
       "<style scoped>\n",
       "    .dataframe tbody tr th:only-of-type {\n",
       "        vertical-align: middle;\n",
       "    }\n",
       "\n",
       "    .dataframe tbody tr th {\n",
       "        vertical-align: top;\n",
       "    }\n",
       "\n",
       "    .dataframe thead th {\n",
       "        text-align: right;\n",
       "    }\n",
       "</style>\n",
       "<table border=\"1\" class=\"dataframe\">\n",
       "  <thead>\n",
       "    <tr style=\"text-align: right;\">\n",
       "      <th></th>\n",
       "      <th>gender</th>\n",
       "      <th>race/ethnicity</th>\n",
       "      <th>parental level of education</th>\n",
       "      <th>lunch</th>\n",
       "      <th>test preparation course</th>\n",
       "      <th>math score</th>\n",
       "      <th>reading score</th>\n",
       "      <th>writing score</th>\n",
       "    </tr>\n",
       "  </thead>\n",
       "  <tbody>\n",
       "    <tr>\n",
       "      <th>0</th>\n",
       "      <td>female</td>\n",
       "      <td>group B</td>\n",
       "      <td>bachelor's degree</td>\n",
       "      <td>standard</td>\n",
       "      <td>none</td>\n",
       "      <td>72</td>\n",
       "      <td>72</td>\n",
       "      <td>74</td>\n",
       "    </tr>\n",
       "    <tr>\n",
       "      <th>1</th>\n",
       "      <td>female</td>\n",
       "      <td>group C</td>\n",
       "      <td>some college</td>\n",
       "      <td>standard</td>\n",
       "      <td>completed</td>\n",
       "      <td>69</td>\n",
       "      <td>90</td>\n",
       "      <td>88</td>\n",
       "    </tr>\n",
       "    <tr>\n",
       "      <th>2</th>\n",
       "      <td>female</td>\n",
       "      <td>group B</td>\n",
       "      <td>master's degree</td>\n",
       "      <td>standard</td>\n",
       "      <td>none</td>\n",
       "      <td>90</td>\n",
       "      <td>95</td>\n",
       "      <td>93</td>\n",
       "    </tr>\n",
       "    <tr>\n",
       "      <th>3</th>\n",
       "      <td>male</td>\n",
       "      <td>group A</td>\n",
       "      <td>associate's degree</td>\n",
       "      <td>free/reduced</td>\n",
       "      <td>none</td>\n",
       "      <td>47</td>\n",
       "      <td>57</td>\n",
       "      <td>44</td>\n",
       "    </tr>\n",
       "    <tr>\n",
       "      <th>4</th>\n",
       "      <td>male</td>\n",
       "      <td>group C</td>\n",
       "      <td>some college</td>\n",
       "      <td>standard</td>\n",
       "      <td>none</td>\n",
       "      <td>76</td>\n",
       "      <td>78</td>\n",
       "      <td>75</td>\n",
       "    </tr>\n",
       "  </tbody>\n",
       "</table>\n",
       "</div>"
      ],
      "text/plain": [
       "   gender race/ethnicity parental level of education         lunch  \\\n",
       "0  female        group B           bachelor's degree      standard   \n",
       "1  female        group C                some college      standard   \n",
       "2  female        group B             master's degree      standard   \n",
       "3    male        group A          associate's degree  free/reduced   \n",
       "4    male        group C                some college      standard   \n",
       "\n",
       "  test preparation course  math score  reading score  writing score  \n",
       "0                    none          72             72             74  \n",
       "1               completed          69             90             88  \n",
       "2                    none          90             95             93  \n",
       "3                    none          47             57             44  \n",
       "4                    none          76             78             75  "
      ]
     },
     "execution_count": 21,
     "metadata": {},
     "output_type": "execute_result"
    }
   ],
   "source": [
    "df.head()"
   ]
  },
  {
   "cell_type": "code",
   "execution_count": 22,
   "id": "92c968ed",
   "metadata": {
    "execution": {
     "iopub.execute_input": "2024-08-28T07:31:44.961031Z",
     "iopub.status.busy": "2024-08-28T07:31:44.960601Z",
     "iopub.status.idle": "2024-08-28T07:31:44.971936Z",
     "shell.execute_reply": "2024-08-28T07:31:44.970961Z"
    },
    "papermill": {
     "duration": 0.027568,
     "end_time": "2024-08-28T07:31:44.973991",
     "exception": false,
     "start_time": "2024-08-28T07:31:44.946423",
     "status": "completed"
    },
    "tags": []
   },
   "outputs": [
    {
     "data": {
      "text/plain": [
       "test preparation course  lunch       \n",
       "completed                standard        227\n",
       "                         free/reduced    131\n",
       "none                     standard        418\n",
       "                         free/reduced    224\n",
       "Name: count, dtype: int64"
      ]
     },
     "execution_count": 22,
     "metadata": {},
     "output_type": "execute_result"
    }
   ],
   "source": [
    "df.groupby('test preparation course')['lunch'].value_counts()"
   ]
  },
  {
   "cell_type": "code",
   "execution_count": 23,
   "id": "ecbfb696",
   "metadata": {
    "execution": {
     "iopub.execute_input": "2024-08-28T07:31:45.003271Z",
     "iopub.status.busy": "2024-08-28T07:31:45.002845Z",
     "iopub.status.idle": "2024-08-28T07:31:45.014303Z",
     "shell.execute_reply": "2024-08-28T07:31:45.013222Z"
    },
    "papermill": {
     "duration": 0.028071,
     "end_time": "2024-08-28T07:31:45.016491",
     "exception": false,
     "start_time": "2024-08-28T07:31:44.988420",
     "status": "completed"
    },
    "tags": []
   },
   "outputs": [
    {
     "data": {
      "text/plain": [
       "test preparation course  race/ethnicity\n",
       "completed                group C           117\n",
       "                         group D            82\n",
       "                         group B            68\n",
       "                         group E            60\n",
       "                         group A            31\n",
       "none                     group C           202\n",
       "                         group D           180\n",
       "                         group B           122\n",
       "                         group E            80\n",
       "                         group A            58\n",
       "Name: count, dtype: int64"
      ]
     },
     "execution_count": 23,
     "metadata": {},
     "output_type": "execute_result"
    }
   ],
   "source": [
    "df.groupby('test preparation course')['race/ethnicity'].value_counts()"
   ]
  },
  {
   "cell_type": "code",
   "execution_count": 24,
   "id": "101e945e",
   "metadata": {
    "execution": {
     "iopub.execute_input": "2024-08-28T07:31:45.044733Z",
     "iopub.status.busy": "2024-08-28T07:31:45.044347Z",
     "iopub.status.idle": "2024-08-28T07:31:45.055720Z",
     "shell.execute_reply": "2024-08-28T07:31:45.054714Z"
    },
    "papermill": {
     "duration": 0.028136,
     "end_time": "2024-08-28T07:31:45.057896",
     "exception": false,
     "start_time": "2024-08-28T07:31:45.029760",
     "status": "completed"
    },
    "tags": []
   },
   "outputs": [
    {
     "data": {
      "text/plain": [
       "test preparation course  gender\n",
       "completed                female    184\n",
       "                         male      174\n",
       "none                     female    334\n",
       "                         male      308\n",
       "Name: count, dtype: int64"
      ]
     },
     "execution_count": 24,
     "metadata": {},
     "output_type": "execute_result"
    }
   ],
   "source": [
    "df.groupby('test preparation course')['gender'].value_counts()"
   ]
  },
  {
   "cell_type": "code",
   "execution_count": 25,
   "id": "cb5ce3e0",
   "metadata": {
    "execution": {
     "iopub.execute_input": "2024-08-28T07:31:45.086614Z",
     "iopub.status.busy": "2024-08-28T07:31:45.086235Z",
     "iopub.status.idle": "2024-08-28T07:31:45.098655Z",
     "shell.execute_reply": "2024-08-28T07:31:45.097649Z"
    },
    "papermill": {
     "duration": 0.029229,
     "end_time": "2024-08-28T07:31:45.100848",
     "exception": false,
     "start_time": "2024-08-28T07:31:45.071619",
     "status": "completed"
    },
    "tags": []
   },
   "outputs": [
    {
     "data": {
      "text/html": [
       "<div>\n",
       "<style scoped>\n",
       "    .dataframe tbody tr th:only-of-type {\n",
       "        vertical-align: middle;\n",
       "    }\n",
       "\n",
       "    .dataframe tbody tr th {\n",
       "        vertical-align: top;\n",
       "    }\n",
       "\n",
       "    .dataframe thead th {\n",
       "        text-align: right;\n",
       "    }\n",
       "</style>\n",
       "<table border=\"1\" class=\"dataframe\">\n",
       "  <thead>\n",
       "    <tr style=\"text-align: right;\">\n",
       "      <th></th>\n",
       "      <th>gender</th>\n",
       "      <th>race/ethnicity</th>\n",
       "      <th>parental level of education</th>\n",
       "      <th>lunch</th>\n",
       "      <th>test preparation course</th>\n",
       "      <th>math score</th>\n",
       "      <th>reading score</th>\n",
       "      <th>writing score</th>\n",
       "    </tr>\n",
       "  </thead>\n",
       "  <tbody>\n",
       "    <tr>\n",
       "      <th>0</th>\n",
       "      <td>female</td>\n",
       "      <td>group B</td>\n",
       "      <td>bachelor's degree</td>\n",
       "      <td>standard</td>\n",
       "      <td>none</td>\n",
       "      <td>72</td>\n",
       "      <td>72</td>\n",
       "      <td>74</td>\n",
       "    </tr>\n",
       "    <tr>\n",
       "      <th>1</th>\n",
       "      <td>female</td>\n",
       "      <td>group C</td>\n",
       "      <td>some college</td>\n",
       "      <td>standard</td>\n",
       "      <td>completed</td>\n",
       "      <td>69</td>\n",
       "      <td>90</td>\n",
       "      <td>88</td>\n",
       "    </tr>\n",
       "    <tr>\n",
       "      <th>2</th>\n",
       "      <td>female</td>\n",
       "      <td>group B</td>\n",
       "      <td>master's degree</td>\n",
       "      <td>standard</td>\n",
       "      <td>none</td>\n",
       "      <td>90</td>\n",
       "      <td>95</td>\n",
       "      <td>93</td>\n",
       "    </tr>\n",
       "    <tr>\n",
       "      <th>3</th>\n",
       "      <td>male</td>\n",
       "      <td>group A</td>\n",
       "      <td>associate's degree</td>\n",
       "      <td>free/reduced</td>\n",
       "      <td>none</td>\n",
       "      <td>47</td>\n",
       "      <td>57</td>\n",
       "      <td>44</td>\n",
       "    </tr>\n",
       "    <tr>\n",
       "      <th>4</th>\n",
       "      <td>male</td>\n",
       "      <td>group C</td>\n",
       "      <td>some college</td>\n",
       "      <td>standard</td>\n",
       "      <td>none</td>\n",
       "      <td>76</td>\n",
       "      <td>78</td>\n",
       "      <td>75</td>\n",
       "    </tr>\n",
       "  </tbody>\n",
       "</table>\n",
       "</div>"
      ],
      "text/plain": [
       "   gender race/ethnicity parental level of education         lunch  \\\n",
       "0  female        group B           bachelor's degree      standard   \n",
       "1  female        group C                some college      standard   \n",
       "2  female        group B             master's degree      standard   \n",
       "3    male        group A          associate's degree  free/reduced   \n",
       "4    male        group C                some college      standard   \n",
       "\n",
       "  test preparation course  math score  reading score  writing score  \n",
       "0                    none          72             72             74  \n",
       "1               completed          69             90             88  \n",
       "2                    none          90             95             93  \n",
       "3                    none          47             57             44  \n",
       "4                    none          76             78             75  "
      ]
     },
     "execution_count": 25,
     "metadata": {},
     "output_type": "execute_result"
    }
   ],
   "source": [
    "df.head()"
   ]
  },
  {
   "cell_type": "code",
   "execution_count": 26,
   "id": "3b6312ee",
   "metadata": {
    "execution": {
     "iopub.execute_input": "2024-08-28T07:31:45.130339Z",
     "iopub.status.busy": "2024-08-28T07:31:45.129299Z",
     "iopub.status.idle": "2024-08-28T07:31:45.140112Z",
     "shell.execute_reply": "2024-08-28T07:31:45.139107Z"
    },
    "papermill": {
     "duration": 0.027857,
     "end_time": "2024-08-28T07:31:45.142245",
     "exception": false,
     "start_time": "2024-08-28T07:31:45.114388",
     "status": "completed"
    },
    "tags": []
   },
   "outputs": [
    {
     "data": {
      "text/plain": [
       "lunch         gender\n",
       "free/reduced  female    189\n",
       "              male      166\n",
       "standard      female    329\n",
       "              male      316\n",
       "Name: count, dtype: int64"
      ]
     },
     "execution_count": 26,
     "metadata": {},
     "output_type": "execute_result"
    }
   ],
   "source": [
    "df.groupby('lunch')['gender'].value_counts()"
   ]
  },
  {
   "cell_type": "code",
   "execution_count": 27,
   "id": "22935f7e",
   "metadata": {
    "execution": {
     "iopub.execute_input": "2024-08-28T07:31:45.172283Z",
     "iopub.status.busy": "2024-08-28T07:31:45.171097Z",
     "iopub.status.idle": "2024-08-28T07:31:45.183105Z",
     "shell.execute_reply": "2024-08-28T07:31:45.181998Z"
    },
    "papermill": {
     "duration": 0.029277,
     "end_time": "2024-08-28T07:31:45.185331",
     "exception": false,
     "start_time": "2024-08-28T07:31:45.156054",
     "status": "completed"
    },
    "tags": []
   },
   "outputs": [
    {
     "data": {
      "text/plain": [
       "lunch         race/ethnicity\n",
       "free/reduced  group C           114\n",
       "              group D            95\n",
       "              group B            69\n",
       "              group E            41\n",
       "              group A            36\n",
       "standard      group C           205\n",
       "              group D           167\n",
       "              group B           121\n",
       "              group E            99\n",
       "              group A            53\n",
       "Name: count, dtype: int64"
      ]
     },
     "execution_count": 27,
     "metadata": {},
     "output_type": "execute_result"
    }
   ],
   "source": [
    "df.groupby('lunch')['race/ethnicity'].value_counts()"
   ]
  },
  {
   "cell_type": "code",
   "execution_count": 28,
   "id": "834555b6",
   "metadata": {
    "execution": {
     "iopub.execute_input": "2024-08-28T07:31:45.215229Z",
     "iopub.status.busy": "2024-08-28T07:31:45.214312Z",
     "iopub.status.idle": "2024-08-28T07:31:45.225542Z",
     "shell.execute_reply": "2024-08-28T07:31:45.224411Z"
    },
    "papermill": {
     "duration": 0.028529,
     "end_time": "2024-08-28T07:31:45.227747",
     "exception": false,
     "start_time": "2024-08-28T07:31:45.199218",
     "status": "completed"
    },
    "tags": []
   },
   "outputs": [
    {
     "data": {
      "text/plain": [
       "lunch         test preparation course\n",
       "free/reduced  none                       224\n",
       "              completed                  131\n",
       "standard      none                       418\n",
       "              completed                  227\n",
       "Name: count, dtype: int64"
      ]
     },
     "execution_count": 28,
     "metadata": {},
     "output_type": "execute_result"
    }
   ],
   "source": [
    "df.groupby('lunch')['test preparation course'].value_counts()"
   ]
  },
  {
   "cell_type": "code",
   "execution_count": 29,
   "id": "d1419654",
   "metadata": {
    "execution": {
     "iopub.execute_input": "2024-08-28T07:31:45.257315Z",
     "iopub.status.busy": "2024-08-28T07:31:45.256863Z",
     "iopub.status.idle": "2024-08-28T07:31:45.265023Z",
     "shell.execute_reply": "2024-08-28T07:31:45.263990Z"
    },
    "papermill": {
     "duration": 0.02548,
     "end_time": "2024-08-28T07:31:45.267071",
     "exception": false,
     "start_time": "2024-08-28T07:31:45.241591",
     "status": "completed"
    },
    "tags": []
   },
   "outputs": [
    {
     "data": {
      "text/plain": [
       "1"
      ]
     },
     "execution_count": 29,
     "metadata": {},
     "output_type": "execute_result"
    }
   ],
   "source": [
    "df[df['math score'] == 0]['math score'].count()"
   ]
  },
  {
   "cell_type": "code",
   "execution_count": 30,
   "id": "42c189f1",
   "metadata": {
    "execution": {
     "iopub.execute_input": "2024-08-28T07:31:45.297015Z",
     "iopub.status.busy": "2024-08-28T07:31:45.296160Z",
     "iopub.status.idle": "2024-08-28T07:31:45.308476Z",
     "shell.execute_reply": "2024-08-28T07:31:45.307494Z"
    },
    "papermill": {
     "duration": 0.029846,
     "end_time": "2024-08-28T07:31:45.310798",
     "exception": false,
     "start_time": "2024-08-28T07:31:45.280952",
     "status": "completed"
    },
    "tags": []
   },
   "outputs": [
    {
     "data": {
      "text/html": [
       "<div>\n",
       "<style scoped>\n",
       "    .dataframe tbody tr th:only-of-type {\n",
       "        vertical-align: middle;\n",
       "    }\n",
       "\n",
       "    .dataframe tbody tr th {\n",
       "        vertical-align: top;\n",
       "    }\n",
       "\n",
       "    .dataframe thead th {\n",
       "        text-align: right;\n",
       "    }\n",
       "</style>\n",
       "<table border=\"1\" class=\"dataframe\">\n",
       "  <thead>\n",
       "    <tr style=\"text-align: right;\">\n",
       "      <th></th>\n",
       "      <th>gender</th>\n",
       "      <th>race/ethnicity</th>\n",
       "      <th>parental level of education</th>\n",
       "      <th>lunch</th>\n",
       "      <th>test preparation course</th>\n",
       "      <th>math score</th>\n",
       "      <th>reading score</th>\n",
       "      <th>writing score</th>\n",
       "    </tr>\n",
       "  </thead>\n",
       "  <tbody>\n",
       "    <tr>\n",
       "      <th>59</th>\n",
       "      <td>female</td>\n",
       "      <td>group C</td>\n",
       "      <td>some high school</td>\n",
       "      <td>free/reduced</td>\n",
       "      <td>none</td>\n",
       "      <td>0</td>\n",
       "      <td>17</td>\n",
       "      <td>10</td>\n",
       "    </tr>\n",
       "  </tbody>\n",
       "</table>\n",
       "</div>"
      ],
      "text/plain": [
       "    gender race/ethnicity parental level of education         lunch  \\\n",
       "59  female        group C            some high school  free/reduced   \n",
       "\n",
       "   test preparation course  math score  reading score  writing score  \n",
       "59                    none           0             17             10  "
      ]
     },
     "execution_count": 30,
     "metadata": {},
     "output_type": "execute_result"
    }
   ],
   "source": [
    "df[df['math score'] == 0]"
   ]
  },
  {
   "cell_type": "code",
   "execution_count": 31,
   "id": "34c2bc38",
   "metadata": {
    "execution": {
     "iopub.execute_input": "2024-08-28T07:31:45.341260Z",
     "iopub.status.busy": "2024-08-28T07:31:45.340508Z",
     "iopub.status.idle": "2024-08-28T07:31:45.347882Z",
     "shell.execute_reply": "2024-08-28T07:31:45.346957Z"
    },
    "papermill": {
     "duration": 0.02501,
     "end_time": "2024-08-28T07:31:45.349996",
     "exception": false,
     "start_time": "2024-08-28T07:31:45.324986",
     "status": "completed"
    },
    "tags": []
   },
   "outputs": [
    {
     "data": {
      "text/plain": [
       "7"
      ]
     },
     "execution_count": 31,
     "metadata": {},
     "output_type": "execute_result"
    }
   ],
   "source": [
    "df[df['math score'] == 100]['math score'].count()"
   ]
  },
  {
   "cell_type": "code",
   "execution_count": 32,
   "id": "e464e696",
   "metadata": {
    "execution": {
     "iopub.execute_input": "2024-08-28T07:31:45.381099Z",
     "iopub.status.busy": "2024-08-28T07:31:45.380271Z",
     "iopub.status.idle": "2024-08-28T07:31:45.393798Z",
     "shell.execute_reply": "2024-08-28T07:31:45.392707Z"
    },
    "papermill": {
     "duration": 0.031392,
     "end_time": "2024-08-28T07:31:45.395925",
     "exception": false,
     "start_time": "2024-08-28T07:31:45.364533",
     "status": "completed"
    },
    "tags": []
   },
   "outputs": [
    {
     "data": {
      "text/html": [
       "<div>\n",
       "<style scoped>\n",
       "    .dataframe tbody tr th:only-of-type {\n",
       "        vertical-align: middle;\n",
       "    }\n",
       "\n",
       "    .dataframe tbody tr th {\n",
       "        vertical-align: top;\n",
       "    }\n",
       "\n",
       "    .dataframe thead th {\n",
       "        text-align: right;\n",
       "    }\n",
       "</style>\n",
       "<table border=\"1\" class=\"dataframe\">\n",
       "  <thead>\n",
       "    <tr style=\"text-align: right;\">\n",
       "      <th></th>\n",
       "      <th>gender</th>\n",
       "      <th>race/ethnicity</th>\n",
       "      <th>parental level of education</th>\n",
       "      <th>lunch</th>\n",
       "      <th>test preparation course</th>\n",
       "      <th>math score</th>\n",
       "      <th>reading score</th>\n",
       "      <th>writing score</th>\n",
       "    </tr>\n",
       "  </thead>\n",
       "  <tbody>\n",
       "    <tr>\n",
       "      <th>149</th>\n",
       "      <td>male</td>\n",
       "      <td>group E</td>\n",
       "      <td>associate's degree</td>\n",
       "      <td>free/reduced</td>\n",
       "      <td>completed</td>\n",
       "      <td>100</td>\n",
       "      <td>100</td>\n",
       "      <td>93</td>\n",
       "    </tr>\n",
       "    <tr>\n",
       "      <th>451</th>\n",
       "      <td>female</td>\n",
       "      <td>group E</td>\n",
       "      <td>some college</td>\n",
       "      <td>standard</td>\n",
       "      <td>none</td>\n",
       "      <td>100</td>\n",
       "      <td>92</td>\n",
       "      <td>97</td>\n",
       "    </tr>\n",
       "    <tr>\n",
       "      <th>458</th>\n",
       "      <td>female</td>\n",
       "      <td>group E</td>\n",
       "      <td>bachelor's degree</td>\n",
       "      <td>standard</td>\n",
       "      <td>none</td>\n",
       "      <td>100</td>\n",
       "      <td>100</td>\n",
       "      <td>100</td>\n",
       "    </tr>\n",
       "    <tr>\n",
       "      <th>623</th>\n",
       "      <td>male</td>\n",
       "      <td>group A</td>\n",
       "      <td>some college</td>\n",
       "      <td>standard</td>\n",
       "      <td>completed</td>\n",
       "      <td>100</td>\n",
       "      <td>96</td>\n",
       "      <td>86</td>\n",
       "    </tr>\n",
       "    <tr>\n",
       "      <th>625</th>\n",
       "      <td>male</td>\n",
       "      <td>group D</td>\n",
       "      <td>some college</td>\n",
       "      <td>standard</td>\n",
       "      <td>completed</td>\n",
       "      <td>100</td>\n",
       "      <td>97</td>\n",
       "      <td>99</td>\n",
       "    </tr>\n",
       "    <tr>\n",
       "      <th>916</th>\n",
       "      <td>male</td>\n",
       "      <td>group E</td>\n",
       "      <td>bachelor's degree</td>\n",
       "      <td>standard</td>\n",
       "      <td>completed</td>\n",
       "      <td>100</td>\n",
       "      <td>100</td>\n",
       "      <td>100</td>\n",
       "    </tr>\n",
       "    <tr>\n",
       "      <th>962</th>\n",
       "      <td>female</td>\n",
       "      <td>group E</td>\n",
       "      <td>associate's degree</td>\n",
       "      <td>standard</td>\n",
       "      <td>none</td>\n",
       "      <td>100</td>\n",
       "      <td>100</td>\n",
       "      <td>100</td>\n",
       "    </tr>\n",
       "  </tbody>\n",
       "</table>\n",
       "</div>"
      ],
      "text/plain": [
       "     gender race/ethnicity parental level of education         lunch  \\\n",
       "149    male        group E          associate's degree  free/reduced   \n",
       "451  female        group E                some college      standard   \n",
       "458  female        group E           bachelor's degree      standard   \n",
       "623    male        group A                some college      standard   \n",
       "625    male        group D                some college      standard   \n",
       "916    male        group E           bachelor's degree      standard   \n",
       "962  female        group E          associate's degree      standard   \n",
       "\n",
       "    test preparation course  math score  reading score  writing score  \n",
       "149               completed         100            100             93  \n",
       "451                    none         100             92             97  \n",
       "458                    none         100            100            100  \n",
       "623               completed         100             96             86  \n",
       "625               completed         100             97             99  \n",
       "916               completed         100            100            100  \n",
       "962                    none         100            100            100  "
      ]
     },
     "execution_count": 32,
     "metadata": {},
     "output_type": "execute_result"
    }
   ],
   "source": [
    "df[df['math score'] == 100]"
   ]
  },
  {
   "cell_type": "code",
   "execution_count": 33,
   "id": "d29ac508",
   "metadata": {
    "execution": {
     "iopub.execute_input": "2024-08-28T07:31:45.479763Z",
     "iopub.status.busy": "2024-08-28T07:31:45.479386Z",
     "iopub.status.idle": "2024-08-28T07:31:45.489492Z",
     "shell.execute_reply": "2024-08-28T07:31:45.488258Z"
    },
    "papermill": {
     "duration": 0.080934,
     "end_time": "2024-08-28T07:31:45.491725",
     "exception": false,
     "start_time": "2024-08-28T07:31:45.410791",
     "status": "completed"
    },
    "tags": []
   },
   "outputs": [
    {
     "data": {
      "text/plain": [
       "math score\n",
       "65    36\n",
       "62    35\n",
       "69    32\n",
       "59    32\n",
       "61    27\n",
       "      ..\n",
       "24     1\n",
       "28     1\n",
       "33     1\n",
       "18     1\n",
       "8      1\n",
       "Name: count, Length: 81, dtype: int64"
      ]
     },
     "execution_count": 33,
     "metadata": {},
     "output_type": "execute_result"
    }
   ],
   "source": [
    "df['math score'].value_counts()"
   ]
  },
  {
   "cell_type": "code",
   "execution_count": 34,
   "id": "ede40b47",
   "metadata": {
    "execution": {
     "iopub.execute_input": "2024-08-28T07:31:45.523769Z",
     "iopub.status.busy": "2024-08-28T07:31:45.522979Z",
     "iopub.status.idle": "2024-08-28T07:31:45.531123Z",
     "shell.execute_reply": "2024-08-28T07:31:45.529968Z"
    },
    "papermill": {
     "duration": 0.026496,
     "end_time": "2024-08-28T07:31:45.533226",
     "exception": false,
     "start_time": "2024-08-28T07:31:45.506730",
     "status": "completed"
    },
    "tags": []
   },
   "outputs": [
    {
     "data": {
      "text/plain": [
       "135"
      ]
     },
     "execution_count": 34,
     "metadata": {},
     "output_type": "execute_result"
    }
   ],
   "source": [
    "df[df['math score'] < 50]['math score'].count()"
   ]
  },
  {
   "cell_type": "code",
   "execution_count": 35,
   "id": "1137d115",
   "metadata": {
    "execution": {
     "iopub.execute_input": "2024-08-28T07:31:45.565195Z",
     "iopub.status.busy": "2024-08-28T07:31:45.564231Z",
     "iopub.status.idle": "2024-08-28T07:31:45.579901Z",
     "shell.execute_reply": "2024-08-28T07:31:45.578876Z"
    },
    "papermill": {
     "duration": 0.033995,
     "end_time": "2024-08-28T07:31:45.582141",
     "exception": false,
     "start_time": "2024-08-28T07:31:45.548146",
     "status": "completed"
    },
    "tags": []
   },
   "outputs": [
    {
     "data": {
      "text/html": [
       "<div>\n",
       "<style scoped>\n",
       "    .dataframe tbody tr th:only-of-type {\n",
       "        vertical-align: middle;\n",
       "    }\n",
       "\n",
       "    .dataframe tbody tr th {\n",
       "        vertical-align: top;\n",
       "    }\n",
       "\n",
       "    .dataframe thead th {\n",
       "        text-align: right;\n",
       "    }\n",
       "</style>\n",
       "<table border=\"1\" class=\"dataframe\">\n",
       "  <thead>\n",
       "    <tr style=\"text-align: right;\">\n",
       "      <th></th>\n",
       "      <th>gender</th>\n",
       "      <th>race/ethnicity</th>\n",
       "      <th>parental level of education</th>\n",
       "      <th>lunch</th>\n",
       "      <th>test preparation course</th>\n",
       "      <th>math score</th>\n",
       "      <th>reading score</th>\n",
       "      <th>writing score</th>\n",
       "    </tr>\n",
       "  </thead>\n",
       "  <tbody>\n",
       "    <tr>\n",
       "      <th>3</th>\n",
       "      <td>male</td>\n",
       "      <td>group A</td>\n",
       "      <td>associate's degree</td>\n",
       "      <td>free/reduced</td>\n",
       "      <td>none</td>\n",
       "      <td>47</td>\n",
       "      <td>57</td>\n",
       "      <td>44</td>\n",
       "    </tr>\n",
       "    <tr>\n",
       "      <th>7</th>\n",
       "      <td>male</td>\n",
       "      <td>group B</td>\n",
       "      <td>some college</td>\n",
       "      <td>free/reduced</td>\n",
       "      <td>none</td>\n",
       "      <td>40</td>\n",
       "      <td>43</td>\n",
       "      <td>39</td>\n",
       "    </tr>\n",
       "    <tr>\n",
       "      <th>9</th>\n",
       "      <td>female</td>\n",
       "      <td>group B</td>\n",
       "      <td>high school</td>\n",
       "      <td>free/reduced</td>\n",
       "      <td>none</td>\n",
       "      <td>38</td>\n",
       "      <td>60</td>\n",
       "      <td>50</td>\n",
       "    </tr>\n",
       "    <tr>\n",
       "      <th>11</th>\n",
       "      <td>male</td>\n",
       "      <td>group D</td>\n",
       "      <td>associate's degree</td>\n",
       "      <td>standard</td>\n",
       "      <td>none</td>\n",
       "      <td>40</td>\n",
       "      <td>52</td>\n",
       "      <td>43</td>\n",
       "    </tr>\n",
       "    <tr>\n",
       "      <th>17</th>\n",
       "      <td>female</td>\n",
       "      <td>group B</td>\n",
       "      <td>some high school</td>\n",
       "      <td>free/reduced</td>\n",
       "      <td>none</td>\n",
       "      <td>18</td>\n",
       "      <td>32</td>\n",
       "      <td>28</td>\n",
       "    </tr>\n",
       "    <tr>\n",
       "      <th>...</th>\n",
       "      <td>...</td>\n",
       "      <td>...</td>\n",
       "      <td>...</td>\n",
       "      <td>...</td>\n",
       "      <td>...</td>\n",
       "      <td>...</td>\n",
       "      <td>...</td>\n",
       "      <td>...</td>\n",
       "    </tr>\n",
       "    <tr>\n",
       "      <th>961</th>\n",
       "      <td>female</td>\n",
       "      <td>group D</td>\n",
       "      <td>some high school</td>\n",
       "      <td>free/reduced</td>\n",
       "      <td>none</td>\n",
       "      <td>48</td>\n",
       "      <td>54</td>\n",
       "      <td>53</td>\n",
       "    </tr>\n",
       "    <tr>\n",
       "      <th>973</th>\n",
       "      <td>female</td>\n",
       "      <td>group D</td>\n",
       "      <td>some college</td>\n",
       "      <td>free/reduced</td>\n",
       "      <td>none</td>\n",
       "      <td>49</td>\n",
       "      <td>65</td>\n",
       "      <td>61</td>\n",
       "    </tr>\n",
       "    <tr>\n",
       "      <th>980</th>\n",
       "      <td>female</td>\n",
       "      <td>group B</td>\n",
       "      <td>high school</td>\n",
       "      <td>free/reduced</td>\n",
       "      <td>none</td>\n",
       "      <td>8</td>\n",
       "      <td>24</td>\n",
       "      <td>23</td>\n",
       "    </tr>\n",
       "    <tr>\n",
       "      <th>986</th>\n",
       "      <td>female</td>\n",
       "      <td>group C</td>\n",
       "      <td>associate's degree</td>\n",
       "      <td>standard</td>\n",
       "      <td>none</td>\n",
       "      <td>40</td>\n",
       "      <td>59</td>\n",
       "      <td>51</td>\n",
       "    </tr>\n",
       "    <tr>\n",
       "      <th>988</th>\n",
       "      <td>female</td>\n",
       "      <td>group A</td>\n",
       "      <td>some high school</td>\n",
       "      <td>free/reduced</td>\n",
       "      <td>none</td>\n",
       "      <td>44</td>\n",
       "      <td>45</td>\n",
       "      <td>45</td>\n",
       "    </tr>\n",
       "  </tbody>\n",
       "</table>\n",
       "<p>135 rows × 8 columns</p>\n",
       "</div>"
      ],
      "text/plain": [
       "     gender race/ethnicity parental level of education         lunch  \\\n",
       "3      male        group A          associate's degree  free/reduced   \n",
       "7      male        group B                some college  free/reduced   \n",
       "9    female        group B                 high school  free/reduced   \n",
       "11     male        group D          associate's degree      standard   \n",
       "17   female        group B            some high school  free/reduced   \n",
       "..      ...            ...                         ...           ...   \n",
       "961  female        group D            some high school  free/reduced   \n",
       "973  female        group D                some college  free/reduced   \n",
       "980  female        group B                 high school  free/reduced   \n",
       "986  female        group C          associate's degree      standard   \n",
       "988  female        group A            some high school  free/reduced   \n",
       "\n",
       "    test preparation course  math score  reading score  writing score  \n",
       "3                      none          47             57             44  \n",
       "7                      none          40             43             39  \n",
       "9                      none          38             60             50  \n",
       "11                     none          40             52             43  \n",
       "17                     none          18             32             28  \n",
       "..                      ...         ...            ...            ...  \n",
       "961                    none          48             54             53  \n",
       "973                    none          49             65             61  \n",
       "980                    none           8             24             23  \n",
       "986                    none          40             59             51  \n",
       "988                    none          44             45             45  \n",
       "\n",
       "[135 rows x 8 columns]"
      ]
     },
     "execution_count": 35,
     "metadata": {},
     "output_type": "execute_result"
    }
   ],
   "source": [
    "df[df['math score'] < 50]"
   ]
  },
  {
   "cell_type": "code",
   "execution_count": 36,
   "id": "0bb0dbc4",
   "metadata": {
    "execution": {
     "iopub.execute_input": "2024-08-28T07:31:45.614582Z",
     "iopub.status.busy": "2024-08-28T07:31:45.614179Z",
     "iopub.status.idle": "2024-08-28T07:31:45.622118Z",
     "shell.execute_reply": "2024-08-28T07:31:45.620958Z"
    },
    "papermill": {
     "duration": 0.026548,
     "end_time": "2024-08-28T07:31:45.624314",
     "exception": false,
     "start_time": "2024-08-28T07:31:45.597766",
     "status": "completed"
    },
    "tags": []
   },
   "outputs": [
    {
     "data": {
      "text/plain": [
       "0"
      ]
     },
     "execution_count": 36,
     "metadata": {},
     "output_type": "execute_result"
    }
   ],
   "source": [
    "df[df['writing score'] == 0]['writing score'].count()"
   ]
  },
  {
   "cell_type": "code",
   "execution_count": 37,
   "id": "5ee7a414",
   "metadata": {
    "execution": {
     "iopub.execute_input": "2024-08-28T07:31:45.657136Z",
     "iopub.status.busy": "2024-08-28T07:31:45.656717Z",
     "iopub.status.idle": "2024-08-28T07:31:45.665158Z",
     "shell.execute_reply": "2024-08-28T07:31:45.664106Z"
    },
    "papermill": {
     "duration": 0.027146,
     "end_time": "2024-08-28T07:31:45.667287",
     "exception": false,
     "start_time": "2024-08-28T07:31:45.640141",
     "status": "completed"
    },
    "tags": []
   },
   "outputs": [
    {
     "data": {
      "text/plain": [
       "14"
      ]
     },
     "execution_count": 37,
     "metadata": {},
     "output_type": "execute_result"
    }
   ],
   "source": [
    "df[df['writing score'] == 100]['writing score'].count()"
   ]
  },
  {
   "cell_type": "code",
   "execution_count": 38,
   "id": "f59bb14e",
   "metadata": {
    "execution": {
     "iopub.execute_input": "2024-08-28T07:31:45.699971Z",
     "iopub.status.busy": "2024-08-28T07:31:45.699297Z",
     "iopub.status.idle": "2024-08-28T07:31:45.713689Z",
     "shell.execute_reply": "2024-08-28T07:31:45.712635Z"
    },
    "papermill": {
     "duration": 0.033162,
     "end_time": "2024-08-28T07:31:45.715795",
     "exception": false,
     "start_time": "2024-08-28T07:31:45.682633",
     "status": "completed"
    },
    "tags": []
   },
   "outputs": [
    {
     "data": {
      "text/html": [
       "<div>\n",
       "<style scoped>\n",
       "    .dataframe tbody tr th:only-of-type {\n",
       "        vertical-align: middle;\n",
       "    }\n",
       "\n",
       "    .dataframe tbody tr th {\n",
       "        vertical-align: top;\n",
       "    }\n",
       "\n",
       "    .dataframe thead th {\n",
       "        text-align: right;\n",
       "    }\n",
       "</style>\n",
       "<table border=\"1\" class=\"dataframe\">\n",
       "  <thead>\n",
       "    <tr style=\"text-align: right;\">\n",
       "      <th></th>\n",
       "      <th>gender</th>\n",
       "      <th>race/ethnicity</th>\n",
       "      <th>parental level of education</th>\n",
       "      <th>lunch</th>\n",
       "      <th>test preparation course</th>\n",
       "      <th>math score</th>\n",
       "      <th>reading score</th>\n",
       "      <th>writing score</th>\n",
       "    </tr>\n",
       "  </thead>\n",
       "  <tbody>\n",
       "    <tr>\n",
       "      <th>106</th>\n",
       "      <td>female</td>\n",
       "      <td>group D</td>\n",
       "      <td>master's degree</td>\n",
       "      <td>standard</td>\n",
       "      <td>none</td>\n",
       "      <td>87</td>\n",
       "      <td>100</td>\n",
       "      <td>100</td>\n",
       "    </tr>\n",
       "    <tr>\n",
       "      <th>114</th>\n",
       "      <td>female</td>\n",
       "      <td>group E</td>\n",
       "      <td>bachelor's degree</td>\n",
       "      <td>standard</td>\n",
       "      <td>completed</td>\n",
       "      <td>99</td>\n",
       "      <td>100</td>\n",
       "      <td>100</td>\n",
       "    </tr>\n",
       "    <tr>\n",
       "      <th>165</th>\n",
       "      <td>female</td>\n",
       "      <td>group C</td>\n",
       "      <td>bachelor's degree</td>\n",
       "      <td>standard</td>\n",
       "      <td>completed</td>\n",
       "      <td>96</td>\n",
       "      <td>100</td>\n",
       "      <td>100</td>\n",
       "    </tr>\n",
       "    <tr>\n",
       "      <th>179</th>\n",
       "      <td>female</td>\n",
       "      <td>group D</td>\n",
       "      <td>some high school</td>\n",
       "      <td>standard</td>\n",
       "      <td>completed</td>\n",
       "      <td>97</td>\n",
       "      <td>100</td>\n",
       "      <td>100</td>\n",
       "    </tr>\n",
       "    <tr>\n",
       "      <th>377</th>\n",
       "      <td>female</td>\n",
       "      <td>group D</td>\n",
       "      <td>master's degree</td>\n",
       "      <td>free/reduced</td>\n",
       "      <td>completed</td>\n",
       "      <td>85</td>\n",
       "      <td>95</td>\n",
       "      <td>100</td>\n",
       "    </tr>\n",
       "    <tr>\n",
       "      <th>403</th>\n",
       "      <td>female</td>\n",
       "      <td>group D</td>\n",
       "      <td>high school</td>\n",
       "      <td>standard</td>\n",
       "      <td>completed</td>\n",
       "      <td>88</td>\n",
       "      <td>99</td>\n",
       "      <td>100</td>\n",
       "    </tr>\n",
       "    <tr>\n",
       "      <th>458</th>\n",
       "      <td>female</td>\n",
       "      <td>group E</td>\n",
       "      <td>bachelor's degree</td>\n",
       "      <td>standard</td>\n",
       "      <td>none</td>\n",
       "      <td>100</td>\n",
       "      <td>100</td>\n",
       "      <td>100</td>\n",
       "    </tr>\n",
       "    <tr>\n",
       "      <th>566</th>\n",
       "      <td>female</td>\n",
       "      <td>group E</td>\n",
       "      <td>bachelor's degree</td>\n",
       "      <td>free/reduced</td>\n",
       "      <td>completed</td>\n",
       "      <td>92</td>\n",
       "      <td>100</td>\n",
       "      <td>100</td>\n",
       "    </tr>\n",
       "    <tr>\n",
       "      <th>685</th>\n",
       "      <td>female</td>\n",
       "      <td>group E</td>\n",
       "      <td>master's degree</td>\n",
       "      <td>standard</td>\n",
       "      <td>completed</td>\n",
       "      <td>94</td>\n",
       "      <td>99</td>\n",
       "      <td>100</td>\n",
       "    </tr>\n",
       "    <tr>\n",
       "      <th>903</th>\n",
       "      <td>female</td>\n",
       "      <td>group D</td>\n",
       "      <td>bachelor's degree</td>\n",
       "      <td>free/reduced</td>\n",
       "      <td>completed</td>\n",
       "      <td>93</td>\n",
       "      <td>100</td>\n",
       "      <td>100</td>\n",
       "    </tr>\n",
       "    <tr>\n",
       "      <th>916</th>\n",
       "      <td>male</td>\n",
       "      <td>group E</td>\n",
       "      <td>bachelor's degree</td>\n",
       "      <td>standard</td>\n",
       "      <td>completed</td>\n",
       "      <td>100</td>\n",
       "      <td>100</td>\n",
       "      <td>100</td>\n",
       "    </tr>\n",
       "    <tr>\n",
       "      <th>957</th>\n",
       "      <td>female</td>\n",
       "      <td>group D</td>\n",
       "      <td>master's degree</td>\n",
       "      <td>standard</td>\n",
       "      <td>none</td>\n",
       "      <td>92</td>\n",
       "      <td>100</td>\n",
       "      <td>100</td>\n",
       "    </tr>\n",
       "    <tr>\n",
       "      <th>962</th>\n",
       "      <td>female</td>\n",
       "      <td>group E</td>\n",
       "      <td>associate's degree</td>\n",
       "      <td>standard</td>\n",
       "      <td>none</td>\n",
       "      <td>100</td>\n",
       "      <td>100</td>\n",
       "      <td>100</td>\n",
       "    </tr>\n",
       "    <tr>\n",
       "      <th>970</th>\n",
       "      <td>female</td>\n",
       "      <td>group D</td>\n",
       "      <td>bachelor's degree</td>\n",
       "      <td>standard</td>\n",
       "      <td>none</td>\n",
       "      <td>89</td>\n",
       "      <td>100</td>\n",
       "      <td>100</td>\n",
       "    </tr>\n",
       "  </tbody>\n",
       "</table>\n",
       "</div>"
      ],
      "text/plain": [
       "     gender race/ethnicity parental level of education         lunch  \\\n",
       "106  female        group D             master's degree      standard   \n",
       "114  female        group E           bachelor's degree      standard   \n",
       "165  female        group C           bachelor's degree      standard   \n",
       "179  female        group D            some high school      standard   \n",
       "377  female        group D             master's degree  free/reduced   \n",
       "403  female        group D                 high school      standard   \n",
       "458  female        group E           bachelor's degree      standard   \n",
       "566  female        group E           bachelor's degree  free/reduced   \n",
       "685  female        group E             master's degree      standard   \n",
       "903  female        group D           bachelor's degree  free/reduced   \n",
       "916    male        group E           bachelor's degree      standard   \n",
       "957  female        group D             master's degree      standard   \n",
       "962  female        group E          associate's degree      standard   \n",
       "970  female        group D           bachelor's degree      standard   \n",
       "\n",
       "    test preparation course  math score  reading score  writing score  \n",
       "106                    none          87            100            100  \n",
       "114               completed          99            100            100  \n",
       "165               completed          96            100            100  \n",
       "179               completed          97            100            100  \n",
       "377               completed          85             95            100  \n",
       "403               completed          88             99            100  \n",
       "458                    none         100            100            100  \n",
       "566               completed          92            100            100  \n",
       "685               completed          94             99            100  \n",
       "903               completed          93            100            100  \n",
       "916               completed         100            100            100  \n",
       "957                    none          92            100            100  \n",
       "962                    none         100            100            100  \n",
       "970                    none          89            100            100  "
      ]
     },
     "execution_count": 38,
     "metadata": {},
     "output_type": "execute_result"
    }
   ],
   "source": [
    "df[df['writing score'] == 100]"
   ]
  },
  {
   "cell_type": "code",
   "execution_count": 39,
   "id": "cec1d9b5",
   "metadata": {
    "execution": {
     "iopub.execute_input": "2024-08-28T07:31:45.748703Z",
     "iopub.status.busy": "2024-08-28T07:31:45.748298Z",
     "iopub.status.idle": "2024-08-28T07:31:45.757108Z",
     "shell.execute_reply": "2024-08-28T07:31:45.755967Z"
    },
    "papermill": {
     "duration": 0.027812,
     "end_time": "2024-08-28T07:31:45.759308",
     "exception": false,
     "start_time": "2024-08-28T07:31:45.731496",
     "status": "completed"
    },
    "tags": []
   },
   "outputs": [
    {
     "data": {
      "text/plain": [
       "writing score\n",
       "74    35\n",
       "70    33\n",
       "68    31\n",
       "73    28\n",
       "80    27\n",
       "      ..\n",
       "28     1\n",
       "35     1\n",
       "19     1\n",
       "22     1\n",
       "23     1\n",
       "Name: count, Length: 77, dtype: int64"
      ]
     },
     "execution_count": 39,
     "metadata": {},
     "output_type": "execute_result"
    }
   ],
   "source": [
    "df['writing score'].value_counts()"
   ]
  },
  {
   "cell_type": "code",
   "execution_count": 40,
   "id": "0e22662e",
   "metadata": {
    "execution": {
     "iopub.execute_input": "2024-08-28T07:31:45.792462Z",
     "iopub.status.busy": "2024-08-28T07:31:45.792060Z",
     "iopub.status.idle": "2024-08-28T07:31:45.799890Z",
     "shell.execute_reply": "2024-08-28T07:31:45.798899Z"
    },
    "papermill": {
     "duration": 0.027002,
     "end_time": "2024-08-28T07:31:45.802114",
     "exception": false,
     "start_time": "2024-08-28T07:31:45.775112",
     "status": "completed"
    },
    "tags": []
   },
   "outputs": [
    {
     "data": {
      "text/plain": [
       "114"
      ]
     },
     "execution_count": 40,
     "metadata": {},
     "output_type": "execute_result"
    }
   ],
   "source": [
    "df[df['writing score'] < 50]['writing score'].count()"
   ]
  },
  {
   "cell_type": "code",
   "execution_count": 41,
   "id": "38e460d2",
   "metadata": {
    "execution": {
     "iopub.execute_input": "2024-08-28T07:31:45.835379Z",
     "iopub.status.busy": "2024-08-28T07:31:45.834981Z",
     "iopub.status.idle": "2024-08-28T07:31:45.850268Z",
     "shell.execute_reply": "2024-08-28T07:31:45.849239Z"
    },
    "papermill": {
     "duration": 0.034508,
     "end_time": "2024-08-28T07:31:45.852360",
     "exception": false,
     "start_time": "2024-08-28T07:31:45.817852",
     "status": "completed"
    },
    "tags": []
   },
   "outputs": [
    {
     "data": {
      "text/html": [
       "<div>\n",
       "<style scoped>\n",
       "    .dataframe tbody tr th:only-of-type {\n",
       "        vertical-align: middle;\n",
       "    }\n",
       "\n",
       "    .dataframe tbody tr th {\n",
       "        vertical-align: top;\n",
       "    }\n",
       "\n",
       "    .dataframe thead th {\n",
       "        text-align: right;\n",
       "    }\n",
       "</style>\n",
       "<table border=\"1\" class=\"dataframe\">\n",
       "  <thead>\n",
       "    <tr style=\"text-align: right;\">\n",
       "      <th></th>\n",
       "      <th>gender</th>\n",
       "      <th>race/ethnicity</th>\n",
       "      <th>parental level of education</th>\n",
       "      <th>lunch</th>\n",
       "      <th>test preparation course</th>\n",
       "      <th>math score</th>\n",
       "      <th>reading score</th>\n",
       "      <th>writing score</th>\n",
       "    </tr>\n",
       "  </thead>\n",
       "  <tbody>\n",
       "    <tr>\n",
       "      <th>3</th>\n",
       "      <td>male</td>\n",
       "      <td>group A</td>\n",
       "      <td>associate's degree</td>\n",
       "      <td>free/reduced</td>\n",
       "      <td>none</td>\n",
       "      <td>47</td>\n",
       "      <td>57</td>\n",
       "      <td>44</td>\n",
       "    </tr>\n",
       "    <tr>\n",
       "      <th>7</th>\n",
       "      <td>male</td>\n",
       "      <td>group B</td>\n",
       "      <td>some college</td>\n",
       "      <td>free/reduced</td>\n",
       "      <td>none</td>\n",
       "      <td>40</td>\n",
       "      <td>43</td>\n",
       "      <td>39</td>\n",
       "    </tr>\n",
       "    <tr>\n",
       "      <th>11</th>\n",
       "      <td>male</td>\n",
       "      <td>group D</td>\n",
       "      <td>associate's degree</td>\n",
       "      <td>standard</td>\n",
       "      <td>none</td>\n",
       "      <td>40</td>\n",
       "      <td>52</td>\n",
       "      <td>43</td>\n",
       "    </tr>\n",
       "    <tr>\n",
       "      <th>17</th>\n",
       "      <td>female</td>\n",
       "      <td>group B</td>\n",
       "      <td>some high school</td>\n",
       "      <td>free/reduced</td>\n",
       "      <td>none</td>\n",
       "      <td>18</td>\n",
       "      <td>32</td>\n",
       "      <td>28</td>\n",
       "    </tr>\n",
       "    <tr>\n",
       "      <th>18</th>\n",
       "      <td>male</td>\n",
       "      <td>group C</td>\n",
       "      <td>master's degree</td>\n",
       "      <td>free/reduced</td>\n",
       "      <td>completed</td>\n",
       "      <td>46</td>\n",
       "      <td>42</td>\n",
       "      <td>46</td>\n",
       "    </tr>\n",
       "    <tr>\n",
       "      <th>...</th>\n",
       "      <td>...</td>\n",
       "      <td>...</td>\n",
       "      <td>...</td>\n",
       "      <td>...</td>\n",
       "      <td>...</td>\n",
       "      <td>...</td>\n",
       "      <td>...</td>\n",
       "      <td>...</td>\n",
       "    </tr>\n",
       "    <tr>\n",
       "      <th>921</th>\n",
       "      <td>female</td>\n",
       "      <td>group C</td>\n",
       "      <td>high school</td>\n",
       "      <td>free/reduced</td>\n",
       "      <td>none</td>\n",
       "      <td>35</td>\n",
       "      <td>53</td>\n",
       "      <td>46</td>\n",
       "    </tr>\n",
       "    <tr>\n",
       "      <th>928</th>\n",
       "      <td>male</td>\n",
       "      <td>group E</td>\n",
       "      <td>associate's degree</td>\n",
       "      <td>free/reduced</td>\n",
       "      <td>completed</td>\n",
       "      <td>46</td>\n",
       "      <td>43</td>\n",
       "      <td>44</td>\n",
       "    </tr>\n",
       "    <tr>\n",
       "      <th>978</th>\n",
       "      <td>male</td>\n",
       "      <td>group D</td>\n",
       "      <td>high school</td>\n",
       "      <td>standard</td>\n",
       "      <td>completed</td>\n",
       "      <td>55</td>\n",
       "      <td>41</td>\n",
       "      <td>48</td>\n",
       "    </tr>\n",
       "    <tr>\n",
       "      <th>980</th>\n",
       "      <td>female</td>\n",
       "      <td>group B</td>\n",
       "      <td>high school</td>\n",
       "      <td>free/reduced</td>\n",
       "      <td>none</td>\n",
       "      <td>8</td>\n",
       "      <td>24</td>\n",
       "      <td>23</td>\n",
       "    </tr>\n",
       "    <tr>\n",
       "      <th>988</th>\n",
       "      <td>female</td>\n",
       "      <td>group A</td>\n",
       "      <td>some high school</td>\n",
       "      <td>free/reduced</td>\n",
       "      <td>none</td>\n",
       "      <td>44</td>\n",
       "      <td>45</td>\n",
       "      <td>45</td>\n",
       "    </tr>\n",
       "  </tbody>\n",
       "</table>\n",
       "<p>114 rows × 8 columns</p>\n",
       "</div>"
      ],
      "text/plain": [
       "     gender race/ethnicity parental level of education         lunch  \\\n",
       "3      male        group A          associate's degree  free/reduced   \n",
       "7      male        group B                some college  free/reduced   \n",
       "11     male        group D          associate's degree      standard   \n",
       "17   female        group B            some high school  free/reduced   \n",
       "18     male        group C             master's degree  free/reduced   \n",
       "..      ...            ...                         ...           ...   \n",
       "921  female        group C                 high school  free/reduced   \n",
       "928    male        group E          associate's degree  free/reduced   \n",
       "978    male        group D                 high school      standard   \n",
       "980  female        group B                 high school  free/reduced   \n",
       "988  female        group A            some high school  free/reduced   \n",
       "\n",
       "    test preparation course  math score  reading score  writing score  \n",
       "3                      none          47             57             44  \n",
       "7                      none          40             43             39  \n",
       "11                     none          40             52             43  \n",
       "17                     none          18             32             28  \n",
       "18                completed          46             42             46  \n",
       "..                      ...         ...            ...            ...  \n",
       "921                    none          35             53             46  \n",
       "928               completed          46             43             44  \n",
       "978               completed          55             41             48  \n",
       "980                    none           8             24             23  \n",
       "988                    none          44             45             45  \n",
       "\n",
       "[114 rows x 8 columns]"
      ]
     },
     "execution_count": 41,
     "metadata": {},
     "output_type": "execute_result"
    }
   ],
   "source": [
    "df[df['writing score'] < 50]"
   ]
  },
  {
   "cell_type": "code",
   "execution_count": 42,
   "id": "09ef8351",
   "metadata": {
    "execution": {
     "iopub.execute_input": "2024-08-28T07:31:45.887300Z",
     "iopub.status.busy": "2024-08-28T07:31:45.886554Z",
     "iopub.status.idle": "2024-08-28T07:31:45.892661Z",
     "shell.execute_reply": "2024-08-28T07:31:45.891448Z"
    },
    "papermill": {
     "duration": 0.02605,
     "end_time": "2024-08-28T07:31:45.894841",
     "exception": false,
     "start_time": "2024-08-28T07:31:45.868791",
     "status": "completed"
    },
    "tags": []
   },
   "outputs": [],
   "source": [
    "bad_score = df[df['math score'] < 50]"
   ]
  },
  {
   "cell_type": "code",
   "execution_count": 43,
   "id": "ca726f48",
   "metadata": {
    "execution": {
     "iopub.execute_input": "2024-08-28T07:31:45.929519Z",
     "iopub.status.busy": "2024-08-28T07:31:45.928606Z",
     "iopub.status.idle": "2024-08-28T07:31:45.937751Z",
     "shell.execute_reply": "2024-08-28T07:31:45.936678Z"
    },
    "papermill": {
     "duration": 0.028656,
     "end_time": "2024-08-28T07:31:45.939899",
     "exception": false,
     "start_time": "2024-08-28T07:31:45.911243",
     "status": "completed"
    },
    "tags": []
   },
   "outputs": [
    {
     "data": {
      "text/plain": [
       "race/ethnicity\n",
       "group C    45\n",
       "group B    32\n",
       "group D    29\n",
       "group A    19\n",
       "group E    10\n",
       "Name: math score, dtype: int64"
      ]
     },
     "execution_count": 43,
     "metadata": {},
     "output_type": "execute_result"
    }
   ],
   "source": [
    "bad_score.groupby('race/ethnicity')['math score'].count().sort_values(ascending=False)"
   ]
  },
  {
   "cell_type": "code",
   "execution_count": 44,
   "id": "6328d722",
   "metadata": {
    "execution": {
     "iopub.execute_input": "2024-08-28T07:31:45.974879Z",
     "iopub.status.busy": "2024-08-28T07:31:45.973840Z",
     "iopub.status.idle": "2024-08-28T07:31:45.982816Z",
     "shell.execute_reply": "2024-08-28T07:31:45.981804Z"
    },
    "papermill": {
     "duration": 0.028639,
     "end_time": "2024-08-28T07:31:45.984900",
     "exception": false,
     "start_time": "2024-08-28T07:31:45.956261",
     "status": "completed"
    },
    "tags": []
   },
   "outputs": [
    {
     "data": {
      "text/plain": [
       "test preparation course\n",
       "none         107\n",
       "completed     28\n",
       "Name: math score, dtype: int64"
      ]
     },
     "execution_count": 44,
     "metadata": {},
     "output_type": "execute_result"
    }
   ],
   "source": [
    "bad_score.groupby('test preparation course')['math score'].count().sort_values(ascending=False)"
   ]
  },
  {
   "cell_type": "code",
   "execution_count": 45,
   "id": "206de37e",
   "metadata": {
    "execution": {
     "iopub.execute_input": "2024-08-28T07:31:46.021021Z",
     "iopub.status.busy": "2024-08-28T07:31:46.020076Z",
     "iopub.status.idle": "2024-08-28T07:31:46.029276Z",
     "shell.execute_reply": "2024-08-28T07:31:46.028219Z"
    },
    "papermill": {
     "duration": 0.029082,
     "end_time": "2024-08-28T07:31:46.031569",
     "exception": false,
     "start_time": "2024-08-28T07:31:46.002487",
     "status": "completed"
    },
    "tags": []
   },
   "outputs": [
    {
     "data": {
      "text/plain": [
       "lunch\n",
       "free/reduced    96\n",
       "standard        39\n",
       "Name: math score, dtype: int64"
      ]
     },
     "execution_count": 45,
     "metadata": {},
     "output_type": "execute_result"
    }
   ],
   "source": [
    "bad_score.groupby('lunch')['math score'].count().sort_values(ascending=False)"
   ]
  },
  {
   "cell_type": "code",
   "execution_count": 46,
   "id": "708de177",
   "metadata": {
    "execution": {
     "iopub.execute_input": "2024-08-28T07:31:46.067080Z",
     "iopub.status.busy": "2024-08-28T07:31:46.066650Z",
     "iopub.status.idle": "2024-08-28T07:31:46.075788Z",
     "shell.execute_reply": "2024-08-28T07:31:46.074880Z"
    },
    "papermill": {
     "duration": 0.029517,
     "end_time": "2024-08-28T07:31:46.077974",
     "exception": false,
     "start_time": "2024-08-28T07:31:46.048457",
     "status": "completed"
    },
    "tags": []
   },
   "outputs": [
    {
     "data": {
      "text/plain": [
       "parental level of education\n",
       "some high school      36\n",
       "high school           33\n",
       "associate's degree    27\n",
       "some college          22\n",
       "bachelor's degree     11\n",
       "master's degree        6\n",
       "Name: math score, dtype: int64"
      ]
     },
     "execution_count": 46,
     "metadata": {},
     "output_type": "execute_result"
    }
   ],
   "source": [
    "bad_score.groupby('parental level of education')['math score'].count().sort_values(ascending=False)"
   ]
  },
  {
   "cell_type": "markdown",
   "id": "3754a277",
   "metadata": {
    "papermill": {
     "duration": 0.016445,
     "end_time": "2024-08-28T07:31:46.111139",
     "exception": false,
     "start_time": "2024-08-28T07:31:46.094694",
     "status": "completed"
    },
    "tags": []
   },
   "source": [
    "## Conclution\n",
    "\n",
    "Performance Trends: Students generally perform better in reading compared to math and writing. There are noticeable differences in performance across subjects, with reading scores often being higher.\n",
    "\n",
    "Impact of Parental Education: Higher levels of parental education are positively correlated with better student performance. This suggests that educational support from parents plays a significant role in student success.\n",
    "\n",
    "Socioeconomic Factors: Students who receive free or reduced lunch tend to have lower scores compared to their peers with standard lunch options. This highlights the impact of socioeconomic status on academic performance.\n",
    "\n",
    "Effectiveness of Test Preparation: Completion of a test preparation course is associated with improved exam scores. This indicates that such programs are beneficial for enhancing student performance.\n",
    "\n",
    "Predictive Modeling: Predictive models can effectively forecast student performance based on demographic and educational factors. Key predictors include parental education level and test preparation course completion."
   ]
  },
  {
   "cell_type": "code",
   "execution_count": null,
   "id": "9b7d3358",
   "metadata": {
    "papermill": {
     "duration": 0.016689,
     "end_time": "2024-08-28T07:31:46.144372",
     "exception": false,
     "start_time": "2024-08-28T07:31:46.127683",
     "status": "completed"
    },
    "tags": []
   },
   "outputs": [],
   "source": []
  }
 ],
 "metadata": {
  "kaggle": {
   "accelerator": "none",
   "dataSources": [
    {
     "datasetId": 74977,
     "sourceId": 169835,
     "sourceType": "datasetVersion"
    }
   ],
   "dockerImageVersionId": 30761,
   "isGpuEnabled": false,
   "isInternetEnabled": true,
   "language": "python",
   "sourceType": "notebook"
  },
  "kernelspec": {
   "display_name": "Python 3",
   "language": "python",
   "name": "python3"
  },
  "language_info": {
   "codemirror_mode": {
    "name": "ipython",
    "version": 3
   },
   "file_extension": ".py",
   "mimetype": "text/x-python",
   "name": "python",
   "nbconvert_exporter": "python",
   "pygments_lexer": "ipython3",
   "version": "3.10.14"
  },
  "papermill": {
   "default_parameters": {},
   "duration": 5.558306,
   "end_time": "2024-08-28T07:31:46.580514",
   "environment_variables": {},
   "exception": null,
   "input_path": "__notebook__.ipynb",
   "output_path": "__notebook__.ipynb",
   "parameters": {},
   "start_time": "2024-08-28T07:31:41.022208",
   "version": "2.6.0"
  }
 },
 "nbformat": 4,
 "nbformat_minor": 5
}
