{
 "cells": [
  {
   "cell_type": "markdown",
   "id": "f2591b44",
   "metadata": {
    "papermill": {
     "duration": 0.021155,
     "end_time": "2024-08-25T15:18:36.462094",
     "exception": false,
     "start_time": "2024-08-25T15:18:36.440939",
     "status": "completed"
    },
    "tags": []
   },
   "source": [
    "## import libraries"
   ]
  },
  {
   "cell_type": "code",
   "execution_count": 1,
   "id": "c052a9a7",
   "metadata": {
    "execution": {
     "iopub.execute_input": "2024-08-25T15:18:36.494412Z",
     "iopub.status.busy": "2024-08-25T15:18:36.493724Z",
     "iopub.status.idle": "2024-08-25T15:18:39.129531Z",
     "shell.execute_reply": "2024-08-25T15:18:39.128102Z"
    },
    "papermill": {
     "duration": 2.655755,
     "end_time": "2024-08-25T15:18:39.133289",
     "exception": false,
     "start_time": "2024-08-25T15:18:36.477534",
     "status": "completed"
    },
    "tags": []
   },
   "outputs": [],
   "source": [
    "import numpy as np\n",
    "import pandas as pd \n",
    "import seaborn as sns\n",
    "import matplotlib.pyplot as plt \n",
    "%matplotlib inline"
   ]
  },
  {
   "cell_type": "markdown",
   "id": "7a898f8a",
   "metadata": {
    "papermill": {
     "duration": 0.015046,
     "end_time": "2024-08-25T15:18:39.163104",
     "exception": false,
     "start_time": "2024-08-25T15:18:39.148058",
     "status": "completed"
    },
    "tags": []
   },
   "source": [
    "## load data and get info"
   ]
  },
  {
   "cell_type": "code",
   "execution_count": 2,
   "id": "764d9804",
   "metadata": {
    "execution": {
     "iopub.execute_input": "2024-08-25T15:18:39.193331Z",
     "iopub.status.busy": "2024-08-25T15:18:39.192695Z",
     "iopub.status.idle": "2024-08-25T15:18:39.740496Z",
     "shell.execute_reply": "2024-08-25T15:18:39.738899Z"
    },
    "papermill": {
     "duration": 0.566893,
     "end_time": "2024-08-25T15:18:39.743947",
     "exception": false,
     "start_time": "2024-08-25T15:18:39.177054",
     "status": "completed"
    },
    "tags": []
   },
   "outputs": [],
   "source": [
    "df = pd.read_csv('/kaggle/input/customer-shopping-dataset/customer_shopping_data.csv')"
   ]
  },
  {
   "cell_type": "code",
   "execution_count": 3,
   "id": "6861c6b1",
   "metadata": {
    "execution": {
     "iopub.execute_input": "2024-08-25T15:18:39.776081Z",
     "iopub.status.busy": "2024-08-25T15:18:39.775585Z",
     "iopub.status.idle": "2024-08-25T15:18:39.809193Z",
     "shell.execute_reply": "2024-08-25T15:18:39.807479Z"
    },
    "papermill": {
     "duration": 0.054241,
     "end_time": "2024-08-25T15:18:39.812737",
     "exception": false,
     "start_time": "2024-08-25T15:18:39.758496",
     "status": "completed"
    },
    "tags": []
   },
   "outputs": [
    {
     "data": {
      "text/html": [
       "<div>\n",
       "<style scoped>\n",
       "    .dataframe tbody tr th:only-of-type {\n",
       "        vertical-align: middle;\n",
       "    }\n",
       "\n",
       "    .dataframe tbody tr th {\n",
       "        vertical-align: top;\n",
       "    }\n",
       "\n",
       "    .dataframe thead th {\n",
       "        text-align: right;\n",
       "    }\n",
       "</style>\n",
       "<table border=\"1\" class=\"dataframe\">\n",
       "  <thead>\n",
       "    <tr style=\"text-align: right;\">\n",
       "      <th></th>\n",
       "      <th>invoice_no</th>\n",
       "      <th>customer_id</th>\n",
       "      <th>gender</th>\n",
       "      <th>age</th>\n",
       "      <th>category</th>\n",
       "      <th>quantity</th>\n",
       "      <th>price</th>\n",
       "      <th>payment_method</th>\n",
       "      <th>invoice_date</th>\n",
       "      <th>shopping_mall</th>\n",
       "    </tr>\n",
       "  </thead>\n",
       "  <tbody>\n",
       "    <tr>\n",
       "      <th>0</th>\n",
       "      <td>I138884</td>\n",
       "      <td>C241288</td>\n",
       "      <td>Female</td>\n",
       "      <td>28</td>\n",
       "      <td>Clothing</td>\n",
       "      <td>5</td>\n",
       "      <td>1500.40</td>\n",
       "      <td>Credit Card</td>\n",
       "      <td>5/8/2022</td>\n",
       "      <td>Kanyon</td>\n",
       "    </tr>\n",
       "    <tr>\n",
       "      <th>1</th>\n",
       "      <td>I317333</td>\n",
       "      <td>C111565</td>\n",
       "      <td>Male</td>\n",
       "      <td>21</td>\n",
       "      <td>Shoes</td>\n",
       "      <td>3</td>\n",
       "      <td>1800.51</td>\n",
       "      <td>Debit Card</td>\n",
       "      <td>12/12/2021</td>\n",
       "      <td>Forum Istanbul</td>\n",
       "    </tr>\n",
       "    <tr>\n",
       "      <th>2</th>\n",
       "      <td>I127801</td>\n",
       "      <td>C266599</td>\n",
       "      <td>Male</td>\n",
       "      <td>20</td>\n",
       "      <td>Clothing</td>\n",
       "      <td>1</td>\n",
       "      <td>300.08</td>\n",
       "      <td>Cash</td>\n",
       "      <td>9/11/2021</td>\n",
       "      <td>Metrocity</td>\n",
       "    </tr>\n",
       "    <tr>\n",
       "      <th>3</th>\n",
       "      <td>I173702</td>\n",
       "      <td>C988172</td>\n",
       "      <td>Female</td>\n",
       "      <td>66</td>\n",
       "      <td>Shoes</td>\n",
       "      <td>5</td>\n",
       "      <td>3000.85</td>\n",
       "      <td>Credit Card</td>\n",
       "      <td>16/05/2021</td>\n",
       "      <td>Metropol AVM</td>\n",
       "    </tr>\n",
       "    <tr>\n",
       "      <th>4</th>\n",
       "      <td>I337046</td>\n",
       "      <td>C189076</td>\n",
       "      <td>Female</td>\n",
       "      <td>53</td>\n",
       "      <td>Books</td>\n",
       "      <td>4</td>\n",
       "      <td>60.60</td>\n",
       "      <td>Cash</td>\n",
       "      <td>24/10/2021</td>\n",
       "      <td>Kanyon</td>\n",
       "    </tr>\n",
       "  </tbody>\n",
       "</table>\n",
       "</div>"
      ],
      "text/plain": [
       "  invoice_no customer_id  gender  age  category  quantity    price  \\\n",
       "0    I138884     C241288  Female   28  Clothing         5  1500.40   \n",
       "1    I317333     C111565    Male   21     Shoes         3  1800.51   \n",
       "2    I127801     C266599    Male   20  Clothing         1   300.08   \n",
       "3    I173702     C988172  Female   66     Shoes         5  3000.85   \n",
       "4    I337046     C189076  Female   53     Books         4    60.60   \n",
       "\n",
       "  payment_method invoice_date   shopping_mall  \n",
       "0    Credit Card     5/8/2022          Kanyon  \n",
       "1     Debit Card   12/12/2021  Forum Istanbul  \n",
       "2           Cash    9/11/2021       Metrocity  \n",
       "3    Credit Card   16/05/2021    Metropol AVM  \n",
       "4           Cash   24/10/2021          Kanyon  "
      ]
     },
     "execution_count": 3,
     "metadata": {},
     "output_type": "execute_result"
    }
   ],
   "source": [
    "df.head()"
   ]
  },
  {
   "cell_type": "code",
   "execution_count": 4,
   "id": "b777ccdf",
   "metadata": {
    "execution": {
     "iopub.execute_input": "2024-08-25T15:18:39.843040Z",
     "iopub.status.busy": "2024-08-25T15:18:39.842494Z",
     "iopub.status.idle": "2024-08-25T15:18:39.851989Z",
     "shell.execute_reply": "2024-08-25T15:18:39.850453Z"
    },
    "papermill": {
     "duration": 0.028197,
     "end_time": "2024-08-25T15:18:39.855255",
     "exception": false,
     "start_time": "2024-08-25T15:18:39.827058",
     "status": "completed"
    },
    "tags": []
   },
   "outputs": [
    {
     "data": {
      "text/plain": [
       "(99457, 10)"
      ]
     },
     "execution_count": 4,
     "metadata": {},
     "output_type": "execute_result"
    }
   ],
   "source": [
    "df.shape"
   ]
  },
  {
   "cell_type": "code",
   "execution_count": 5,
   "id": "7a5a04dd",
   "metadata": {
    "execution": {
     "iopub.execute_input": "2024-08-25T15:18:39.885129Z",
     "iopub.status.busy": "2024-08-25T15:18:39.884701Z",
     "iopub.status.idle": "2024-08-25T15:18:39.987006Z",
     "shell.execute_reply": "2024-08-25T15:18:39.985360Z"
    },
    "papermill": {
     "duration": 0.121744,
     "end_time": "2024-08-25T15:18:39.990800",
     "exception": false,
     "start_time": "2024-08-25T15:18:39.869056",
     "status": "completed"
    },
    "tags": []
   },
   "outputs": [
    {
     "name": "stdout",
     "output_type": "stream",
     "text": [
      "<class 'pandas.core.frame.DataFrame'>\n",
      "RangeIndex: 99457 entries, 0 to 99456\n",
      "Data columns (total 10 columns):\n",
      " #   Column          Non-Null Count  Dtype  \n",
      "---  ------          --------------  -----  \n",
      " 0   invoice_no      99457 non-null  object \n",
      " 1   customer_id     99457 non-null  object \n",
      " 2   gender          99457 non-null  object \n",
      " 3   age             99457 non-null  int64  \n",
      " 4   category        99457 non-null  object \n",
      " 5   quantity        99457 non-null  int64  \n",
      " 6   price           99457 non-null  float64\n",
      " 7   payment_method  99457 non-null  object \n",
      " 8   invoice_date    99457 non-null  object \n",
      " 9   shopping_mall   99457 non-null  object \n",
      "dtypes: float64(1), int64(2), object(7)\n",
      "memory usage: 7.6+ MB\n"
     ]
    }
   ],
   "source": [
    "df.info()"
   ]
  },
  {
   "cell_type": "code",
   "execution_count": 6,
   "id": "706b8c7d",
   "metadata": {
    "execution": {
     "iopub.execute_input": "2024-08-25T15:18:40.026310Z",
     "iopub.status.busy": "2024-08-25T15:18:40.025266Z",
     "iopub.status.idle": "2024-08-25T15:18:40.110646Z",
     "shell.execute_reply": "2024-08-25T15:18:40.109162Z"
    },
    "papermill": {
     "duration": 0.105575,
     "end_time": "2024-08-25T15:18:40.113296",
     "exception": false,
     "start_time": "2024-08-25T15:18:40.007721",
     "status": "completed"
    },
    "tags": []
   },
   "outputs": [
    {
     "data": {
      "text/plain": [
       "invoice_no        0\n",
       "customer_id       0\n",
       "gender            0\n",
       "age               0\n",
       "category          0\n",
       "quantity          0\n",
       "price             0\n",
       "payment_method    0\n",
       "invoice_date      0\n",
       "shopping_mall     0\n",
       "dtype: int64"
      ]
     },
     "execution_count": 6,
     "metadata": {},
     "output_type": "execute_result"
    }
   ],
   "source": [
    "df.isna().sum()"
   ]
  },
  {
   "cell_type": "code",
   "execution_count": 7,
   "id": "fe0fb9ad",
   "metadata": {
    "execution": {
     "iopub.execute_input": "2024-08-25T15:18:40.143533Z",
     "iopub.status.busy": "2024-08-25T15:18:40.142991Z",
     "iopub.status.idle": "2024-08-25T15:18:40.279445Z",
     "shell.execute_reply": "2024-08-25T15:18:40.278011Z"
    },
    "papermill": {
     "duration": 0.155361,
     "end_time": "2024-08-25T15:18:40.282668",
     "exception": false,
     "start_time": "2024-08-25T15:18:40.127307",
     "status": "completed"
    },
    "tags": []
   },
   "outputs": [
    {
     "data": {
      "text/plain": [
       "0"
      ]
     },
     "execution_count": 7,
     "metadata": {},
     "output_type": "execute_result"
    }
   ],
   "source": [
    "df.duplicated().sum()"
   ]
  },
  {
   "cell_type": "code",
   "execution_count": 8,
   "id": "8223029e",
   "metadata": {
    "execution": {
     "iopub.execute_input": "2024-08-25T15:18:40.316041Z",
     "iopub.status.busy": "2024-08-25T15:18:40.314648Z",
     "iopub.status.idle": "2024-08-25T15:18:40.359517Z",
     "shell.execute_reply": "2024-08-25T15:18:40.357949Z"
    },
    "papermill": {
     "duration": 0.065095,
     "end_time": "2024-08-25T15:18:40.362390",
     "exception": false,
     "start_time": "2024-08-25T15:18:40.297295",
     "status": "completed"
    },
    "tags": []
   },
   "outputs": [
    {
     "data": {
      "text/html": [
       "<div>\n",
       "<style scoped>\n",
       "    .dataframe tbody tr th:only-of-type {\n",
       "        vertical-align: middle;\n",
       "    }\n",
       "\n",
       "    .dataframe tbody tr th {\n",
       "        vertical-align: top;\n",
       "    }\n",
       "\n",
       "    .dataframe thead th {\n",
       "        text-align: right;\n",
       "    }\n",
       "</style>\n",
       "<table border=\"1\" class=\"dataframe\">\n",
       "  <thead>\n",
       "    <tr style=\"text-align: right;\">\n",
       "      <th></th>\n",
       "      <th>age</th>\n",
       "      <th>quantity</th>\n",
       "      <th>price</th>\n",
       "    </tr>\n",
       "  </thead>\n",
       "  <tbody>\n",
       "    <tr>\n",
       "      <th>count</th>\n",
       "      <td>99457.000000</td>\n",
       "      <td>99457.000000</td>\n",
       "      <td>99457.000000</td>\n",
       "    </tr>\n",
       "    <tr>\n",
       "      <th>mean</th>\n",
       "      <td>43.427089</td>\n",
       "      <td>3.003429</td>\n",
       "      <td>689.256321</td>\n",
       "    </tr>\n",
       "    <tr>\n",
       "      <th>std</th>\n",
       "      <td>14.990054</td>\n",
       "      <td>1.413025</td>\n",
       "      <td>941.184567</td>\n",
       "    </tr>\n",
       "    <tr>\n",
       "      <th>min</th>\n",
       "      <td>18.000000</td>\n",
       "      <td>1.000000</td>\n",
       "      <td>5.230000</td>\n",
       "    </tr>\n",
       "    <tr>\n",
       "      <th>25%</th>\n",
       "      <td>30.000000</td>\n",
       "      <td>2.000000</td>\n",
       "      <td>45.450000</td>\n",
       "    </tr>\n",
       "    <tr>\n",
       "      <th>50%</th>\n",
       "      <td>43.000000</td>\n",
       "      <td>3.000000</td>\n",
       "      <td>203.300000</td>\n",
       "    </tr>\n",
       "    <tr>\n",
       "      <th>75%</th>\n",
       "      <td>56.000000</td>\n",
       "      <td>4.000000</td>\n",
       "      <td>1200.320000</td>\n",
       "    </tr>\n",
       "    <tr>\n",
       "      <th>max</th>\n",
       "      <td>69.000000</td>\n",
       "      <td>5.000000</td>\n",
       "      <td>5250.000000</td>\n",
       "    </tr>\n",
       "  </tbody>\n",
       "</table>\n",
       "</div>"
      ],
      "text/plain": [
       "                age      quantity         price\n",
       "count  99457.000000  99457.000000  99457.000000\n",
       "mean      43.427089      3.003429    689.256321\n",
       "std       14.990054      1.413025    941.184567\n",
       "min       18.000000      1.000000      5.230000\n",
       "25%       30.000000      2.000000     45.450000\n",
       "50%       43.000000      3.000000    203.300000\n",
       "75%       56.000000      4.000000   1200.320000\n",
       "max       69.000000      5.000000   5250.000000"
      ]
     },
     "execution_count": 8,
     "metadata": {},
     "output_type": "execute_result"
    }
   ],
   "source": [
    "df.describe()"
   ]
  },
  {
   "cell_type": "markdown",
   "id": "98612f59",
   "metadata": {
    "papermill": {
     "duration": 0.014251,
     "end_time": "2024-08-25T15:18:40.391288",
     "exception": false,
     "start_time": "2024-08-25T15:18:40.377037",
     "status": "completed"
    },
    "tags": []
   },
   "source": [
    "## Data Analysis and Visualization"
   ]
  },
  {
   "cell_type": "code",
   "execution_count": 9,
   "id": "b47f9a9f",
   "metadata": {
    "execution": {
     "iopub.execute_input": "2024-08-25T15:18:40.422528Z",
     "iopub.status.busy": "2024-08-25T15:18:40.421966Z",
     "iopub.status.idle": "2024-08-25T15:18:40.443038Z",
     "shell.execute_reply": "2024-08-25T15:18:40.441200Z"
    },
    "papermill": {
     "duration": 0.040317,
     "end_time": "2024-08-25T15:18:40.445988",
     "exception": false,
     "start_time": "2024-08-25T15:18:40.405671",
     "status": "completed"
    },
    "tags": []
   },
   "outputs": [
    {
     "data": {
      "text/html": [
       "<div>\n",
       "<style scoped>\n",
       "    .dataframe tbody tr th:only-of-type {\n",
       "        vertical-align: middle;\n",
       "    }\n",
       "\n",
       "    .dataframe tbody tr th {\n",
       "        vertical-align: top;\n",
       "    }\n",
       "\n",
       "    .dataframe thead th {\n",
       "        text-align: right;\n",
       "    }\n",
       "</style>\n",
       "<table border=\"1\" class=\"dataframe\">\n",
       "  <thead>\n",
       "    <tr style=\"text-align: right;\">\n",
       "      <th></th>\n",
       "      <th>invoice_no</th>\n",
       "      <th>customer_id</th>\n",
       "      <th>gender</th>\n",
       "      <th>age</th>\n",
       "      <th>category</th>\n",
       "      <th>quantity</th>\n",
       "      <th>price</th>\n",
       "      <th>payment_method</th>\n",
       "      <th>invoice_date</th>\n",
       "      <th>shopping_mall</th>\n",
       "    </tr>\n",
       "  </thead>\n",
       "  <tbody>\n",
       "    <tr>\n",
       "      <th>0</th>\n",
       "      <td>I138884</td>\n",
       "      <td>C241288</td>\n",
       "      <td>Female</td>\n",
       "      <td>28</td>\n",
       "      <td>Clothing</td>\n",
       "      <td>5</td>\n",
       "      <td>1500.40</td>\n",
       "      <td>Credit Card</td>\n",
       "      <td>5/8/2022</td>\n",
       "      <td>Kanyon</td>\n",
       "    </tr>\n",
       "    <tr>\n",
       "      <th>1</th>\n",
       "      <td>I317333</td>\n",
       "      <td>C111565</td>\n",
       "      <td>Male</td>\n",
       "      <td>21</td>\n",
       "      <td>Shoes</td>\n",
       "      <td>3</td>\n",
       "      <td>1800.51</td>\n",
       "      <td>Debit Card</td>\n",
       "      <td>12/12/2021</td>\n",
       "      <td>Forum Istanbul</td>\n",
       "    </tr>\n",
       "    <tr>\n",
       "      <th>2</th>\n",
       "      <td>I127801</td>\n",
       "      <td>C266599</td>\n",
       "      <td>Male</td>\n",
       "      <td>20</td>\n",
       "      <td>Clothing</td>\n",
       "      <td>1</td>\n",
       "      <td>300.08</td>\n",
       "      <td>Cash</td>\n",
       "      <td>9/11/2021</td>\n",
       "      <td>Metrocity</td>\n",
       "    </tr>\n",
       "    <tr>\n",
       "      <th>3</th>\n",
       "      <td>I173702</td>\n",
       "      <td>C988172</td>\n",
       "      <td>Female</td>\n",
       "      <td>66</td>\n",
       "      <td>Shoes</td>\n",
       "      <td>5</td>\n",
       "      <td>3000.85</td>\n",
       "      <td>Credit Card</td>\n",
       "      <td>16/05/2021</td>\n",
       "      <td>Metropol AVM</td>\n",
       "    </tr>\n",
       "    <tr>\n",
       "      <th>4</th>\n",
       "      <td>I337046</td>\n",
       "      <td>C189076</td>\n",
       "      <td>Female</td>\n",
       "      <td>53</td>\n",
       "      <td>Books</td>\n",
       "      <td>4</td>\n",
       "      <td>60.60</td>\n",
       "      <td>Cash</td>\n",
       "      <td>24/10/2021</td>\n",
       "      <td>Kanyon</td>\n",
       "    </tr>\n",
       "  </tbody>\n",
       "</table>\n",
       "</div>"
      ],
      "text/plain": [
       "  invoice_no customer_id  gender  age  category  quantity    price  \\\n",
       "0    I138884     C241288  Female   28  Clothing         5  1500.40   \n",
       "1    I317333     C111565    Male   21     Shoes         3  1800.51   \n",
       "2    I127801     C266599    Male   20  Clothing         1   300.08   \n",
       "3    I173702     C988172  Female   66     Shoes         5  3000.85   \n",
       "4    I337046     C189076  Female   53     Books         4    60.60   \n",
       "\n",
       "  payment_method invoice_date   shopping_mall  \n",
       "0    Credit Card     5/8/2022          Kanyon  \n",
       "1     Debit Card   12/12/2021  Forum Istanbul  \n",
       "2           Cash    9/11/2021       Metrocity  \n",
       "3    Credit Card   16/05/2021    Metropol AVM  \n",
       "4           Cash   24/10/2021          Kanyon  "
      ]
     },
     "execution_count": 9,
     "metadata": {},
     "output_type": "execute_result"
    }
   ],
   "source": [
    "df.head()"
   ]
  },
  {
   "cell_type": "code",
   "execution_count": 10,
   "id": "92d24632",
   "metadata": {
    "execution": {
     "iopub.execute_input": "2024-08-25T15:18:40.479024Z",
     "iopub.status.busy": "2024-08-25T15:18:40.477855Z",
     "iopub.status.idle": "2024-08-25T15:18:40.505199Z",
     "shell.execute_reply": "2024-08-25T15:18:40.503670Z"
    },
    "papermill": {
     "duration": 0.046613,
     "end_time": "2024-08-25T15:18:40.507986",
     "exception": false,
     "start_time": "2024-08-25T15:18:40.461373",
     "status": "completed"
    },
    "tags": []
   },
   "outputs": [
    {
     "data": {
      "text/plain": [
       "gender\n",
       "Female    59482\n",
       "Male      39975\n",
       "Name: count, dtype: int64"
      ]
     },
     "execution_count": 10,
     "metadata": {},
     "output_type": "execute_result"
    }
   ],
   "source": [
    "df['gender'].value_counts()"
   ]
  },
  {
   "cell_type": "code",
   "execution_count": 11,
   "id": "9f7af17e",
   "metadata": {
    "execution": {
     "iopub.execute_input": "2024-08-25T15:18:40.540743Z",
     "iopub.status.busy": "2024-08-25T15:18:40.539411Z",
     "iopub.status.idle": "2024-08-25T15:18:40.860251Z",
     "shell.execute_reply": "2024-08-25T15:18:40.858767Z"
    },
    "papermill": {
     "duration": 0.340481,
     "end_time": "2024-08-25T15:18:40.863405",
     "exception": false,
     "start_time": "2024-08-25T15:18:40.522924",
     "status": "completed"
    },
    "tags": []
   },
   "outputs": [
    {
     "data": {
      "text/plain": [
       "(array([59482.,     0.,     0.,     0.,     0.,     0.,     0.,     0.,\n",
       "            0., 39975.]),\n",
       " array([0. , 0.1, 0.2, 0.3, 0.4, 0.5, 0.6, 0.7, 0.8, 0.9, 1. ]),\n",
       " <BarContainer object of 10 artists>)"
      ]
     },
     "execution_count": 11,
     "metadata": {},
     "output_type": "execute_result"
    },
    {
     "data": {
      "image/png": "[encoded data removed]",
      "text/plain": [
       "<Figure size 640x480 with 1 Axes>"
      ]
     },
     "metadata": {},
     "output_type": "display_data"
    }
   ],
   "source": [
    "plt.hist(df.gender)"
   ]
  },
  {
   "cell_type": "code",
   "execution_count": 12,
   "id": "f61cd354",
   "metadata": {
    "execution": {
     "iopub.execute_input": "2024-08-25T15:18:40.896953Z",
     "iopub.status.busy": "2024-08-25T15:18:40.895495Z",
     "iopub.status.idle": "2024-08-25T15:18:40.923028Z",
     "shell.execute_reply": "2024-08-25T15:18:40.921609Z"
    },
    "papermill": {
     "duration": 0.048238,
     "end_time": "2024-08-25T15:18:40.926842",
     "exception": false,
     "start_time": "2024-08-25T15:18:40.878604",
     "status": "completed"
    },
    "tags": []
   },
   "outputs": [
    {
     "data": {
      "text/plain": [
       "category\n",
       "Clothing           34487\n",
       "Cosmetics          15097\n",
       "Food & Beverage    14776\n",
       "Toys               10087\n",
       "Shoes              10034\n",
       "Souvenir            4999\n",
       "Technology          4996\n",
       "Books               4981\n",
       "Name: count, dtype: int64"
      ]
     },
     "execution_count": 12,
     "metadata": {},
     "output_type": "execute_result"
    }
   ],
   "source": [
    "df['category'].value_counts()"
   ]
  },
  {
   "cell_type": "code",
   "execution_count": 13,
   "id": "6ea83621",
   "metadata": {
    "execution": {
     "iopub.execute_input": "2024-08-25T15:18:40.964373Z",
     "iopub.status.busy": "2024-08-25T15:18:40.963049Z",
     "iopub.status.idle": "2024-08-25T15:18:41.320474Z",
     "shell.execute_reply": "2024-08-25T15:18:41.318888Z"
    },
    "papermill": {
     "duration": 0.379448,
     "end_time": "2024-08-25T15:18:41.323488",
     "exception": false,
     "start_time": "2024-08-25T15:18:40.944040",
     "status": "completed"
    },
    "tags": []
   },
   "outputs": [
    {
     "data": {
      "text/plain": [
       "<Axes: xlabel='category'>"
      ]
     },
     "execution_count": 13,
     "metadata": {},
     "output_type": "execute_result"
    },
    {
     "data": {
      "image/png": "[encoded data removed]",
      "text/plain": [
       "<Figure size 640x480 with 1 Axes>"
      ]
     },
     "metadata": {},
     "output_type": "display_data"
    }
   ],
   "source": [
    "df['category'].value_counts().plot(kind='bar')"
   ]
  },
  {
   "cell_type": "code",
   "execution_count": 14,
   "id": "c6ff2fd5",
   "metadata": {
    "execution": {
     "iopub.execute_input": "2024-08-25T15:18:41.360956Z",
     "iopub.status.busy": "2024-08-25T15:18:41.360383Z",
     "iopub.status.idle": "2024-08-25T15:18:41.388352Z",
     "shell.execute_reply": "2024-08-25T15:18:41.386910Z"
    },
    "papermill": {
     "duration": 0.051485,
     "end_time": "2024-08-25T15:18:41.391171",
     "exception": false,
     "start_time": "2024-08-25T15:18:41.339686",
     "status": "completed"
    },
    "tags": []
   },
   "outputs": [
    {
     "data": {
      "text/plain": [
       "payment_method\n",
       "Cash           44447\n",
       "Credit Card    34931\n",
       "Debit Card     20079\n",
       "Name: count, dtype: int64"
      ]
     },
     "execution_count": 14,
     "metadata": {},
     "output_type": "execute_result"
    }
   ],
   "source": [
    "df['payment_method'].value_counts()"
   ]
  },
  {
   "cell_type": "code",
   "execution_count": 15,
   "id": "28102081",
   "metadata": {
    "execution": {
     "iopub.execute_input": "2024-08-25T15:18:41.427410Z",
     "iopub.status.busy": "2024-08-25T15:18:41.425493Z",
     "iopub.status.idle": "2024-08-25T15:18:41.700269Z",
     "shell.execute_reply": "2024-08-25T15:18:41.698587Z"
    },
    "papermill": {
     "duration": 0.29603,
     "end_time": "2024-08-25T15:18:41.703393",
     "exception": false,
     "start_time": "2024-08-25T15:18:41.407363",
     "status": "completed"
    },
    "tags": []
   },
   "outputs": [
    {
     "data": {
      "text/plain": [
       "<Axes: xlabel='payment_method'>"
      ]
     },
     "execution_count": 15,
     "metadata": {},
     "output_type": "execute_result"
    },
    {
     "data": {
      "image/png": "[encoded data removed]",
      "text/plain": [
       "<Figure size 640x480 with 1 Axes>"
      ]
     },
     "metadata": {},
     "output_type": "display_data"
    }
   ],
   "source": [
    "df['payment_method'].value_counts().plot(kind='bar')"
   ]
  },
  {
   "cell_type": "code",
   "execution_count": 16,
   "id": "c739ec45",
   "metadata": {
    "execution": {
     "iopub.execute_input": "2024-08-25T15:18:41.751431Z",
     "iopub.status.busy": "2024-08-25T15:18:41.748954Z",
     "iopub.status.idle": "2024-08-25T15:18:41.897640Z",
     "shell.execute_reply": "2024-08-25T15:18:41.896227Z"
    },
    "papermill": {
     "duration": 0.177014,
     "end_time": "2024-08-25T15:18:41.900897",
     "exception": false,
     "start_time": "2024-08-25T15:18:41.723883",
     "status": "completed"
    },
    "tags": []
   },
   "outputs": [],
   "source": [
    "df['invoice_date']=df['invoice_date'].astype('datetime64[ns]')"
   ]
  },
  {
   "cell_type": "code",
   "execution_count": 17,
   "id": "556ab897",
   "metadata": {
    "execution": {
     "iopub.execute_input": "2024-08-25T15:18:41.937684Z",
     "iopub.status.busy": "2024-08-25T15:18:41.937186Z",
     "iopub.status.idle": "2024-08-25T15:18:42.032885Z",
     "shell.execute_reply": "2024-08-25T15:18:42.030241Z"
    },
    "papermill": {
     "duration": 0.118838,
     "end_time": "2024-08-25T15:18:42.037313",
     "exception": false,
     "start_time": "2024-08-25T15:18:41.918475",
     "status": "completed"
    },
    "tags": []
   },
   "outputs": [
    {
     "name": "stdout",
     "output_type": "stream",
     "text": [
      "<class 'pandas.core.frame.DataFrame'>\n",
      "RangeIndex: 99457 entries, 0 to 99456\n",
      "Data columns (total 10 columns):\n",
      " #   Column          Non-Null Count  Dtype         \n",
      "---  ------          --------------  -----         \n",
      " 0   invoice_no      99457 non-null  object        \n",
      " 1   customer_id     99457 non-null  object        \n",
      " 2   gender          99457 non-null  object        \n",
      " 3   age             99457 non-null  int64         \n",
      " 4   category        99457 non-null  object        \n",
      " 5   quantity        99457 non-null  int64         \n",
      " 6   price           99457 non-null  float64       \n",
      " 7   payment_method  99457 non-null  object        \n",
      " 8   invoice_date    99457 non-null  datetime64[ns]\n",
      " 9   shopping_mall   99457 non-null  object        \n",
      "dtypes: datetime64[ns](1), float64(1), int64(2), object(6)\n",
      "memory usage: 7.6+ MB\n"
     ]
    }
   ],
   "source": [
    "df.info()"
   ]
  },
  {
   "cell_type": "code",
   "execution_count": 18,
   "id": "ffaee312",
   "metadata": {
    "execution": {
     "iopub.execute_input": "2024-08-25T15:18:42.077418Z",
     "iopub.status.busy": "2024-08-25T15:18:42.076757Z",
     "iopub.status.idle": "2024-08-25T15:18:42.098056Z",
     "shell.execute_reply": "2024-08-25T15:18:42.096686Z"
    },
    "papermill": {
     "duration": 0.043342,
     "end_time": "2024-08-25T15:18:42.100865",
     "exception": false,
     "start_time": "2024-08-25T15:18:42.057523",
     "status": "completed"
    },
    "tags": []
   },
   "outputs": [
    {
     "data": {
      "text/html": [
       "<div>\n",
       "<style scoped>\n",
       "    .dataframe tbody tr th:only-of-type {\n",
       "        vertical-align: middle;\n",
       "    }\n",
       "\n",
       "    .dataframe tbody tr th {\n",
       "        vertical-align: top;\n",
       "    }\n",
       "\n",
       "    .dataframe thead th {\n",
       "        text-align: right;\n",
       "    }\n",
       "</style>\n",
       "<table border=\"1\" class=\"dataframe\">\n",
       "  <thead>\n",
       "    <tr style=\"text-align: right;\">\n",
       "      <th></th>\n",
       "      <th>invoice_no</th>\n",
       "      <th>customer_id</th>\n",
       "      <th>gender</th>\n",
       "      <th>age</th>\n",
       "      <th>category</th>\n",
       "      <th>quantity</th>\n",
       "      <th>price</th>\n",
       "      <th>payment_method</th>\n",
       "      <th>invoice_date</th>\n",
       "      <th>shopping_mall</th>\n",
       "    </tr>\n",
       "  </thead>\n",
       "  <tbody>\n",
       "    <tr>\n",
       "      <th>0</th>\n",
       "      <td>I138884</td>\n",
       "      <td>C241288</td>\n",
       "      <td>Female</td>\n",
       "      <td>28</td>\n",
       "      <td>Clothing</td>\n",
       "      <td>5</td>\n",
       "      <td>1500.40</td>\n",
       "      <td>Credit Card</td>\n",
       "      <td>2022-05-08</td>\n",
       "      <td>Kanyon</td>\n",
       "    </tr>\n",
       "    <tr>\n",
       "      <th>1</th>\n",
       "      <td>I317333</td>\n",
       "      <td>C111565</td>\n",
       "      <td>Male</td>\n",
       "      <td>21</td>\n",
       "      <td>Shoes</td>\n",
       "      <td>3</td>\n",
       "      <td>1800.51</td>\n",
       "      <td>Debit Card</td>\n",
       "      <td>2021-12-12</td>\n",
       "      <td>Forum Istanbul</td>\n",
       "    </tr>\n",
       "    <tr>\n",
       "      <th>2</th>\n",
       "      <td>I127801</td>\n",
       "      <td>C266599</td>\n",
       "      <td>Male</td>\n",
       "      <td>20</td>\n",
       "      <td>Clothing</td>\n",
       "      <td>1</td>\n",
       "      <td>300.08</td>\n",
       "      <td>Cash</td>\n",
       "      <td>2021-09-11</td>\n",
       "      <td>Metrocity</td>\n",
       "    </tr>\n",
       "    <tr>\n",
       "      <th>3</th>\n",
       "      <td>I173702</td>\n",
       "      <td>C988172</td>\n",
       "      <td>Female</td>\n",
       "      <td>66</td>\n",
       "      <td>Shoes</td>\n",
       "      <td>5</td>\n",
       "      <td>3000.85</td>\n",
       "      <td>Credit Card</td>\n",
       "      <td>2021-05-16</td>\n",
       "      <td>Metropol AVM</td>\n",
       "    </tr>\n",
       "    <tr>\n",
       "      <th>4</th>\n",
       "      <td>I337046</td>\n",
       "      <td>C189076</td>\n",
       "      <td>Female</td>\n",
       "      <td>53</td>\n",
       "      <td>Books</td>\n",
       "      <td>4</td>\n",
       "      <td>60.60</td>\n",
       "      <td>Cash</td>\n",
       "      <td>2021-10-24</td>\n",
       "      <td>Kanyon</td>\n",
       "    </tr>\n",
       "  </tbody>\n",
       "</table>\n",
       "</div>"
      ],
      "text/plain": [
       "  invoice_no customer_id  gender  age  category  quantity    price  \\\n",
       "0    I138884     C241288  Female   28  Clothing         5  1500.40   \n",
       "1    I317333     C111565    Male   21     Shoes         3  1800.51   \n",
       "2    I127801     C266599    Male   20  Clothing         1   300.08   \n",
       "3    I173702     C988172  Female   66     Shoes         5  3000.85   \n",
       "4    I337046     C189076  Female   53     Books         4    60.60   \n",
       "\n",
       "  payment_method invoice_date   shopping_mall  \n",
       "0    Credit Card   2022-05-08          Kanyon  \n",
       "1     Debit Card   2021-12-12  Forum Istanbul  \n",
       "2           Cash   2021-09-11       Metrocity  \n",
       "3    Credit Card   2021-05-16    Metropol AVM  \n",
       "4           Cash   2021-10-24          Kanyon  "
      ]
     },
     "execution_count": 18,
     "metadata": {},
     "output_type": "execute_result"
    }
   ],
   "source": [
    "df.head()"
   ]
  },
  {
   "cell_type": "code",
   "execution_count": 19,
   "id": "9e2a16e2",
   "metadata": {
    "execution": {
     "iopub.execute_input": "2024-08-25T15:18:42.138577Z",
     "iopub.status.busy": "2024-08-25T15:18:42.137420Z",
     "iopub.status.idle": "2024-08-25T15:18:42.166208Z",
     "shell.execute_reply": "2024-08-25T15:18:42.164124Z"
    },
    "papermill": {
     "duration": 0.051314,
     "end_time": "2024-08-25T15:18:42.169600",
     "exception": false,
     "start_time": "2024-08-25T15:18:42.118286",
     "status": "completed"
    },
    "tags": []
   },
   "outputs": [
    {
     "data": {
      "text/plain": [
       "shopping_mall\n",
       "Mall of Istanbul     19943\n",
       "Kanyon               19823\n",
       "Metrocity            15011\n",
       "Metropol AVM         10161\n",
       "Istinye Park          9781\n",
       "Zorlu Center          5075\n",
       "Cevahir AVM           4991\n",
       "Forum Istanbul        4947\n",
       "Viaport Outlet        4914\n",
       "Emaar Square Mall     4811\n",
       "Name: count, dtype: int64"
      ]
     },
     "execution_count": 19,
     "metadata": {},
     "output_type": "execute_result"
    }
   ],
   "source": [
    "df['shopping_mall'].value_counts()"
   ]
  },
  {
   "cell_type": "code",
   "execution_count": 20,
   "id": "a9dd5007",
   "metadata": {
    "execution": {
     "iopub.execute_input": "2024-08-25T15:18:42.208855Z",
     "iopub.status.busy": "2024-08-25T15:18:42.208301Z",
     "iopub.status.idle": "2024-08-25T15:18:42.496366Z",
     "shell.execute_reply": "2024-08-25T15:18:42.494460Z"
    },
    "papermill": {
     "duration": 0.312961,
     "end_time": "2024-08-25T15:18:42.501229",
     "exception": false,
     "start_time": "2024-08-25T15:18:42.188268",
     "status": "completed"
    },
    "tags": []
   },
   "outputs": [
    {
     "data": {
      "text/plain": [
       "<Axes: ylabel='count'>"
      ]
     },
     "execution_count": 20,
     "metadata": {},
     "output_type": "execute_result"
    },
    {
     "data": {
      "image/png": "[encoded data removed]",
      "text/plain": [
       "<Figure size 640x480 with 1 Axes>"
      ]
     },
     "metadata": {},
     "output_type": "display_data"
    }
   ],
   "source": [
    "df['shopping_mall'].value_counts().plot(kind='pie')"
   ]
  },
  {
   "cell_type": "code",
   "execution_count": 21,
   "id": "1c0f4b9d",
   "metadata": {
    "execution": {
     "iopub.execute_input": "2024-08-25T15:18:42.554101Z",
     "iopub.status.busy": "2024-08-25T15:18:42.553557Z",
     "iopub.status.idle": "2024-08-25T15:18:42.996024Z",
     "shell.execute_reply": "2024-08-25T15:18:42.994336Z"
    },
    "papermill": {
     "duration": 0.465969,
     "end_time": "2024-08-25T15:18:42.999217",
     "exception": false,
     "start_time": "2024-08-25T15:18:42.533248",
     "status": "completed"
    },
    "tags": []
   },
   "outputs": [
    {
     "data": {
      "text/plain": [
       "<Axes: xlabel='shopping_mall'>"
      ]
     },
     "execution_count": 21,
     "metadata": {},
     "output_type": "execute_result"
    },
    {
     "data": {
      "image/png": "[encoded data removed]",
      "text/plain": [
       "<Figure size 640x480 with 1 Axes>"
      ]
     },
     "metadata": {},
     "output_type": "display_data"
    }
   ],
   "source": [
    "df['shopping_mall'].value_counts().plot(kind='bar')"
   ]
  },
  {
   "cell_type": "code",
   "execution_count": 22,
   "id": "90ef0369",
   "metadata": {
    "execution": {
     "iopub.execute_input": "2024-08-25T15:18:43.045937Z",
     "iopub.status.busy": "2024-08-25T15:18:43.045406Z",
     "iopub.status.idle": "2024-08-25T15:18:43.090414Z",
     "shell.execute_reply": "2024-08-25T15:18:43.088804Z"
    },
    "papermill": {
     "duration": 0.069389,
     "end_time": "2024-08-25T15:18:43.093504",
     "exception": false,
     "start_time": "2024-08-25T15:18:43.024115",
     "status": "completed"
    },
    "tags": []
   },
   "outputs": [
    {
     "data": {
      "text/plain": [
       "gender  category       \n",
       "Female  Clothing           20652\n",
       "        Cosmetics           9070\n",
       "        Food & Beverage     8804\n",
       "        Toys                6085\n",
       "        Shoes               5967\n",
       "        Souvenir            3017\n",
       "        Technology          2981\n",
       "        Books               2906\n",
       "Male    Clothing           13835\n",
       "        Cosmetics           6027\n",
       "        Food & Beverage     5972\n",
       "        Shoes               4067\n",
       "        Toys                4002\n",
       "        Books               2075\n",
       "        Technology          2015\n",
       "        Souvenir            1982\n",
       "Name: count, dtype: int64"
      ]
     },
     "execution_count": 22,
     "metadata": {},
     "output_type": "execute_result"
    }
   ],
   "source": [
    "df.groupby('gender')['category'].value_counts()"
   ]
  },
  {
   "cell_type": "code",
   "execution_count": 23,
   "id": "4741eb60",
   "metadata": {
    "execution": {
     "iopub.execute_input": "2024-08-25T15:18:43.135612Z",
     "iopub.status.busy": "2024-08-25T15:18:43.135080Z",
     "iopub.status.idle": "2024-08-25T15:18:43.175358Z",
     "shell.execute_reply": "2024-08-25T15:18:43.173507Z"
    },
    "papermill": {
     "duration": 0.064711,
     "end_time": "2024-08-25T15:18:43.178523",
     "exception": false,
     "start_time": "2024-08-25T15:18:43.113812",
     "status": "completed"
    },
    "tags": []
   },
   "outputs": [
    {
     "data": {
      "text/plain": [
       "category         gender\n",
       "Books            Female     2906\n",
       "                 Male       2075\n",
       "Clothing         Female    20652\n",
       "                 Male      13835\n",
       "Cosmetics        Female     9070\n",
       "                 Male       6027\n",
       "Food & Beverage  Female     8804\n",
       "                 Male       5972\n",
       "Shoes            Female     5967\n",
       "                 Male       4067\n",
       "Souvenir         Female     3017\n",
       "                 Male       1982\n",
       "Technology       Female     2981\n",
       "                 Male       2015\n",
       "Toys             Female     6085\n",
       "                 Male       4002\n",
       "Name: count, dtype: int64"
      ]
     },
     "execution_count": 23,
     "metadata": {},
     "output_type": "execute_result"
    }
   ],
   "source": [
    "df.groupby('category')['gender'].value_counts()"
   ]
  },
  {
   "cell_type": "code",
   "execution_count": 24,
   "id": "86327f59",
   "metadata": {
    "execution": {
     "iopub.execute_input": "2024-08-25T15:18:43.220392Z",
     "iopub.status.busy": "2024-08-25T15:18:43.219868Z",
     "iopub.status.idle": "2024-08-25T15:18:43.657652Z",
     "shell.execute_reply": "2024-08-25T15:18:43.656123Z"
    },
    "papermill": {
     "duration": 0.463318,
     "end_time": "2024-08-25T15:18:43.661213",
     "exception": false,
     "start_time": "2024-08-25T15:18:43.197895",
     "status": "completed"
    },
    "tags": []
   },
   "outputs": [
    {
     "data": {
      "text/plain": [
       "<Axes: xlabel='category,gender'>"
      ]
     },
     "execution_count": 24,
     "metadata": {},
     "output_type": "execute_result"
    },
    {
     "data": {
      "image/png": "[encoded data removed]",
      "text/plain": [
       "<Figure size 640x480 with 1 Axes>"
      ]
     },
     "metadata": {},
     "output_type": "display_data"
    }
   ],
   "source": [
    "df.groupby('category')['gender'].value_counts().plot(kind='bar')"
   ]
  },
  {
   "cell_type": "code",
   "execution_count": 25,
   "id": "a2e0e060",
   "metadata": {
    "execution": {
     "iopub.execute_input": "2024-08-25T15:18:43.713031Z",
     "iopub.status.busy": "2024-08-25T15:18:43.712494Z",
     "iopub.status.idle": "2024-08-25T15:18:43.744128Z",
     "shell.execute_reply": "2024-08-25T15:18:43.742839Z"
    },
    "papermill": {
     "duration": 0.06245,
     "end_time": "2024-08-25T15:18:43.747578",
     "exception": false,
     "start_time": "2024-08-25T15:18:43.685128",
     "status": "completed"
    },
    "tags": []
   },
   "outputs": [
    {
     "data": {
      "text/plain": [
       "quantity  gender\n",
       "1         Female    11824\n",
       "          Male       7943\n",
       "2         Female    11812\n",
       "          Male       8016\n",
       "3         Female    12046\n",
       "          Male       8103\n",
       "4         Female    11927\n",
       "          Male       7796\n",
       "5         Female    11873\n",
       "          Male       8117\n",
       "Name: count, dtype: int64"
      ]
     },
     "execution_count": 25,
     "metadata": {},
     "output_type": "execute_result"
    }
   ],
   "source": [
    "df.groupby('quantity')['gender'].value_counts()"
   ]
  },
  {
   "cell_type": "code",
   "execution_count": 26,
   "id": "9197a8da",
   "metadata": {
    "execution": {
     "iopub.execute_input": "2024-08-25T15:18:43.797482Z",
     "iopub.status.busy": "2024-08-25T15:18:43.797005Z",
     "iopub.status.idle": "2024-08-25T15:18:44.122475Z",
     "shell.execute_reply": "2024-08-25T15:18:44.120875Z"
    },
    "papermill": {
     "duration": 0.355589,
     "end_time": "2024-08-25T15:18:44.126524",
     "exception": false,
     "start_time": "2024-08-25T15:18:43.770935",
     "status": "completed"
    },
    "tags": []
   },
   "outputs": [
    {
     "data": {
      "text/plain": [
       "<Axes: xlabel='quantity,gender'>"
      ]
     },
     "execution_count": 26,
     "metadata": {},
     "output_type": "execute_result"
    },
    {
     "data": {
      "image/png": "[encoded data removed]",
      "text/plain": [
       "<Figure size 640x480 with 1 Axes>"
      ]
     },
     "metadata": {},
     "output_type": "display_data"
    }
   ],
   "source": [
    "df.groupby('quantity')['gender'].value_counts().plot(kind='bar')"
   ]
  },
  {
   "cell_type": "code",
   "execution_count": 27,
   "id": "13ab635a",
   "metadata": {
    "execution": {
     "iopub.execute_input": "2024-08-25T15:18:44.177727Z",
     "iopub.status.busy": "2024-08-25T15:18:44.176604Z",
     "iopub.status.idle": "2024-08-25T15:18:44.208953Z",
     "shell.execute_reply": "2024-08-25T15:18:44.207358Z"
    },
    "papermill": {
     "duration": 0.06135,
     "end_time": "2024-08-25T15:18:44.211951",
     "exception": false,
     "start_time": "2024-08-25T15:18:44.150601",
     "status": "completed"
    },
    "tags": []
   },
   "outputs": [
    {
     "data": {
      "text/plain": [
       "category         quantity\n",
       "Books            5           1029\n",
       "                 2           1008\n",
       "                 3           1000\n",
       "                 1            985\n",
       "                 4            959\n",
       "Clothing         2           6950\n",
       "                 5           6940\n",
       "                 3           6907\n",
       "                 4           6849\n",
       "                 1           6841\n",
       "Cosmetics        3           3072\n",
       "                 5           3055\n",
       "                 4           3010\n",
       "                 1           2986\n",
       "                 2           2974\n",
       "Food & Beverage  1           3002\n",
       "                 3           2992\n",
       "                 5           2989\n",
       "                 2           2909\n",
       "                 4           2884\n",
       "Shoes            2           2045\n",
       "                 4           2022\n",
       "                 5           2013\n",
       "                 3           2010\n",
       "                 1           1944\n",
       "Souvenir         3           1077\n",
       "                 1           1024\n",
       "                 5            992\n",
       "                 2            984\n",
       "                 4            922\n",
       "Technology       3           1009\n",
       "                 4           1001\n",
       "                 5           1001\n",
       "                 2           1000\n",
       "                 1            985\n",
       "Toys             3           2082\n",
       "                 4           2076\n",
       "                 1           2000\n",
       "                 5           1971\n",
       "                 2           1958\n",
       "Name: count, dtype: int64"
      ]
     },
     "execution_count": 27,
     "metadata": {},
     "output_type": "execute_result"
    }
   ],
   "source": [
    "df.groupby('category')['quantity'].value_counts()"
   ]
  },
  {
   "cell_type": "code",
   "execution_count": 28,
   "id": "565ddafa",
   "metadata": {
    "execution": {
     "iopub.execute_input": "2024-08-25T15:18:44.258424Z",
     "iopub.status.busy": "2024-08-25T15:18:44.257026Z",
     "iopub.status.idle": "2024-08-25T15:18:44.973564Z",
     "shell.execute_reply": "2024-08-25T15:18:44.972264Z"
    },
    "papermill": {
     "duration": 0.743171,
     "end_time": "2024-08-25T15:18:44.976564",
     "exception": false,
     "start_time": "2024-08-25T15:18:44.233393",
     "status": "completed"
    },
    "tags": []
   },
   "outputs": [
    {
     "data": {
      "text/plain": [
       "<Axes: xlabel='category,quantity'>"
      ]
     },
     "execution_count": 28,
     "metadata": {},
     "output_type": "execute_result"
    },
    {
     "data": {
      "image/png": "[encoded data removed]",
      "text/plain": [
       "<Figure size 1600x1000 with 1 Axes>"
      ]
     },
     "metadata": {},
     "output_type": "display_data"
    }
   ],
   "source": [
    "df.groupby('category')['quantity'].value_counts().plot(kind='bar',figsize=(16,10))"
   ]
  },
  {
   "cell_type": "code",
   "execution_count": 29,
   "id": "1c93abcd",
   "metadata": {
    "execution": {
     "iopub.execute_input": "2024-08-25T15:18:45.034367Z",
     "iopub.status.busy": "2024-08-25T15:18:45.033782Z",
     "iopub.status.idle": "2024-08-25T15:18:45.063875Z",
     "shell.execute_reply": "2024-08-25T15:18:45.062392Z"
    },
    "papermill": {
     "duration": 0.064219,
     "end_time": "2024-08-25T15:18:45.067204",
     "exception": false,
     "start_time": "2024-08-25T15:18:45.002985",
     "status": "completed"
    },
    "tags": []
   },
   "outputs": [
    {
     "data": {
      "text/plain": [
       "category         price  \n",
       "Books            75.75      1029\n",
       "                 30.30      1008\n",
       "                 45.45      1000\n",
       "                 15.15       985\n",
       "                 60.60       959\n",
       "Clothing         600.16     6950\n",
       "                 1500.40    6940\n",
       "                 900.24     6907\n",
       "                 1200.32    6849\n",
       "                 300.08     6841\n",
       "Cosmetics        121.98     3072\n",
       "                 203.30     3055\n",
       "                 162.64     3010\n",
       "                 40.66      2986\n",
       "                 81.32      2974\n",
       "Food & Beverage  5.23       3002\n",
       "                 15.69      2992\n",
       "                 26.15      2989\n",
       "                 10.46      2909\n",
       "                 20.92      2884\n",
       "Shoes            1200.34    2045\n",
       "                 2400.68    2022\n",
       "                 3000.85    2013\n",
       "                 1800.51    2010\n",
       "                 600.17     1944\n",
       "Souvenir         35.19      1077\n",
       "                 11.73      1024\n",
       "                 58.65       992\n",
       "                 23.46       984\n",
       "                 46.92       922\n",
       "Technology       3150.00    1009\n",
       "                 4200.00    1001\n",
       "                 5250.00    1001\n",
       "                 2100.00    1000\n",
       "                 1050.00     985\n",
       "Toys             107.52     2082\n",
       "                 143.36     2076\n",
       "                 35.84      2000\n",
       "                 179.20     1971\n",
       "                 71.68      1958\n",
       "Name: count, dtype: int64"
      ]
     },
     "execution_count": 29,
     "metadata": {},
     "output_type": "execute_result"
    }
   ],
   "source": [
    "df.groupby('category')['price'].value_counts()"
   ]
  },
  {
   "cell_type": "code",
   "execution_count": 30,
   "id": "e511524a",
   "metadata": {
    "execution": {
     "iopub.execute_input": "2024-08-25T15:18:45.120308Z",
     "iopub.status.busy": "2024-08-25T15:18:45.119847Z",
     "iopub.status.idle": "2024-08-25T15:18:45.147713Z",
     "shell.execute_reply": "2024-08-25T15:18:45.146134Z"
    },
    "papermill": {
     "duration": 0.058536,
     "end_time": "2024-08-25T15:18:45.151277",
     "exception": false,
     "start_time": "2024-08-25T15:18:45.092741",
     "status": "completed"
    },
    "tags": []
   },
   "outputs": [
    {
     "data": {
      "text/plain": [
       "age  gender\n",
       "18   Female    1079\n",
       "     Male       765\n",
       "19   Female    1133\n",
       "     Male       803\n",
       "20   Female    1102\n",
       "               ... \n",
       "67   Male       766\n",
       "68   Female    1148\n",
       "     Male       745\n",
       "69   Female    1143\n",
       "     Male       758\n",
       "Name: count, Length: 104, dtype: int64"
      ]
     },
     "execution_count": 30,
     "metadata": {},
     "output_type": "execute_result"
    }
   ],
   "source": [
    "df.groupby('age')['gender'].value_counts()"
   ]
  },
  {
   "cell_type": "code",
   "execution_count": 31,
   "id": "801c13c2",
   "metadata": {
    "execution": {
     "iopub.execute_input": "2024-08-25T15:18:45.203376Z",
     "iopub.status.busy": "2024-08-25T15:18:45.202061Z",
     "iopub.status.idle": "2024-08-25T15:18:45.226228Z",
     "shell.execute_reply": "2024-08-25T15:18:45.224754Z"
    },
    "papermill": {
     "duration": 0.053192,
     "end_time": "2024-08-25T15:18:45.229239",
     "exception": false,
     "start_time": "2024-08-25T15:18:45.176047",
     "status": "completed"
    },
    "tags": []
   },
   "outputs": [
    {
     "data": {
      "text/plain": [
       "gender\n",
       "Female    40931801.62\n",
       "Male      27619564.29\n",
       "Name: price, dtype: float64"
      ]
     },
     "execution_count": 31,
     "metadata": {},
     "output_type": "execute_result"
    }
   ],
   "source": [
    "df.groupby('gender')['price'].sum()"
   ]
  },
  {
   "cell_type": "code",
   "execution_count": 32,
   "id": "3b1b3aed",
   "metadata": {
    "execution": {
     "iopub.execute_input": "2024-08-25T15:18:45.279580Z",
     "iopub.status.busy": "2024-08-25T15:18:45.279126Z",
     "iopub.status.idle": "2024-08-25T15:18:45.555900Z",
     "shell.execute_reply": "2024-08-25T15:18:45.554258Z"
    },
    "papermill": {
     "duration": 0.305892,
     "end_time": "2024-08-25T15:18:45.559138",
     "exception": false,
     "start_time": "2024-08-25T15:18:45.253246",
     "status": "completed"
    },
    "tags": []
   },
   "outputs": [
    {
     "data": {
      "text/plain": [
       "<Axes: xlabel='gender'>"
      ]
     },
     "execution_count": 32,
     "metadata": {},
     "output_type": "execute_result"
    },
    {
     "data": {
      "image/png": "[encoded data removed]",
      "text/plain": [
       "<Figure size 640x480 with 1 Axes>"
      ]
     },
     "metadata": {},
     "output_type": "display_data"
    }
   ],
   "source": [
    "df.groupby(\"gender\")[\"price\"].sum().plot(kind = \"bar\")"
   ]
  },
  {
   "cell_type": "code",
   "execution_count": 33,
   "id": "37806b0c",
   "metadata": {
    "execution": {
     "iopub.execute_input": "2024-08-25T15:18:45.615872Z",
     "iopub.status.busy": "2024-08-25T15:18:45.615376Z",
     "iopub.status.idle": "2024-08-25T15:18:45.651675Z",
     "shell.execute_reply": "2024-08-25T15:18:45.650442Z"
    },
    "papermill": {
     "duration": 0.067415,
     "end_time": "2024-08-25T15:18:45.654882",
     "exception": false,
     "start_time": "2024-08-25T15:18:45.587467",
     "status": "completed"
    },
    "tags": []
   },
   "outputs": [
    {
     "data": {
      "text/plain": [
       "gender  payment_method\n",
       "Female  Cash              26509\n",
       "        Credit Card       21011\n",
       "        Debit Card        11962\n",
       "Male    Cash              17938\n",
       "        Credit Card       13920\n",
       "        Debit Card         8117\n",
       "Name: count, dtype: int64"
      ]
     },
     "execution_count": 33,
     "metadata": {},
     "output_type": "execute_result"
    }
   ],
   "source": [
    "df.groupby('gender')['payment_method'].value_counts()"
   ]
  },
  {
   "cell_type": "code",
   "execution_count": 34,
   "id": "1096ff20",
   "metadata": {
    "execution": {
     "iopub.execute_input": "2024-08-25T15:18:45.708363Z",
     "iopub.status.busy": "2024-08-25T15:18:45.707912Z",
     "iopub.status.idle": "2024-08-25T15:18:46.018299Z",
     "shell.execute_reply": "2024-08-25T15:18:46.016777Z"
    },
    "papermill": {
     "duration": 0.339684,
     "end_time": "2024-08-25T15:18:46.021456",
     "exception": false,
     "start_time": "2024-08-25T15:18:45.681772",
     "status": "completed"
    },
    "tags": []
   },
   "outputs": [
    {
     "data": {
      "text/plain": [
       "<Axes: xlabel='gender,payment_method'>"
      ]
     },
     "execution_count": 34,
     "metadata": {},
     "output_type": "execute_result"
    },
    {
     "data": {
      "image/png": "[encoded data removed]",
      "text/plain": [
       "<Figure size 640x480 with 1 Axes>"
      ]
     },
     "metadata": {},
     "output_type": "display_data"
    }
   ],
   "source": [
    "df.groupby('gender')['payment_method'].value_counts().plot(kind='bar')"
   ]
  },
  {
   "cell_type": "code",
   "execution_count": 35,
   "id": "dd89d633",
   "metadata": {
    "execution": {
     "iopub.execute_input": "2024-08-25T15:18:46.074752Z",
     "iopub.status.busy": "2024-08-25T15:18:46.074334Z",
     "iopub.status.idle": "2024-08-25T15:18:46.112716Z",
     "shell.execute_reply": "2024-08-25T15:18:46.111111Z"
    },
    "papermill": {
     "duration": 0.068037,
     "end_time": "2024-08-25T15:18:46.115736",
     "exception": false,
     "start_time": "2024-08-25T15:18:46.047699",
     "status": "completed"
    },
    "tags": []
   },
   "outputs": [
    {
     "data": {
      "text/plain": [
       "category  shopping_mall    \n",
       "Books     Mall of Istanbul     1025\n",
       "          Kanyon               1013\n",
       "          Metrocity             752\n",
       "          Metropol AVM          476\n",
       "          Istinye Park          462\n",
       "                               ... \n",
       "Toys      Forum Istanbul        531\n",
       "          Viaport Outlet        515\n",
       "          Cevahir AVM           514\n",
       "          Zorlu Center          513\n",
       "          Emaar Square Mall     464\n",
       "Name: count, Length: 80, dtype: int64"
      ]
     },
     "execution_count": 35,
     "metadata": {},
     "output_type": "execute_result"
    }
   ],
   "source": [
    "df.groupby('category')['shopping_mall'].value_counts()"
   ]
  },
  {
   "cell_type": "code",
   "execution_count": 36,
   "id": "e42ebcf2",
   "metadata": {
    "execution": {
     "iopub.execute_input": "2024-08-25T15:18:46.167217Z",
     "iopub.status.busy": "2024-08-25T15:18:46.166767Z",
     "iopub.status.idle": "2024-08-25T15:18:46.942047Z",
     "shell.execute_reply": "2024-08-25T15:18:46.940410Z"
    },
    "papermill": {
     "duration": 0.80498,
     "end_time": "2024-08-25T15:18:46.945261",
     "exception": false,
     "start_time": "2024-08-25T15:18:46.140281",
     "status": "completed"
    },
    "tags": []
   },
   "outputs": [
    {
     "data": {
      "text/plain": [
       "<Axes: xlabel='category'>"
      ]
     },
     "execution_count": 36,
     "metadata": {},
     "output_type": "execute_result"
    },
    {
     "data": {
      "image/png": "[encoded data removed]",
      "text/plain": [
       "<Figure size 640x480 with 1 Axes>"
      ]
     },
     "metadata": {},
     "output_type": "display_data"
    }
   ],
   "source": [
    "pd.crosstab(df.category , df.shopping_mall).plot(kind = \"bar\" )"
   ]
  },
  {
   "cell_type": "code",
   "execution_count": 37,
   "id": "7accbd91",
   "metadata": {
    "execution": {
     "iopub.execute_input": "2024-08-25T15:18:47.064377Z",
     "iopub.status.busy": "2024-08-25T15:18:47.063791Z",
     "iopub.status.idle": "2024-08-25T15:18:47.124273Z",
     "shell.execute_reply": "2024-08-25T15:18:47.122782Z"
    },
    "papermill": {
     "duration": 0.155347,
     "end_time": "2024-08-25T15:18:47.127223",
     "exception": false,
     "start_time": "2024-08-25T15:18:46.971876",
     "status": "completed"
    },
    "tags": []
   },
   "outputs": [
    {
     "data": {
      "text/html": [
       "<div>\n",
       "<style scoped>\n",
       "    .dataframe tbody tr th:only-of-type {\n",
       "        vertical-align: middle;\n",
       "    }\n",
       "\n",
       "    .dataframe tbody tr th {\n",
       "        vertical-align: top;\n",
       "    }\n",
       "\n",
       "    .dataframe thead th {\n",
       "        text-align: right;\n",
       "    }\n",
       "</style>\n",
       "<table border=\"1\" class=\"dataframe\">\n",
       "  <thead>\n",
       "    <tr style=\"text-align: right;\">\n",
       "      <th>shopping_mall</th>\n",
       "      <th>Cevahir AVM</th>\n",
       "      <th>Emaar Square Mall</th>\n",
       "      <th>Forum Istanbul</th>\n",
       "      <th>Istinye Park</th>\n",
       "      <th>Kanyon</th>\n",
       "      <th>Mall of Istanbul</th>\n",
       "      <th>Metrocity</th>\n",
       "      <th>Metropol AVM</th>\n",
       "      <th>Viaport Outlet</th>\n",
       "      <th>Zorlu Center</th>\n",
       "    </tr>\n",
       "    <tr>\n",
       "      <th>payment_method</th>\n",
       "      <th></th>\n",
       "      <th></th>\n",
       "      <th></th>\n",
       "      <th></th>\n",
       "      <th></th>\n",
       "      <th></th>\n",
       "      <th></th>\n",
       "      <th></th>\n",
       "      <th></th>\n",
       "      <th></th>\n",
       "    </tr>\n",
       "  </thead>\n",
       "  <tbody>\n",
       "    <tr>\n",
       "      <th>Cash</th>\n",
       "      <td>2228</td>\n",
       "      <td>2114</td>\n",
       "      <td>2183</td>\n",
       "      <td>4436</td>\n",
       "      <td>8853</td>\n",
       "      <td>8894</td>\n",
       "      <td>6625</td>\n",
       "      <td>4559</td>\n",
       "      <td>2231</td>\n",
       "      <td>2324</td>\n",
       "    </tr>\n",
       "    <tr>\n",
       "      <th>Credit Card</th>\n",
       "      <td>1779</td>\n",
       "      <td>1696</td>\n",
       "      <td>1750</td>\n",
       "      <td>3422</td>\n",
       "      <td>6916</td>\n",
       "      <td>7019</td>\n",
       "      <td>5347</td>\n",
       "      <td>3521</td>\n",
       "      <td>1721</td>\n",
       "      <td>1760</td>\n",
       "    </tr>\n",
       "    <tr>\n",
       "      <th>Debit Card</th>\n",
       "      <td>984</td>\n",
       "      <td>1001</td>\n",
       "      <td>1014</td>\n",
       "      <td>1923</td>\n",
       "      <td>4054</td>\n",
       "      <td>4030</td>\n",
       "      <td>3039</td>\n",
       "      <td>2081</td>\n",
       "      <td>962</td>\n",
       "      <td>991</td>\n",
       "    </tr>\n",
       "  </tbody>\n",
       "</table>\n",
       "</div>"
      ],
      "text/plain": [
       "shopping_mall   Cevahir AVM  Emaar Square Mall  Forum Istanbul  Istinye Park  \\\n",
       "payment_method                                                                 \n",
       "Cash                   2228               2114            2183          4436   \n",
       "Credit Card            1779               1696            1750          3422   \n",
       "Debit Card              984               1001            1014          1923   \n",
       "\n",
       "shopping_mall   Kanyon  Mall of Istanbul  Metrocity  Metropol AVM  \\\n",
       "payment_method                                                      \n",
       "Cash              8853              8894       6625          4559   \n",
       "Credit Card       6916              7019       5347          3521   \n",
       "Debit Card        4054              4030       3039          2081   \n",
       "\n",
       "shopping_mall   Viaport Outlet  Zorlu Center  \n",
       "payment_method                                \n",
       "Cash                      2231          2324  \n",
       "Credit Card               1721          1760  \n",
       "Debit Card                 962           991  "
      ]
     },
     "execution_count": 37,
     "metadata": {},
     "output_type": "execute_result"
    }
   ],
   "source": [
    "pd.crosstab(df.payment_method , df.shopping_mall)"
   ]
  },
  {
   "cell_type": "code",
   "execution_count": 38,
   "id": "4b60d868",
   "metadata": {
    "execution": {
     "iopub.execute_input": "2024-08-25T15:18:47.182938Z",
     "iopub.status.busy": "2024-08-25T15:18:47.182486Z",
     "iopub.status.idle": "2024-08-25T15:18:47.651265Z",
     "shell.execute_reply": "2024-08-25T15:18:47.649645Z"
    },
    "papermill": {
     "duration": 0.500234,
     "end_time": "2024-08-25T15:18:47.654408",
     "exception": false,
     "start_time": "2024-08-25T15:18:47.154174",
     "status": "completed"
    },
    "tags": []
   },
   "outputs": [
    {
     "data": {
      "text/plain": [
       "<Axes: xlabel='payment_method'>"
      ]
     },
     "execution_count": 38,
     "metadata": {},
     "output_type": "execute_result"
    },
    {
     "data": {
      "image/png": "[encoded data removed]",
      "text/plain": [
       "<Figure size 640x480 with 1 Axes>"
      ]
     },
     "metadata": {},
     "output_type": "display_data"
    }
   ],
   "source": [
    "pd.crosstab(df.payment_method , df.shopping_mall).plot(kind='bar')"
   ]
  },
  {
   "cell_type": "code",
   "execution_count": 39,
   "id": "3de4c17d",
   "metadata": {
    "execution": {
     "iopub.execute_input": "2024-08-25T15:18:47.719342Z",
     "iopub.status.busy": "2024-08-25T15:18:47.718824Z",
     "iopub.status.idle": "2024-08-25T15:18:47.762669Z",
     "shell.execute_reply": "2024-08-25T15:18:47.760855Z"
    },
    "papermill": {
     "duration": 0.081533,
     "end_time": "2024-08-25T15:18:47.766188",
     "exception": false,
     "start_time": "2024-08-25T15:18:47.684655",
     "status": "completed"
    },
    "tags": []
   },
   "outputs": [
    {
     "data": {
      "text/html": [
       "<div>\n",
       "<style scoped>\n",
       "    .dataframe tbody tr th:only-of-type {\n",
       "        vertical-align: middle;\n",
       "    }\n",
       "\n",
       "    .dataframe tbody tr th {\n",
       "        vertical-align: top;\n",
       "    }\n",
       "\n",
       "    .dataframe thead th {\n",
       "        text-align: right;\n",
       "    }\n",
       "</style>\n",
       "<table border=\"1\" class=\"dataframe\">\n",
       "  <thead>\n",
       "    <tr style=\"text-align: right;\">\n",
       "      <th></th>\n",
       "      <th></th>\n",
       "      <th>price</th>\n",
       "    </tr>\n",
       "    <tr>\n",
       "      <th>gender</th>\n",
       "      <th>category</th>\n",
       "      <th></th>\n",
       "    </tr>\n",
       "  </thead>\n",
       "  <tbody>\n",
       "    <tr>\n",
       "      <th rowspan=\"8\" valign=\"top\">Female</th>\n",
       "      <th>Books</th>\n",
       "      <td>132956.40</td>\n",
       "    </tr>\n",
       "    <tr>\n",
       "      <th>Clothing</th>\n",
       "      <td>18616663.12</td>\n",
       "    </tr>\n",
       "    <tr>\n",
       "      <th>Cosmetics</th>\n",
       "      <td>1108432.26</td>\n",
       "    </tr>\n",
       "    <tr>\n",
       "      <th>Food &amp; Beverage</th>\n",
       "      <td>137873.26</td>\n",
       "    </tr>\n",
       "    <tr>\n",
       "      <th>Shoes</th>\n",
       "      <td>10746644.02</td>\n",
       "    </tr>\n",
       "    <tr>\n",
       "      <th>Souvenir</th>\n",
       "      <td>105288.48</td>\n",
       "    </tr>\n",
       "    <tr>\n",
       "      <th>Technology</th>\n",
       "      <td>9425850.00</td>\n",
       "    </tr>\n",
       "    <tr>\n",
       "      <th>Toys</th>\n",
       "      <td>658094.08</td>\n",
       "    </tr>\n",
       "    <tr>\n",
       "      <th rowspan=\"8\" valign=\"top\">Male</th>\n",
       "      <th>Books</th>\n",
       "      <td>94020.90</td>\n",
       "    </tr>\n",
       "    <tr>\n",
       "      <th>Clothing</th>\n",
       "      <td>12459021.52</td>\n",
       "    </tr>\n",
       "    <tr>\n",
       "      <th>Cosmetics</th>\n",
       "      <td>740174.64</td>\n",
       "    </tr>\n",
       "    <tr>\n",
       "      <th>Food &amp; Beverage</th>\n",
       "      <td>93695.45</td>\n",
       "    </tr>\n",
       "    <tr>\n",
       "      <th>Shoes</th>\n",
       "      <td>7388692.87</td>\n",
       "    </tr>\n",
       "    <tr>\n",
       "      <th>Souvenir</th>\n",
       "      <td>69148.35</td>\n",
       "    </tr>\n",
       "    <tr>\n",
       "      <th>Technology</th>\n",
       "      <td>6346200.00</td>\n",
       "    </tr>\n",
       "    <tr>\n",
       "      <th>Toys</th>\n",
       "      <td>428610.56</td>\n",
       "    </tr>\n",
       "  </tbody>\n",
       "</table>\n",
       "</div>"
      ],
      "text/plain": [
       "                              price\n",
       "gender category                    \n",
       "Female Books              132956.40\n",
       "       Clothing         18616663.12\n",
       "       Cosmetics         1108432.26\n",
       "       Food & Beverage    137873.26\n",
       "       Shoes            10746644.02\n",
       "       Souvenir           105288.48\n",
       "       Technology        9425850.00\n",
       "       Toys               658094.08\n",
       "Male   Books               94020.90\n",
       "       Clothing         12459021.52\n",
       "       Cosmetics          740174.64\n",
       "       Food & Beverage     93695.45\n",
       "       Shoes             7388692.87\n",
       "       Souvenir            69148.35\n",
       "       Technology        6346200.00\n",
       "       Toys               428610.56"
      ]
     },
     "execution_count": 39,
     "metadata": {},
     "output_type": "execute_result"
    }
   ],
   "source": [
    "df.groupby([\"gender\", \"category\"])[[\"price\"]].sum()"
   ]
  },
  {
   "cell_type": "code",
   "execution_count": null,
   "id": "52f90d73",
   "metadata": {
    "papermill": {
     "duration": 0.029428,
     "end_time": "2024-08-25T15:18:47.826510",
     "exception": false,
     "start_time": "2024-08-25T15:18:47.797082",
     "status": "completed"
    },
    "tags": []
   },
   "outputs": [],
   "source": []
  }
 ],
 "metadata": {
  "kaggle": {
   "accelerator": "none",
   "dataSources": [
    {
     "datasetId": 2980151,
     "sourceId": 5132961,
     "sourceType": "datasetVersion"
    }
   ],
   "dockerImageVersionId": 30761,
   "isGpuEnabled": false,
   "isInternetEnabled": true,
   "language": "python",
   "sourceType": "notebook"
  },
  "kernelspec": {
   "display_name": "Python 3",
   "language": "python",
   "name": "python3"
  },
  "language_info": {
   "codemirror_mode": {
    "name": "ipython",
    "version": 3
   },
   "file_extension": ".py",
   "mimetype": "text/x-python",
   "name": "python",
   "nbconvert_exporter": "python",
   "pygments_lexer": "ipython3",
   "version": "3.10.14"
  },
  "papermill": {
   "default_parameters": {},
   "duration": 15.848858,
   "end_time": "2024-08-25T15:18:48.884610",
   "environment_variables": {},
   "exception": null,
   "input_path": "__notebook__.ipynb",
   "output_path": "__notebook__.ipynb",
   "parameters": {},
   "start_time": "2024-08-25T15:18:33.035752",
   "version": "2.6.0"
  }
 },
 "nbformat": 4,
 "nbformat_minor": 5
}
